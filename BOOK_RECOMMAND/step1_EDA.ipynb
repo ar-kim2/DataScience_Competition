{
 "cells": [
  {
   "cell_type": "markdown",
   "id": "f75464e2-91ed-4f9a-a413-513b211614f3",
   "metadata": {},
   "source": [
    "<font size =6><b>제2회 코스포 x 데이콘 도서 추천 알고리즘 AI경진대회"
   ]
  },
  {
   "cell_type": "markdown",
   "id": "689fac8e-37ce-469c-b3f5-f30c7e006ff8",
   "metadata": {},
   "source": [
    "* ref: https://dacon.io/competitions/official/236093/overview/description"
   ]
  },
  {
   "cell_type": "markdown",
   "id": "2443aa5d-4718-444e-8f87-c22731ba6a53",
   "metadata": {},
   "source": [
    "* ID : 샘플 고유 ID\n",
    "* User-ID : 유저 고유 ID\n",
    "* Book-ID : 도서 고유 ID\n",
    "* 유저 정보\n",
    "    * Age : 나이\n",
    "    * Location : 지역\n",
    "* 도서 정보\n",
    "    * Book-Title : 도서 명\n",
    "    * Book-Author : 도서 저자\n",
    "    * Year-Of-Publication : 도서 출판 년도 (-1일 경우 결측 혹은 알 수 없음)\n",
    "    * Publisher : 출판사\n",
    "    * Book-Rating : 유저가 도서에 부여한 평점 (0점 ~ 10점)"
   ]
  },
  {
   "cell_type": "markdown",
   "id": "69abe7f6-0a0a-4026-a664-68da54ac8d18",
   "metadata": {},
   "source": [
    "# Data Load"
   ]
  },
  {
   "cell_type": "code",
   "execution_count": 1,
   "id": "ab3f86a2-ccaf-4086-9838-4a14a796dd76",
   "metadata": {
    "tags": []
   },
   "outputs": [],
   "source": [
    "import pandas as pd\n",
    "import numpy as np\n",
    "\n",
    "import matplotlib.pyplot as plt\n",
    "import seaborn as sns\n",
    "\n",
    "import warnings\n",
    "warnings.filterwarnings(action='ignore')\n",
    "\n",
    "sns.set() \n",
    "#-------------------- 차트 관련 속성 (한글처리, 그리드) -----------\n",
    "plt.rcParams['font.family']= 'Malgun Gothic'  # 한글 처리\n",
    "plt.rcParams['axes.unicode_minus'] = False  # -, $ 등등에 표현 특수기호로 버리지 말고 다 써줘라."
   ]
  },
  {
   "cell_type": "code",
   "execution_count": 2,
   "id": "ba04ea3f-d954-45d9-9758-2d361bd9e75f",
   "metadata": {},
   "outputs": [],
   "source": [
    "from sklearn.preprocessing import LabelEncoder\n",
    "from sklearn.preprocessing import OneHotEncoder"
   ]
  },
  {
   "cell_type": "code",
   "execution_count": 3,
   "id": "25c57a32-15d5-42b5-a3d0-c112b96f3c29",
   "metadata": {
    "tags": []
   },
   "outputs": [
    {
     "data": {
      "text/html": [
       "<div>\n",
       "<style scoped>\n",
       "    .dataframe tbody tr th:only-of-type {\n",
       "        vertical-align: middle;\n",
       "    }\n",
       "\n",
       "    .dataframe tbody tr th {\n",
       "        vertical-align: top;\n",
       "    }\n",
       "\n",
       "    .dataframe thead th {\n",
       "        text-align: right;\n",
       "    }\n",
       "</style>\n",
       "<table border=\"1\" class=\"dataframe\">\n",
       "  <thead>\n",
       "    <tr style=\"text-align: right;\">\n",
       "      <th></th>\n",
       "      <th>ID</th>\n",
       "      <th>User-ID</th>\n",
       "      <th>Book-ID</th>\n",
       "      <th>Book-Rating</th>\n",
       "      <th>Age</th>\n",
       "      <th>Location</th>\n",
       "      <th>Book-Title</th>\n",
       "      <th>Book-Author</th>\n",
       "      <th>Year-Of-Publication</th>\n",
       "      <th>Publisher</th>\n",
       "    </tr>\n",
       "  </thead>\n",
       "  <tbody>\n",
       "    <tr>\n",
       "      <th>0</th>\n",
       "      <td>TRAIN_000000</td>\n",
       "      <td>USER_00000</td>\n",
       "      <td>BOOK_044368</td>\n",
       "      <td>8</td>\n",
       "      <td>23.0</td>\n",
       "      <td>sackville, new brunswick, canada</td>\n",
       "      <td>Road Taken</td>\n",
       "      <td>Rona Jaffe</td>\n",
       "      <td>2001.0</td>\n",
       "      <td>Mira</td>\n",
       "    </tr>\n",
       "    <tr>\n",
       "      <th>1</th>\n",
       "      <td>TRAIN_000001</td>\n",
       "      <td>USER_00000</td>\n",
       "      <td>BOOK_081205</td>\n",
       "      <td>8</td>\n",
       "      <td>23.0</td>\n",
       "      <td>sackville, new brunswick, canada</td>\n",
       "      <td>Macbeth (New Penguin Shakespeare)</td>\n",
       "      <td>William Shakespeare</td>\n",
       "      <td>1981.0</td>\n",
       "      <td>Penguin Books</td>\n",
       "    </tr>\n",
       "    <tr>\n",
       "      <th>2</th>\n",
       "      <td>TRAIN_000002</td>\n",
       "      <td>USER_00000</td>\n",
       "      <td>BOOK_086781</td>\n",
       "      <td>0</td>\n",
       "      <td>23.0</td>\n",
       "      <td>sackville, new brunswick, canada</td>\n",
       "      <td>Waverley (Penguin English Library)</td>\n",
       "      <td>Walter Scott</td>\n",
       "      <td>1981.0</td>\n",
       "      <td>Penguin Books</td>\n",
       "    </tr>\n",
       "    <tr>\n",
       "      <th>3</th>\n",
       "      <td>TRAIN_000003</td>\n",
       "      <td>USER_00000</td>\n",
       "      <td>BOOK_098622</td>\n",
       "      <td>0</td>\n",
       "      <td>23.0</td>\n",
       "      <td>sackville, new brunswick, canada</td>\n",
       "      <td>Mother Earth Father Sky</td>\n",
       "      <td>Sue Harrison</td>\n",
       "      <td>1991.0</td>\n",
       "      <td>Avon</td>\n",
       "    </tr>\n",
       "    <tr>\n",
       "      <th>4</th>\n",
       "      <td>TRAIN_000004</td>\n",
       "      <td>USER_00000</td>\n",
       "      <td>BOOK_180810</td>\n",
       "      <td>8</td>\n",
       "      <td>23.0</td>\n",
       "      <td>sackville, new brunswick, canada</td>\n",
       "      <td>She Who Remembers</td>\n",
       "      <td>Linda Lay Shuler</td>\n",
       "      <td>1989.0</td>\n",
       "      <td>Signet Book</td>\n",
       "    </tr>\n",
       "  </tbody>\n",
       "</table>\n",
       "</div>"
      ],
      "text/plain": [
       "             ID     User-ID      Book-ID  Book-Rating   Age  \\\n",
       "0  TRAIN_000000  USER_00000  BOOK_044368            8  23.0   \n",
       "1  TRAIN_000001  USER_00000  BOOK_081205            8  23.0   \n",
       "2  TRAIN_000002  USER_00000  BOOK_086781            0  23.0   \n",
       "3  TRAIN_000003  USER_00000  BOOK_098622            0  23.0   \n",
       "4  TRAIN_000004  USER_00000  BOOK_180810            8  23.0   \n",
       "\n",
       "                           Location                          Book-Title  \\\n",
       "0  sackville, new brunswick, canada                          Road Taken   \n",
       "1  sackville, new brunswick, canada   Macbeth (New Penguin Shakespeare)   \n",
       "2  sackville, new brunswick, canada  Waverley (Penguin English Library)   \n",
       "3  sackville, new brunswick, canada             Mother Earth Father Sky   \n",
       "4  sackville, new brunswick, canada                   She Who Remembers   \n",
       "\n",
       "           Book-Author  Year-Of-Publication      Publisher  \n",
       "0           Rona Jaffe               2001.0           Mira  \n",
       "1  William Shakespeare               1981.0  Penguin Books  \n",
       "2         Walter Scott               1981.0  Penguin Books  \n",
       "3         Sue Harrison               1991.0           Avon  \n",
       "4     Linda Lay Shuler               1989.0    Signet Book  "
      ]
     },
     "execution_count": 3,
     "metadata": {},
     "output_type": "execute_result"
    }
   ],
   "source": [
    "train = pd.read_csv('./datasets/train.csv')\n",
    "test = pd.read_csv('./datasets/test.csv')\n",
    "train.head()"
   ]
  },
  {
   "cell_type": "code",
   "execution_count": 4,
   "id": "abc50acd-bd5e-4496-9fcc-11965757b8eb",
   "metadata": {
    "tags": []
   },
   "outputs": [
    {
     "name": "stdout",
     "output_type": "stream",
     "text": [
      "<class 'pandas.core.frame.DataFrame'>\n",
      "RangeIndex: 871393 entries, 0 to 871392\n",
      "Data columns (total 10 columns):\n",
      " #   Column               Non-Null Count   Dtype  \n",
      "---  ------               --------------   -----  \n",
      " 0   ID                   871393 non-null  object \n",
      " 1   User-ID              871393 non-null  object \n",
      " 2   Book-ID              871393 non-null  object \n",
      " 3   Book-Rating          871393 non-null  int64  \n",
      " 4   Age                  871393 non-null  float64\n",
      " 5   Location             871393 non-null  object \n",
      " 6   Book-Title           871393 non-null  object \n",
      " 7   Book-Author          871393 non-null  object \n",
      " 8   Year-Of-Publication  871393 non-null  float64\n",
      " 9   Publisher            871393 non-null  object \n",
      "dtypes: float64(2), int64(1), object(7)\n",
      "memory usage: 66.5+ MB\n"
     ]
    }
   ],
   "source": [
    "train.info()"
   ]
  },
  {
   "cell_type": "code",
   "execution_count": 5,
   "id": "7bcfdf4f-4956-4c03-a258-4db2ef972c8d",
   "metadata": {
    "tags": []
   },
   "outputs": [
    {
     "data": {
      "text/plain": [
       "20971"
      ]
     },
     "execution_count": 5,
     "metadata": {},
     "output_type": "execute_result"
    }
   ],
   "source": [
    "train['Location'].nunique()"
   ]
  },
  {
   "cell_type": "markdown",
   "id": "28652ea8-8c5d-472b-9ec7-e5aae00c75a3",
   "metadata": {},
   "source": [
    "# User Feature"
   ]
  },
  {
   "cell_type": "markdown",
   "id": "90101c55-dee0-45eb-b84d-c4c56a09d9c8",
   "metadata": {},
   "source": [
    "## Age\n",
    "* 구간화해서 OnehotEncoding하거나, 그냥 사용.\n",
    "    * Tree Model은 OnehotEncoding 중요하지 않을 수도 있으니까"
   ]
  },
  {
   "cell_type": "code",
   "execution_count": null,
   "id": "790066ec-8a8d-467d-87b8-252de9743460",
   "metadata": {},
   "outputs": [],
   "source": []
  },
  {
   "cell_type": "code",
   "execution_count": null,
   "id": "2f895752-07d0-49fc-ac4c-ac1ef5f8eae1",
   "metadata": {},
   "outputs": [],
   "source": []
  },
  {
   "cell_type": "code",
   "execution_count": null,
   "id": "7c6c4ac0-666a-406a-a7fc-e3285b79f058",
   "metadata": {},
   "outputs": [],
   "source": []
  },
  {
   "cell_type": "markdown",
   "id": "e0f08a15-c8ee-42e8-8eac-2fbb6134714a",
   "metadata": {},
   "source": [
    "## Location\n",
    "* 전부 OnehotEncoding 하면 너무 많음.\n",
    "    * 나라기준, 10개 국가로 나눔."
   ]
  },
  {
   "cell_type": "code",
   "execution_count": 256,
   "id": "74c55dd0-fab2-4aa9-8f2e-65cf1b4a5cd6",
   "metadata": {},
   "outputs": [
    {
     "data": {
      "text/plain": [
       "usa               630044\n",
       "canada             78571\n",
       "kingdom            27050\n",
       "germany            23471\n",
       "australia          15270\n",
       "                   ...  \n",
       "mateo                  1\n",
       "liguria,               1\n",
       "hertfordshire,         1\n",
       "unknown                1\n",
       "milano,                1\n",
       "Name: Location, Length: 424, dtype: int64"
      ]
     },
     "execution_count": 256,
     "metadata": {},
     "output_type": "execute_result"
    }
   ],
   "source": [
    "temp = train['Location'].str.split()\n",
    "temp = temp.apply(lambda x:x[-1])\n",
    "vc_list = temp.value_counts()\n",
    "vc_list"
   ]
  },
  {
   "cell_type": "code",
   "execution_count": 258,
   "id": "500217d6-b2b0-4e6a-9943-1ed73c080a8d",
   "metadata": {
    "tags": []
   },
   "outputs": [
    {
     "data": {
      "text/plain": [
       "spain             12520\n",
       "n/a               11176\n",
       "france             8965\n",
       "portugal           5974\n",
       "zealand            4676\n",
       "                  ...  \n",
       "mateo                 1\n",
       "liguria,              1\n",
       "hertfordshire,        1\n",
       "unknown               1\n",
       "milano,               1\n",
       "Name: Location, Length: 418, dtype: int64"
      ]
     },
     "execution_count": 258,
     "metadata": {},
     "output_type": "execute_result"
    }
   ],
   "source": [
    "vc_list[vc_list < 15000] "
   ]
  },
  {
   "cell_type": "code",
   "execution_count": 251,
   "id": "6a6a1373-556c-4bbe-af40-e3cd8a382185",
   "metadata": {},
   "outputs": [
    {
     "data": {
      "text/plain": [
       "424"
      ]
     },
     "execution_count": 251,
     "metadata": {},
     "output_type": "execute_result"
    }
   ],
   "source": [
    "temp.nunique()"
   ]
  },
  {
   "cell_type": "code",
   "execution_count": 253,
   "id": "1fcd6864-8457-4dac-8a3a-59ddebd035cb",
   "metadata": {},
   "outputs": [
    {
     "data": {
      "text/plain": [
       "usa                    116389\n",
       "canada                  14419\n",
       "kingdom                  6007\n",
       "germany                  4187\n",
       "australia                2957\n",
       "                        ...  \n",
       "zimbabwe                    1\n",
       "franicsco                   1\n",
       "morocco                     1\n",
       "tonga                       1\n",
       "schleswig-holstein,         1\n",
       "Name: Location, Length: 232, dtype: int64"
      ]
     },
     "execution_count": 253,
     "metadata": {},
     "output_type": "execute_result"
    }
   ],
   "source": [
    "temp = test['Location'].str.split()\n",
    "temp = temp.apply(lambda x:x[-1])\n",
    "temp.value_counts()"
   ]
  },
  {
   "cell_type": "code",
   "execution_count": 254,
   "id": "b10277f4-9d33-4f91-a081-b54e3279848c",
   "metadata": {
    "tags": []
   },
   "outputs": [
    {
     "data": {
      "text/plain": [
       "232"
      ]
     },
     "execution_count": 254,
     "metadata": {},
     "output_type": "execute_result"
    }
   ],
   "source": [
    "temp.nunique()"
   ]
  },
  {
   "cell_type": "markdown",
   "id": "2cece082-ffab-44e5-a492-279dfdd7ff6c",
   "metadata": {
    "tags": []
   },
   "source": [
    "# Book Feature"
   ]
  },
  {
   "cell_type": "code",
   "execution_count": 6,
   "id": "fd6896d5-4b83-4fb5-a52f-8883031ff972",
   "metadata": {
    "tags": []
   },
   "outputs": [
    {
     "data": {
      "text/plain": [
       "243441"
      ]
     },
     "execution_count": 6,
     "metadata": {},
     "output_type": "execute_result"
    }
   ],
   "source": [
    "train['Book-ID'].nunique()"
   ]
  },
  {
   "cell_type": "code",
   "execution_count": 7,
   "id": "577f84b6-d324-488d-8e7e-171cfad268a3",
   "metadata": {
    "tags": []
   },
   "outputs": [
    {
     "data": {
      "text/plain": [
       "array(['BOOK_044368', 'BOOK_081205', 'BOOK_086781', 'BOOK_098622',\n",
       "       'BOOK_180810', 'BOOK_206799', 'BOOK_239414', 'BOOK_269070',\n",
       "       'BOOK_190739', 'BOOK_210079'], dtype=object)"
      ]
     },
     "execution_count": 7,
     "metadata": {},
     "output_type": "execute_result"
    }
   ],
   "source": [
    "train['Book-ID'].unique()[:10]"
   ]
  },
  {
   "cell_type": "code",
   "execution_count": 8,
   "id": "94384328-79eb-477f-a010-14687a305f07",
   "metadata": {
    "tags": []
   },
   "outputs": [
    {
     "data": {
      "text/html": [
       "<div>\n",
       "<style scoped>\n",
       "    .dataframe tbody tr th:only-of-type {\n",
       "        vertical-align: middle;\n",
       "    }\n",
       "\n",
       "    .dataframe tbody tr th {\n",
       "        vertical-align: top;\n",
       "    }\n",
       "\n",
       "    .dataframe thead th {\n",
       "        text-align: right;\n",
       "    }\n",
       "</style>\n",
       "<table border=\"1\" class=\"dataframe\">\n",
       "  <thead>\n",
       "    <tr style=\"text-align: right;\">\n",
       "      <th></th>\n",
       "      <th>ID</th>\n",
       "      <th>User-ID</th>\n",
       "      <th>Book-ID</th>\n",
       "      <th>Book-Rating</th>\n",
       "      <th>Age</th>\n",
       "      <th>Location</th>\n",
       "      <th>Book-Title</th>\n",
       "      <th>Book-Author</th>\n",
       "      <th>Year-Of-Publication</th>\n",
       "      <th>Publisher</th>\n",
       "    </tr>\n",
       "  </thead>\n",
       "  <tbody>\n",
       "    <tr>\n",
       "      <th>1</th>\n",
       "      <td>TRAIN_000001</td>\n",
       "      <td>USER_00000</td>\n",
       "      <td>BOOK_081205</td>\n",
       "      <td>8</td>\n",
       "      <td>23.0</td>\n",
       "      <td>sackville, new brunswick, canada</td>\n",
       "      <td>Macbeth (New Penguin Shakespeare)</td>\n",
       "      <td>William Shakespeare</td>\n",
       "      <td>1981.0</td>\n",
       "      <td>Penguin Books</td>\n",
       "    </tr>\n",
       "    <tr>\n",
       "      <th>174204</th>\n",
       "      <td>TRAIN_174204</td>\n",
       "      <td>USER_18723</td>\n",
       "      <td>BOOK_081205</td>\n",
       "      <td>0</td>\n",
       "      <td>35.0</td>\n",
       "      <td>stuttgart, baden-württemberg, germany</td>\n",
       "      <td>Macbeth (New Penguin Shakespeare)</td>\n",
       "      <td>William Shakespeare</td>\n",
       "      <td>1981.0</td>\n",
       "      <td>Penguin Books</td>\n",
       "    </tr>\n",
       "    <tr>\n",
       "      <th>570922</th>\n",
       "      <td>TRAIN_570922</td>\n",
       "      <td>USER_58487</td>\n",
       "      <td>BOOK_081205</td>\n",
       "      <td>7</td>\n",
       "      <td>35.0</td>\n",
       "      <td>east victoria park, western australia, australia</td>\n",
       "      <td>Macbeth (New Penguin Shakespeare)</td>\n",
       "      <td>William Shakespeare</td>\n",
       "      <td>1981.0</td>\n",
       "      <td>Penguin Books</td>\n",
       "    </tr>\n",
       "    <tr>\n",
       "      <th>716817</th>\n",
       "      <td>TRAIN_716817</td>\n",
       "      <td>USER_74400</td>\n",
       "      <td>BOOK_081205</td>\n",
       "      <td>0</td>\n",
       "      <td>32.0</td>\n",
       "      <td>eastbourne, england, united kingdom</td>\n",
       "      <td>Macbeth (New Penguin Shakespeare)</td>\n",
       "      <td>William Shakespeare</td>\n",
       "      <td>1981.0</td>\n",
       "      <td>Penguin Books</td>\n",
       "    </tr>\n",
       "    <tr>\n",
       "      <th>745108</th>\n",
       "      <td>TRAIN_745108</td>\n",
       "      <td>USER_77330</td>\n",
       "      <td>BOOK_081205</td>\n",
       "      <td>0</td>\n",
       "      <td>31.0</td>\n",
       "      <td>farnborough, hampshire, united kingdom</td>\n",
       "      <td>Macbeth (New Penguin Shakespeare)</td>\n",
       "      <td>William Shakespeare</td>\n",
       "      <td>1981.0</td>\n",
       "      <td>Penguin Books</td>\n",
       "    </tr>\n",
       "    <tr>\n",
       "      <th>760612</th>\n",
       "      <td>TRAIN_760612</td>\n",
       "      <td>USER_79395</td>\n",
       "      <td>BOOK_081205</td>\n",
       "      <td>9</td>\n",
       "      <td>25.0</td>\n",
       "      <td>zeist, utrecht, netherlands</td>\n",
       "      <td>Macbeth (New Penguin Shakespeare)</td>\n",
       "      <td>William Shakespeare</td>\n",
       "      <td>1981.0</td>\n",
       "      <td>Penguin Books</td>\n",
       "    </tr>\n",
       "  </tbody>\n",
       "</table>\n",
       "</div>"
      ],
      "text/plain": [
       "                  ID     User-ID      Book-ID  Book-Rating   Age  \\\n",
       "1       TRAIN_000001  USER_00000  BOOK_081205            8  23.0   \n",
       "174204  TRAIN_174204  USER_18723  BOOK_081205            0  35.0   \n",
       "570922  TRAIN_570922  USER_58487  BOOK_081205            7  35.0   \n",
       "716817  TRAIN_716817  USER_74400  BOOK_081205            0  32.0   \n",
       "745108  TRAIN_745108  USER_77330  BOOK_081205            0  31.0   \n",
       "760612  TRAIN_760612  USER_79395  BOOK_081205            9  25.0   \n",
       "\n",
       "                                                Location  \\\n",
       "1                       sackville, new brunswick, canada   \n",
       "174204             stuttgart, baden-württemberg, germany   \n",
       "570922  east victoria park, western australia, australia   \n",
       "716817               eastbourne, england, united kingdom   \n",
       "745108            farnborough, hampshire, united kingdom   \n",
       "760612                       zeist, utrecht, netherlands   \n",
       "\n",
       "                               Book-Title          Book-Author  \\\n",
       "1       Macbeth (New Penguin Shakespeare)  William Shakespeare   \n",
       "174204  Macbeth (New Penguin Shakespeare)  William Shakespeare   \n",
       "570922  Macbeth (New Penguin Shakespeare)  William Shakespeare   \n",
       "716817  Macbeth (New Penguin Shakespeare)  William Shakespeare   \n",
       "745108  Macbeth (New Penguin Shakespeare)  William Shakespeare   \n",
       "760612  Macbeth (New Penguin Shakespeare)  William Shakespeare   \n",
       "\n",
       "        Year-Of-Publication      Publisher  \n",
       "1                    1981.0  Penguin Books  \n",
       "174204               1981.0  Penguin Books  \n",
       "570922               1981.0  Penguin Books  \n",
       "716817               1981.0  Penguin Books  \n",
       "745108               1981.0  Penguin Books  \n",
       "760612               1981.0  Penguin Books  "
      ]
     },
     "execution_count": 8,
     "metadata": {},
     "output_type": "execute_result"
    }
   ],
   "source": [
    "train[train['Book-ID']=='BOOK_081205']"
   ]
  },
  {
   "cell_type": "code",
   "execution_count": 10,
   "id": "b8876dac-7efb-4818-a378-258fa3688a4d",
   "metadata": {
    "tags": []
   },
   "outputs": [
    {
     "data": {
      "text/html": [
       "<div>\n",
       "<style scoped>\n",
       "    .dataframe tbody tr th:only-of-type {\n",
       "        vertical-align: middle;\n",
       "    }\n",
       "\n",
       "    .dataframe tbody tr th {\n",
       "        vertical-align: top;\n",
       "    }\n",
       "\n",
       "    .dataframe thead th {\n",
       "        text-align: right;\n",
       "    }\n",
       "</style>\n",
       "<table border=\"1\" class=\"dataframe\">\n",
       "  <thead>\n",
       "    <tr style=\"text-align: right;\">\n",
       "      <th></th>\n",
       "      <th>ID</th>\n",
       "      <th>User-ID</th>\n",
       "      <th>Book-ID</th>\n",
       "      <th>Book-Rating</th>\n",
       "      <th>Age</th>\n",
       "      <th>Location</th>\n",
       "      <th>Book-Title</th>\n",
       "      <th>Book-Author</th>\n",
       "      <th>Year-Of-Publication</th>\n",
       "      <th>Publisher</th>\n",
       "    </tr>\n",
       "  </thead>\n",
       "  <tbody>\n",
       "    <tr>\n",
       "      <th>1</th>\n",
       "      <td>TRAIN_000001</td>\n",
       "      <td>USER_00000</td>\n",
       "      <td>BOOK_081205</td>\n",
       "      <td>8</td>\n",
       "      <td>23.0</td>\n",
       "      <td>sackville, new brunswick, canada</td>\n",
       "      <td>Macbeth (New Penguin Shakespeare)</td>\n",
       "      <td>William Shakespeare</td>\n",
       "      <td>1981.0</td>\n",
       "      <td>Penguin Books</td>\n",
       "    </tr>\n",
       "    <tr>\n",
       "      <th>11865</th>\n",
       "      <td>TRAIN_011865</td>\n",
       "      <td>USER_01455</td>\n",
       "      <td>BOOK_018108</td>\n",
       "      <td>10</td>\n",
       "      <td>28.0</td>\n",
       "      <td>olathe, kansas, usa</td>\n",
       "      <td>Macbeth</td>\n",
       "      <td>William Shakespeare</td>\n",
       "      <td>1981.0</td>\n",
       "      <td>Pocket Books</td>\n",
       "    </tr>\n",
       "    <tr>\n",
       "      <th>14759</th>\n",
       "      <td>TRAIN_014759</td>\n",
       "      <td>USER_01657</td>\n",
       "      <td>BOOK_144974</td>\n",
       "      <td>0</td>\n",
       "      <td>22.0</td>\n",
       "      <td>appleton, wisconsin, usa</td>\n",
       "      <td>Macbeth (Dover Thrift Editions)</td>\n",
       "      <td>William Shakespeare</td>\n",
       "      <td>1993.0</td>\n",
       "      <td>Dover Publications</td>\n",
       "    </tr>\n",
       "    <tr>\n",
       "      <th>17061</th>\n",
       "      <td>TRAIN_017061</td>\n",
       "      <td>USER_01928</td>\n",
       "      <td>BOOK_047850</td>\n",
       "      <td>5</td>\n",
       "      <td>32.0</td>\n",
       "      <td>melbourne, victoria, australia</td>\n",
       "      <td>Macbeth</td>\n",
       "      <td>William Shakespeare</td>\n",
       "      <td>2003.0</td>\n",
       "      <td>Washington Square Press</td>\n",
       "    </tr>\n",
       "    <tr>\n",
       "      <th>23737</th>\n",
       "      <td>TRAIN_023737</td>\n",
       "      <td>USER_02636</td>\n",
       "      <td>BOOK_144974</td>\n",
       "      <td>0</td>\n",
       "      <td>25.0</td>\n",
       "      <td>new york, new york, usa</td>\n",
       "      <td>Macbeth (Dover Thrift Editions)</td>\n",
       "      <td>William Shakespeare</td>\n",
       "      <td>1993.0</td>\n",
       "      <td>Dover Publications</td>\n",
       "    </tr>\n",
       "    <tr>\n",
       "      <th>...</th>\n",
       "      <td>...</td>\n",
       "      <td>...</td>\n",
       "      <td>...</td>\n",
       "      <td>...</td>\n",
       "      <td>...</td>\n",
       "      <td>...</td>\n",
       "      <td>...</td>\n",
       "      <td>...</td>\n",
       "      <td>...</td>\n",
       "      <td>...</td>\n",
       "    </tr>\n",
       "    <tr>\n",
       "      <th>863961</th>\n",
       "      <td>TRAIN_863961</td>\n",
       "      <td>USER_91320</td>\n",
       "      <td>BOOK_070453</td>\n",
       "      <td>0</td>\n",
       "      <td>35.0</td>\n",
       "      <td>lincoln, nebraska, usa</td>\n",
       "      <td>Death of a Dentist (Hamish Macbeth Mysteries (...</td>\n",
       "      <td>M. C. Beaton</td>\n",
       "      <td>1998.0</td>\n",
       "      <td>Warner Books</td>\n",
       "    </tr>\n",
       "    <tr>\n",
       "      <th>864297</th>\n",
       "      <td>TRAIN_864297</td>\n",
       "      <td>USER_91320</td>\n",
       "      <td>BOOK_169135</td>\n",
       "      <td>0</td>\n",
       "      <td>35.0</td>\n",
       "      <td>lincoln, nebraska, usa</td>\n",
       "      <td>Death of a Gossip, A Hamish Macbeth Mystery</td>\n",
       "      <td>M. C. Beaton</td>\n",
       "      <td>1988.0</td>\n",
       "      <td>Fawcett Books</td>\n",
       "    </tr>\n",
       "    <tr>\n",
       "      <th>867119</th>\n",
       "      <td>TRAIN_867119</td>\n",
       "      <td>USER_91632</td>\n",
       "      <td>BOOK_031845</td>\n",
       "      <td>10</td>\n",
       "      <td>55.0</td>\n",
       "      <td>portland, oregon, usa</td>\n",
       "      <td>Macbeth</td>\n",
       "      <td>William Shakespeare</td>\n",
       "      <td>1978.0</td>\n",
       "      <td>Signet Book</td>\n",
       "    </tr>\n",
       "    <tr>\n",
       "      <th>867393</th>\n",
       "      <td>TRAIN_867393</td>\n",
       "      <td>USER_91662</td>\n",
       "      <td>BOOK_115497</td>\n",
       "      <td>0</td>\n",
       "      <td>22.0</td>\n",
       "      <td>atlanta, georgia, usa</td>\n",
       "      <td>Hamlet Macbeth King Lear</td>\n",
       "      <td>William Shakespeare</td>\n",
       "      <td>-1.0</td>\n",
       "      <td>Scholastic Inc</td>\n",
       "    </tr>\n",
       "    <tr>\n",
       "      <th>869446</th>\n",
       "      <td>TRAIN_869446</td>\n",
       "      <td>USER_91808</td>\n",
       "      <td>BOOK_209685</td>\n",
       "      <td>0</td>\n",
       "      <td>42.0</td>\n",
       "      <td>raleigh, north carolina, usa</td>\n",
       "      <td>Detective and Mr. Dickens: Being an Account of...</td>\n",
       "      <td>William J. Palmer</td>\n",
       "      <td>1992.0</td>\n",
       "      <td>Fawcett Books</td>\n",
       "    </tr>\n",
       "  </tbody>\n",
       "</table>\n",
       "<p>209 rows × 10 columns</p>\n",
       "</div>"
      ],
      "text/plain": [
       "                  ID     User-ID      Book-ID  Book-Rating   Age  \\\n",
       "1       TRAIN_000001  USER_00000  BOOK_081205            8  23.0   \n",
       "11865   TRAIN_011865  USER_01455  BOOK_018108           10  28.0   \n",
       "14759   TRAIN_014759  USER_01657  BOOK_144974            0  22.0   \n",
       "17061   TRAIN_017061  USER_01928  BOOK_047850            5  32.0   \n",
       "23737   TRAIN_023737  USER_02636  BOOK_144974            0  25.0   \n",
       "...              ...         ...          ...          ...   ...   \n",
       "863961  TRAIN_863961  USER_91320  BOOK_070453            0  35.0   \n",
       "864297  TRAIN_864297  USER_91320  BOOK_169135            0  35.0   \n",
       "867119  TRAIN_867119  USER_91632  BOOK_031845           10  55.0   \n",
       "867393  TRAIN_867393  USER_91662  BOOK_115497            0  22.0   \n",
       "869446  TRAIN_869446  USER_91808  BOOK_209685            0  42.0   \n",
       "\n",
       "                                Location  \\\n",
       "1       sackville, new brunswick, canada   \n",
       "11865                olathe, kansas, usa   \n",
       "14759           appleton, wisconsin, usa   \n",
       "17061     melbourne, victoria, australia   \n",
       "23737            new york, new york, usa   \n",
       "...                                  ...   \n",
       "863961            lincoln, nebraska, usa   \n",
       "864297            lincoln, nebraska, usa   \n",
       "867119             portland, oregon, usa   \n",
       "867393             atlanta, georgia, usa   \n",
       "869446      raleigh, north carolina, usa   \n",
       "\n",
       "                                               Book-Title  \\\n",
       "1                       Macbeth (New Penguin Shakespeare)   \n",
       "11865                                             Macbeth   \n",
       "14759                     Macbeth (Dover Thrift Editions)   \n",
       "17061                                             Macbeth   \n",
       "23737                     Macbeth (Dover Thrift Editions)   \n",
       "...                                                   ...   \n",
       "863961  Death of a Dentist (Hamish Macbeth Mysteries (...   \n",
       "864297        Death of a Gossip, A Hamish Macbeth Mystery   \n",
       "867119                                            Macbeth   \n",
       "867393                           Hamlet Macbeth King Lear   \n",
       "869446  Detective and Mr. Dickens: Being an Account of...   \n",
       "\n",
       "                Book-Author  Year-Of-Publication                Publisher  \n",
       "1       William Shakespeare               1981.0            Penguin Books  \n",
       "11865   William Shakespeare               1981.0             Pocket Books  \n",
       "14759   William Shakespeare               1993.0       Dover Publications  \n",
       "17061   William Shakespeare               2003.0  Washington Square Press  \n",
       "23737   William Shakespeare               1993.0       Dover Publications  \n",
       "...                     ...                  ...                      ...  \n",
       "863961         M. C. Beaton               1998.0             Warner Books  \n",
       "864297         M. C. Beaton               1988.0            Fawcett Books  \n",
       "867119  William Shakespeare               1978.0              Signet Book  \n",
       "867393  William Shakespeare                 -1.0           Scholastic Inc  \n",
       "869446    William J. Palmer               1992.0            Fawcett Books  \n",
       "\n",
       "[209 rows x 10 columns]"
      ]
     },
     "execution_count": 10,
     "metadata": {},
     "output_type": "execute_result"
    }
   ],
   "source": [
    "train[train['Book-Title'].str.contains('Macbeth')]"
   ]
  },
  {
   "cell_type": "code",
   "execution_count": 11,
   "id": "225dd7a9-9d94-462a-8ae1-c2c712a8168a",
   "metadata": {
    "tags": []
   },
   "outputs": [
    {
     "data": {
      "text/html": [
       "<div>\n",
       "<style scoped>\n",
       "    .dataframe tbody tr th:only-of-type {\n",
       "        vertical-align: middle;\n",
       "    }\n",
       "\n",
       "    .dataframe tbody tr th {\n",
       "        vertical-align: top;\n",
       "    }\n",
       "\n",
       "    .dataframe thead th {\n",
       "        text-align: right;\n",
       "    }\n",
       "</style>\n",
       "<table border=\"1\" class=\"dataframe\">\n",
       "  <thead>\n",
       "    <tr style=\"text-align: right;\">\n",
       "      <th></th>\n",
       "      <th>ID</th>\n",
       "      <th>User-ID</th>\n",
       "      <th>Book-ID</th>\n",
       "      <th>Book-Rating</th>\n",
       "      <th>Age</th>\n",
       "      <th>Location</th>\n",
       "      <th>Book-Title</th>\n",
       "      <th>Book-Author</th>\n",
       "      <th>Year-Of-Publication</th>\n",
       "      <th>Publisher</th>\n",
       "    </tr>\n",
       "  </thead>\n",
       "  <tbody>\n",
       "    <tr>\n",
       "      <th>1</th>\n",
       "      <td>TRAIN_000001</td>\n",
       "      <td>USER_00000</td>\n",
       "      <td>BOOK_081205</td>\n",
       "      <td>8</td>\n",
       "      <td>23.0</td>\n",
       "      <td>sackville, new brunswick, canada</td>\n",
       "      <td>Macbeth (New Penguin Shakespeare)</td>\n",
       "      <td>William Shakespeare</td>\n",
       "      <td>1981.0</td>\n",
       "      <td>Penguin Books</td>\n",
       "    </tr>\n",
       "    <tr>\n",
       "      <th>367</th>\n",
       "      <td>TRAIN_000367</td>\n",
       "      <td>USER_00077</td>\n",
       "      <td>BOOK_231155</td>\n",
       "      <td>10</td>\n",
       "      <td>43.0</td>\n",
       "      <td>williamsburg, virginia, usa</td>\n",
       "      <td>Hamlet</td>\n",
       "      <td>William Shakespeare</td>\n",
       "      <td>1992.0</td>\n",
       "      <td>Washington Square Press</td>\n",
       "    </tr>\n",
       "    <tr>\n",
       "      <th>454</th>\n",
       "      <td>TRAIN_000454</td>\n",
       "      <td>USER_00101</td>\n",
       "      <td>BOOK_021606</td>\n",
       "      <td>0</td>\n",
       "      <td>30.0</td>\n",
       "      <td>wien, wien, austria</td>\n",
       "      <td>Merchant of Venice</td>\n",
       "      <td>Shakespeare</td>\n",
       "      <td>-1.0</td>\n",
       "      <td>Penguin Putnam~mass</td>\n",
       "    </tr>\n",
       "    <tr>\n",
       "      <th>631</th>\n",
       "      <td>TRAIN_000631</td>\n",
       "      <td>USER_00151</td>\n",
       "      <td>BOOK_024188</td>\n",
       "      <td>9</td>\n",
       "      <td>35.0</td>\n",
       "      <td>san jose, california, usa</td>\n",
       "      <td>Tempest (New Penguin Shakespeare)</td>\n",
       "      <td>William Shakespeare</td>\n",
       "      <td>1981.0</td>\n",
       "      <td>Penguin Books</td>\n",
       "    </tr>\n",
       "    <tr>\n",
       "      <th>1097</th>\n",
       "      <td>TRAIN_001097</td>\n",
       "      <td>USER_00190</td>\n",
       "      <td>BOOK_067250</td>\n",
       "      <td>8</td>\n",
       "      <td>37.0</td>\n",
       "      <td>st. john`s, newfoundland, canada</td>\n",
       "      <td>The Winter's Tale (Signet Classic Shakespeare ...</td>\n",
       "      <td>William Shakespeare</td>\n",
       "      <td>1988.0</td>\n",
       "      <td>Signet Classics</td>\n",
       "    </tr>\n",
       "    <tr>\n",
       "      <th>...</th>\n",
       "      <td>...</td>\n",
       "      <td>...</td>\n",
       "      <td>...</td>\n",
       "      <td>...</td>\n",
       "      <td>...</td>\n",
       "      <td>...</td>\n",
       "      <td>...</td>\n",
       "      <td>...</td>\n",
       "      <td>...</td>\n",
       "      <td>...</td>\n",
       "    </tr>\n",
       "    <tr>\n",
       "      <th>867206</th>\n",
       "      <td>TRAIN_867206</td>\n",
       "      <td>USER_91632</td>\n",
       "      <td>BOOK_171078</td>\n",
       "      <td>8</td>\n",
       "      <td>55.0</td>\n",
       "      <td>portland, oregon, usa</td>\n",
       "      <td>The Comedy of Errors</td>\n",
       "      <td>William Shakespeare</td>\n",
       "      <td>1991.0</td>\n",
       "      <td>Pocket Books</td>\n",
       "    </tr>\n",
       "    <tr>\n",
       "      <th>867381</th>\n",
       "      <td>TRAIN_867381</td>\n",
       "      <td>USER_91662</td>\n",
       "      <td>BOOK_011436</td>\n",
       "      <td>0</td>\n",
       "      <td>22.0</td>\n",
       "      <td>atlanta, georgia, usa</td>\n",
       "      <td>Four Great Comedies: The Taming of the Shrew, ...</td>\n",
       "      <td>William Shakespeare</td>\n",
       "      <td>1989.0</td>\n",
       "      <td>Signet Classics</td>\n",
       "    </tr>\n",
       "    <tr>\n",
       "      <th>867393</th>\n",
       "      <td>TRAIN_867393</td>\n",
       "      <td>USER_91662</td>\n",
       "      <td>BOOK_115497</td>\n",
       "      <td>0</td>\n",
       "      <td>22.0</td>\n",
       "      <td>atlanta, georgia, usa</td>\n",
       "      <td>Hamlet Macbeth King Lear</td>\n",
       "      <td>William Shakespeare</td>\n",
       "      <td>-1.0</td>\n",
       "      <td>Scholastic Inc</td>\n",
       "    </tr>\n",
       "    <tr>\n",
       "      <th>867486</th>\n",
       "      <td>TRAIN_867486</td>\n",
       "      <td>USER_91694</td>\n",
       "      <td>BOOK_153124</td>\n",
       "      <td>10</td>\n",
       "      <td>24.0</td>\n",
       "      <td>long beach, california, usa</td>\n",
       "      <td>Much Ado About Nothing (Dover Thrift Editions)</td>\n",
       "      <td>William Shakespeare</td>\n",
       "      <td>1994.0</td>\n",
       "      <td>Dover Publications</td>\n",
       "    </tr>\n",
       "    <tr>\n",
       "      <th>871254</th>\n",
       "      <td>TRAIN_871254</td>\n",
       "      <td>USER_92093</td>\n",
       "      <td>BOOK_185130</td>\n",
       "      <td>0</td>\n",
       "      <td>37.0</td>\n",
       "      <td>lakewood, colorado, usa</td>\n",
       "      <td>Barbs from the Bard</td>\n",
       "      <td>William Shakespeare</td>\n",
       "      <td>2001.0</td>\n",
       "      <td>New Millenium Pr</td>\n",
       "    </tr>\n",
       "  </tbody>\n",
       "</table>\n",
       "<p>1426 rows × 10 columns</p>\n",
       "</div>"
      ],
      "text/plain": [
       "                  ID     User-ID      Book-ID  Book-Rating   Age  \\\n",
       "1       TRAIN_000001  USER_00000  BOOK_081205            8  23.0   \n",
       "367     TRAIN_000367  USER_00077  BOOK_231155           10  43.0   \n",
       "454     TRAIN_000454  USER_00101  BOOK_021606            0  30.0   \n",
       "631     TRAIN_000631  USER_00151  BOOK_024188            9  35.0   \n",
       "1097    TRAIN_001097  USER_00190  BOOK_067250            8  37.0   \n",
       "...              ...         ...          ...          ...   ...   \n",
       "867206  TRAIN_867206  USER_91632  BOOK_171078            8  55.0   \n",
       "867381  TRAIN_867381  USER_91662  BOOK_011436            0  22.0   \n",
       "867393  TRAIN_867393  USER_91662  BOOK_115497            0  22.0   \n",
       "867486  TRAIN_867486  USER_91694  BOOK_153124           10  24.0   \n",
       "871254  TRAIN_871254  USER_92093  BOOK_185130            0  37.0   \n",
       "\n",
       "                                Location  \\\n",
       "1       sackville, new brunswick, canada   \n",
       "367          williamsburg, virginia, usa   \n",
       "454                  wien, wien, austria   \n",
       "631            san jose, california, usa   \n",
       "1097    st. john`s, newfoundland, canada   \n",
       "...                                  ...   \n",
       "867206             portland, oregon, usa   \n",
       "867381             atlanta, georgia, usa   \n",
       "867393             atlanta, georgia, usa   \n",
       "867486       long beach, california, usa   \n",
       "871254           lakewood, colorado, usa   \n",
       "\n",
       "                                               Book-Title  \\\n",
       "1                       Macbeth (New Penguin Shakespeare)   \n",
       "367                                                Hamlet   \n",
       "454                                    Merchant of Venice   \n",
       "631                     Tempest (New Penguin Shakespeare)   \n",
       "1097    The Winter's Tale (Signet Classic Shakespeare ...   \n",
       "...                                                   ...   \n",
       "867206                               The Comedy of Errors   \n",
       "867381  Four Great Comedies: The Taming of the Shrew, ...   \n",
       "867393                           Hamlet Macbeth King Lear   \n",
       "867486     Much Ado About Nothing (Dover Thrift Editions)   \n",
       "871254                                Barbs from the Bard   \n",
       "\n",
       "                Book-Author  Year-Of-Publication                Publisher  \n",
       "1       William Shakespeare               1981.0            Penguin Books  \n",
       "367     William Shakespeare               1992.0  Washington Square Press  \n",
       "454             Shakespeare                 -1.0      Penguin Putnam~mass  \n",
       "631     William Shakespeare               1981.0            Penguin Books  \n",
       "1097    William Shakespeare               1988.0          Signet Classics  \n",
       "...                     ...                  ...                      ...  \n",
       "867206  William Shakespeare               1991.0             Pocket Books  \n",
       "867381  William Shakespeare               1989.0          Signet Classics  \n",
       "867393  William Shakespeare                 -1.0           Scholastic Inc  \n",
       "867486  William Shakespeare               1994.0       Dover Publications  \n",
       "871254  William Shakespeare               2001.0         New Millenium Pr  \n",
       "\n",
       "[1426 rows x 10 columns]"
      ]
     },
     "execution_count": 11,
     "metadata": {},
     "output_type": "execute_result"
    }
   ],
   "source": [
    "train[train['Book-Author'].str.contains('Shakespeare')]"
   ]
  },
  {
   "cell_type": "code",
   "execution_count": null,
   "id": "a43d3560-72f1-42b8-bb1c-cfef7bdeda75",
   "metadata": {},
   "outputs": [],
   "source": []
  },
  {
   "cell_type": "markdown",
   "id": "f1f0a9be-3fed-4261-ac09-747aa6a8b078",
   "metadata": {
    "tags": []
   },
   "source": [
    "## Book-Title, Book-Author, Publisher\n",
    "* Word Embedding 방식 고려\n",
    "* KMean Cluster로 그룹화하거나\n",
    "    * 그룹화할때, Book-Title, Bootk-Author, Publisher 모두 concat해서 그룹화\n",
    "    * Book-Title, Bootk-Author 만 concat + Publisher 따로 encoding\n",
    "* Embeddign 함수(Keras, DeepLearning) 활용 --> 기존의 WordEmbedding은 문장이 주어질 때, 단어사이의 관계성을 봄 (예, 앞뒤 단어)  \n",
    "이 경우 전체 Vector 내용을 다 봐야함. \n"
   ]
  },
  {
   "cell_type": "markdown",
   "id": "91d62f03-b39a-416c-90ca-1731d58cb111",
   "metadata": {},
   "source": [
    "### Book-Title"
   ]
  },
  {
   "cell_type": "code",
   "execution_count": 12,
   "id": "904a008e-75a3-4b05-80b9-348b854b637e",
   "metadata": {
    "tags": []
   },
   "outputs": [
    {
     "data": {
      "text/plain": [
       "0                                            Road Taken\n",
       "1                     Macbeth (New Penguin Shakespeare)\n",
       "2                    Waverley (Penguin English Library)\n",
       "3                               Mother Earth Father Sky\n",
       "4                                     She Who Remembers\n",
       "5                    Neuromancer (Remembering Tomorrow)\n",
       "6                                     The Little Prince\n",
       "7                        Forests of the Heart (Newford)\n",
       "8     Self Matters : Creating Your Life from the Ins...\n",
       "9     The Self Matters Companion : Helping You Creat...\n",
       "10    Don't Let Jerks Get the Best of You / Advice F...\n",
       "11                            Jewel (Oprah's Book Club)\n",
       "12    Wir sind Erinnerung. GedÃ?Â¤chtnis und PersÃ?Â...\n",
       "13                            2061. Odyssee III. Roman.\n",
       "14                                     Die Jury. Roman.\n",
       "15                                   Frisch gepreÃ?Â?t.\n",
       "16                                      Hitlers Helfer.\n",
       "17    Saturns Schatten. Die dunklen Welten der Depre...\n",
       "18    Die Tielmark- Chroniken 01. Die gÃ?Â¶ttlichen ...\n",
       "19                                          Todesangst.\n",
       "20                                          Sofies Welt\n",
       "21                                          Das Urteil.\n",
       "22                                          The Partner\n",
       "23                                         The Brethren\n",
       "24                                          Die Kammer.\n",
       "25                           2001. Odyssee im Weltraum.\n",
       "26                                    The Street Lawyer\n",
       "27                                         Der Partner.\n",
       "28                                        Das Testament\n",
       "29    Ensel und Krete. Ein MÃ?Â¤rchen aus Zamonien v...\n",
       "Name: Book-Title, dtype: object"
      ]
     },
     "execution_count": 12,
     "metadata": {},
     "output_type": "execute_result"
    }
   ],
   "source": [
    "train['Book-Title'].head(30)"
   ]
  },
  {
   "cell_type": "code",
   "execution_count": 13,
   "id": "3f5857d5-fb31-4e81-a8c8-d7cae28b58a6",
   "metadata": {
    "tags": []
   },
   "outputs": [],
   "source": [
    "import re \n",
    "\n",
    "def my_reg(text):\n",
    "    text = text.strip()\n",
    "\n",
    "    t_list = []\n",
    "    for t in text.split():\n",
    "        t = re.sub(r'\\([^)]*\\)', '', t.strip())   #(s) 제거\n",
    "        t = re.sub(r'[^)]*\\)', ''  , t.strip())     #s) 제거\n",
    "        t = re.sub(r'\\([^)]*', ''  , t.strip())     #(s 제거\n",
    "        t = re.sub(r' [\\w*\\W+\\w*] ', '', t.strip())\n",
    "        t.strip()\n",
    "        \n",
    "        if t.isalpha() and len(t)>2:\n",
    "            t_list.append(t)\n",
    "            \n",
    "    return ' '.join(t_list)\n",
    "\n",
    "train['Book-Title2'] = train['Book-Title'].apply(lambda x: my_reg(x))\n",
    "test['Book-Title2'] = test['Book-Title'].apply(lambda x: my_reg(x))"
   ]
  },
  {
   "cell_type": "code",
   "execution_count": 14,
   "id": "ca85e1b6-663d-4ef7-855c-f42faf11d2d1",
   "metadata": {
    "tags": []
   },
   "outputs": [
    {
     "data": {
      "text/html": [
       "<div>\n",
       "<style scoped>\n",
       "    .dataframe tbody tr th:only-of-type {\n",
       "        vertical-align: middle;\n",
       "    }\n",
       "\n",
       "    .dataframe tbody tr th {\n",
       "        vertical-align: top;\n",
       "    }\n",
       "\n",
       "    .dataframe thead th {\n",
       "        text-align: right;\n",
       "    }\n",
       "</style>\n",
       "<table border=\"1\" class=\"dataframe\">\n",
       "  <thead>\n",
       "    <tr style=\"text-align: right;\">\n",
       "      <th></th>\n",
       "      <th>Book-Title</th>\n",
       "      <th>Book-Title2</th>\n",
       "    </tr>\n",
       "  </thead>\n",
       "  <tbody>\n",
       "    <tr>\n",
       "      <th>29</th>\n",
       "      <td>Ensel und Krete. Ein MÃ?Â¤rchen aus Zamonien v...</td>\n",
       "      <td>Ensel und Ein aus Zamonien von Hildegunst von</td>\n",
       "    </tr>\n",
       "    <tr>\n",
       "      <th>769319</th>\n",
       "      <td>Ensel und Krete. Ein MÃ?Â¤rchen aus Zamonien v...</td>\n",
       "      <td>Ensel und Ein aus Zamonien von Hildegunst von</td>\n",
       "    </tr>\n",
       "  </tbody>\n",
       "</table>\n",
       "</div>"
      ],
      "text/plain": [
       "                                               Book-Title  \\\n",
       "29      Ensel und Krete. Ein MÃ?Â¤rchen aus Zamonien v...   \n",
       "769319  Ensel und Krete. Ein MÃ?Â¤rchen aus Zamonien v...   \n",
       "\n",
       "                                          Book-Title2  \n",
       "29      Ensel und Ein aus Zamonien von Hildegunst von  \n",
       "769319  Ensel und Ein aus Zamonien von Hildegunst von  "
      ]
     },
     "execution_count": 14,
     "metadata": {},
     "output_type": "execute_result"
    }
   ],
   "source": [
    "train[['Book-Title','Book-Title2']][train['Book-ID']=='BOOK_229031']"
   ]
  },
  {
   "cell_type": "code",
   "execution_count": 15,
   "id": "828fdfb3-b8e5-4477-843c-14e9f59ec8c0",
   "metadata": {
    "tags": []
   },
   "outputs": [
    {
     "data": {
      "text/html": [
       "<div>\n",
       "<style scoped>\n",
       "    .dataframe tbody tr th:only-of-type {\n",
       "        vertical-align: middle;\n",
       "    }\n",
       "\n",
       "    .dataframe tbody tr th {\n",
       "        vertical-align: top;\n",
       "    }\n",
       "\n",
       "    .dataframe thead th {\n",
       "        text-align: right;\n",
       "    }\n",
       "</style>\n",
       "<table border=\"1\" class=\"dataframe\">\n",
       "  <thead>\n",
       "    <tr style=\"text-align: right;\">\n",
       "      <th></th>\n",
       "      <th>ID</th>\n",
       "      <th>User-ID</th>\n",
       "      <th>Book-ID</th>\n",
       "      <th>Book-Rating</th>\n",
       "      <th>Age</th>\n",
       "      <th>Location</th>\n",
       "      <th>Book-Title</th>\n",
       "      <th>Book-Author</th>\n",
       "      <th>Year-Of-Publication</th>\n",
       "      <th>Publisher</th>\n",
       "      <th>Book-Title2</th>\n",
       "    </tr>\n",
       "  </thead>\n",
       "  <tbody>\n",
       "    <tr>\n",
       "      <th>29</th>\n",
       "      <td>TRAIN_000029</td>\n",
       "      <td>USER_00003</td>\n",
       "      <td>BOOK_229031</td>\n",
       "      <td>10</td>\n",
       "      <td>24.0</td>\n",
       "      <td>magdeburg, sachsen-anhalt, germany</td>\n",
       "      <td>Ensel und Krete. Ein MÃ?Â¤rchen aus Zamonien v...</td>\n",
       "      <td>Walter Moers</td>\n",
       "      <td>2000.0</td>\n",
       "      <td>Eichborn</td>\n",
       "      <td>Ensel und Ein aus Zamonien von Hildegunst von</td>\n",
       "    </tr>\n",
       "    <tr>\n",
       "      <th>3142</th>\n",
       "      <td>TRAIN_003142</td>\n",
       "      <td>USER_00495</td>\n",
       "      <td>BOOK_118110</td>\n",
       "      <td>10</td>\n",
       "      <td>4.0</td>\n",
       "      <td>tübingen, baden-württemberg, germany</td>\n",
       "      <td>Peterchens Mondfahrt. ( Ab 4 J.).</td>\n",
       "      <td>Gerdt von Bassewitz</td>\n",
       "      <td>2000.0</td>\n",
       "      <td>Arena</td>\n",
       "      <td>Peterchens</td>\n",
       "    </tr>\n",
       "    <tr>\n",
       "      <th>21855</th>\n",
       "      <td>TRAIN_021855</td>\n",
       "      <td>USER_02288</td>\n",
       "      <td>BOOK_194938</td>\n",
       "      <td>4</td>\n",
       "      <td>35.0</td>\n",
       "      <td>berlin, berlin, germany</td>\n",
       "      <td>Der Hauptmann von KÃ?Â¶penick. Ein deutsches M...</td>\n",
       "      <td>Carl Zuckmayer</td>\n",
       "      <td>1995.0</td>\n",
       "      <td>Fischer (Tb.), Frankfurt</td>\n",
       "      <td>Der Hauptmann von Ein deutsches drei</td>\n",
       "    </tr>\n",
       "    <tr>\n",
       "      <th>22253</th>\n",
       "      <td>TRAIN_022253</td>\n",
       "      <td>USER_02386</td>\n",
       "      <td>BOOK_262466</td>\n",
       "      <td>0</td>\n",
       "      <td>29.0</td>\n",
       "      <td>rheinfelden, baden-wuerttemberg, germany</td>\n",
       "      <td>Das GummibÃ?Â¤rchen- Orakel.</td>\n",
       "      <td>Dietmar Bittrich</td>\n",
       "      <td>1998.0</td>\n",
       "      <td>Goldmann</td>\n",
       "      <td>Das</td>\n",
       "    </tr>\n",
       "    <tr>\n",
       "      <th>23319</th>\n",
       "      <td>TRAIN_023319</td>\n",
       "      <td>USER_02544</td>\n",
       "      <td>BOOK_182364</td>\n",
       "      <td>7</td>\n",
       "      <td>35.0</td>\n",
       "      <td>oldenburg, schleswig-holstein, germany</td>\n",
       "      <td>Ensel und Krete. Ein MÃ?Â¤rchen aus Zamonien v...</td>\n",
       "      <td>Walter Moers</td>\n",
       "      <td>2002.0</td>\n",
       "      <td>Goldmann</td>\n",
       "      <td>Ensel und Ein aus Zamonien von Hildegunst von</td>\n",
       "    </tr>\n",
       "  </tbody>\n",
       "</table>\n",
       "</div>"
      ],
      "text/plain": [
       "                 ID     User-ID      Book-ID  Book-Rating   Age  \\\n",
       "29     TRAIN_000029  USER_00003  BOOK_229031           10  24.0   \n",
       "3142   TRAIN_003142  USER_00495  BOOK_118110           10   4.0   \n",
       "21855  TRAIN_021855  USER_02288  BOOK_194938            4  35.0   \n",
       "22253  TRAIN_022253  USER_02386  BOOK_262466            0  29.0   \n",
       "23319  TRAIN_023319  USER_02544  BOOK_182364            7  35.0   \n",
       "\n",
       "                                       Location  \\\n",
       "29           magdeburg, sachsen-anhalt, germany   \n",
       "3142       tübingen, baden-württemberg, germany   \n",
       "21855                   berlin, berlin, germany   \n",
       "22253  rheinfelden, baden-wuerttemberg, germany   \n",
       "23319    oldenburg, schleswig-holstein, germany   \n",
       "\n",
       "                                              Book-Title          Book-Author  \\\n",
       "29     Ensel und Krete. Ein MÃ?Â¤rchen aus Zamonien v...         Walter Moers   \n",
       "3142                   Peterchens Mondfahrt. ( Ab 4 J.).  Gerdt von Bassewitz   \n",
       "21855  Der Hauptmann von KÃ?Â¶penick. Ein deutsches M...       Carl Zuckmayer   \n",
       "22253                       Das GummibÃ?Â¤rchen- Orakel.     Dietmar Bittrich   \n",
       "23319  Ensel und Krete. Ein MÃ?Â¤rchen aus Zamonien v...         Walter Moers   \n",
       "\n",
       "       Year-Of-Publication                 Publisher  \\\n",
       "29                  2000.0                  Eichborn   \n",
       "3142                2000.0                     Arena   \n",
       "21855               1995.0  Fischer (Tb.), Frankfurt   \n",
       "22253               1998.0                  Goldmann   \n",
       "23319               2002.0                  Goldmann   \n",
       "\n",
       "                                         Book-Title2  \n",
       "29     Ensel und Ein aus Zamonien von Hildegunst von  \n",
       "3142                                      Peterchens  \n",
       "21855           Der Hauptmann von Ein deutsches drei  \n",
       "22253                                            Das  \n",
       "23319  Ensel und Ein aus Zamonien von Hildegunst von  "
      ]
     },
     "execution_count": 15,
     "metadata": {},
     "output_type": "execute_result"
    }
   ],
   "source": [
    "train[train['Book-Title'].str.contains('rchen')].head()"
   ]
  },
  {
   "cell_type": "code",
   "execution_count": 16,
   "id": "12e353fe-acb9-4ade-a929-7f67da9dc600",
   "metadata": {},
   "outputs": [],
   "source": [
    "from sklearn.feature_extraction.text import CountVectorizer, TfidfVectorizer\n",
    "from nltk.stem import WordNetLemmatizer\n",
    "import nltk\n",
    "import string\n",
    "\n",
    "# ord: 유니코드 정수 반환 \n",
    "# string.punctuation: 특수문자열\n",
    "\n",
    "punc_str = string.punctuation\n",
    "punc_str+='0123456789'\n",
    "\n",
    "remove_punct_dict = dict((ord(punct), \"\") for punct in punc_str)\n",
    "\n",
    "lemmar = WordNetLemmatizer()\n",
    "\n",
    "def LemTokens(tokens):\n",
    "    return [lemmar.lemmatize(token) for token in tokens]\n",
    "def LemNormalize(text):\n",
    "    #구두점 삭제해준 상태로 토큰화\n",
    "    return LemTokens(nltk.word_tokenize(text.lower().translate(remove_punct_dict)))\n",
    "def Normalize(text):\n",
    "    #구두점 삭제해준 상태로 토큰화\n",
    "    return nltk.word_tokenize(text.lower().translate(remove_punct_dict))"
   ]
  },
  {
   "cell_type": "code",
   "execution_count": 17,
   "id": "1fc216a6-f5d7-42d5-8638-b21b65441b29",
   "metadata": {
    "tags": []
   },
   "outputs": [
    {
     "name": "stdout",
     "output_type": "stream",
     "text": [
      "['aber', 'alle', 'allem', 'allen', 'aller', 'alles', 'als', 'also', 'am', 'an']\n",
      "['a', 'à', 'ao', 'aos', 'aquela', 'aquelas', 'aquele', 'aqueles', 'aquilo', 'as']\n",
      "['de', 'la', 'que', 'el', 'en', 'y', 'a', 'los', 'del', 'se']\n"
     ]
    },
    {
     "data": {
      "text/plain": [
       "931"
      ]
     },
     "execution_count": 17,
     "metadata": {},
     "output_type": "execute_result"
    }
   ],
   "source": [
    "from nltk.corpus import stopwords\n",
    "\n",
    "stop_words_list = []\n",
    "temp = stopwords.words('english')\n",
    "stop_words_list.extend(temp)\n",
    "temp = stopwords.words('german')\n",
    "print(temp[:10])\n",
    "stop_words_list.extend(temp)\n",
    "temp = stopwords.words('portuguese')\n",
    "print(temp[:10])\n",
    "stop_words_list.extend(temp)\n",
    "temp = stopwords.words('spanish')\n",
    "print(temp[:10])\n",
    "stop_words_list.extend(temp)\n",
    "\n",
    "len(stop_words_list)"
   ]
  },
  {
   "cell_type": "code",
   "execution_count": 18,
   "id": "8d89e88d-3705-4455-a294-913f272804c1",
   "metadata": {
    "tags": []
   },
   "outputs": [
    {
     "name": "stdout",
     "output_type": "stream",
     "text": [
      "<class 'pandas.core.frame.DataFrame'>\n",
      "Int64Index: 243441 entries, 0 to 871392\n",
      "Data columns (total 2 columns):\n",
      " #   Column       Non-Null Count   Dtype \n",
      "---  ------       --------------   ----- \n",
      " 0   Book-ID      243441 non-null  object\n",
      " 1   Book-Title2  243441 non-null  object\n",
      "dtypes: object(2)\n",
      "memory usage: 5.6+ MB\n"
     ]
    }
   ],
   "source": [
    "temp = train[['Book-ID','Book-Title2']]\n",
    "temp = temp.drop_duplicates()\n",
    "temp.info()"
   ]
  },
  {
   "cell_type": "code",
   "execution_count": 22,
   "id": "5da3ad8d-a66e-4e53-b997-3c73811968b0",
   "metadata": {
    "tags": []
   },
   "outputs": [
    {
     "data": {
      "text/plain": [
       "str"
      ]
     },
     "execution_count": 22,
     "metadata": {},
     "output_type": "execute_result"
    }
   ],
   "source": [
    "type(' '.join(temp['Book-Title2'].values))"
   ]
  },
  {
   "cell_type": "code",
   "execution_count": 35,
   "id": "ae308bee-77a7-4bbf-8791-80cb0bc5ce6c",
   "metadata": {
    "tags": []
   },
   "outputs": [
    {
     "data": {
      "text/plain": [
       "((871393, 49354), (159621, 49354))"
      ]
     },
     "execution_count": 35,
     "metadata": {},
     "output_type": "execute_result"
    }
   ],
   "source": [
    "tfidf_vect = CountVectorizer(tokenizer=LemNormalize,\n",
    "                             stop_words=stop_words_list,\n",
    "                             min_df=0.9)   #   min_df=0.05, max_df=0.85  # 빈도수 0.05이하, 0.85이상의 빈도수 단어들 제거\n",
    "\n",
    "# tfidf_vect.fit(temp['Book-Title2'])\n",
    "tfidf_vect.fit([' '.join(temp['Book-Title2'].values)])\n",
    "title_vect_train = tfidf_vect.transform(train['Book-Title2'])\n",
    "title_vect_test = tfidf_vect.transform(test['Book-Title2'])\n",
    "title_vect_train.shape, title_vect_test.shape"
   ]
  },
  {
   "cell_type": "code",
   "execution_count": 336,
   "id": "d561da27-9f54-4798-9466-e53c1775b418",
   "metadata": {
    "tags": []
   },
   "outputs": [
    {
     "ename": "KeyboardInterrupt",
     "evalue": "",
     "output_type": "error",
     "traceback": [
      "\u001b[1;31m---------------------------------------------------------------------------\u001b[0m",
      "\u001b[1;31mKeyboardInterrupt\u001b[0m                         Traceback (most recent call last)",
      "Cell \u001b[1;32mIn[336], line 5\u001b[0m\n\u001b[0;32m      1\u001b[0m tfidf_vect \u001b[38;5;241m=\u001b[39m TfidfVectorizer(tokenizer\u001b[38;5;241m=\u001b[39mLemNormalize,\n\u001b[0;32m      2\u001b[0m                              stop_words\u001b[38;5;241m=\u001b[39mstop_words_list)   \u001b[38;5;66;03m#   min_df=0.05, max_df=0.85  # 빈도수 0.05이하, 0.85이상의 빈도수 단어들 제거\u001b[39;00m\n\u001b[0;32m      4\u001b[0m tfidf_vect\u001b[38;5;241m.\u001b[39mfit(train[\u001b[38;5;124m'\u001b[39m\u001b[38;5;124mBook-Title2\u001b[39m\u001b[38;5;124m'\u001b[39m])\n\u001b[1;32m----> 5\u001b[0m title_vect_train \u001b[38;5;241m=\u001b[39m \u001b[43mtfidf_vect\u001b[49m\u001b[38;5;241;43m.\u001b[39;49m\u001b[43mtransform\u001b[49m\u001b[43m(\u001b[49m\u001b[43mtrain\u001b[49m\u001b[43m[\u001b[49m\u001b[38;5;124;43m'\u001b[39;49m\u001b[38;5;124;43mBook-Title2\u001b[39;49m\u001b[38;5;124;43m'\u001b[39;49m\u001b[43m]\u001b[49m\u001b[43m)\u001b[49m\n\u001b[0;32m      6\u001b[0m title_vect_test \u001b[38;5;241m=\u001b[39m tfidf_vect\u001b[38;5;241m.\u001b[39mtransform(test[\u001b[38;5;124m'\u001b[39m\u001b[38;5;124mBook-Title2\u001b[39m\u001b[38;5;124m'\u001b[39m])\n\u001b[0;32m      7\u001b[0m title_vect_train\u001b[38;5;241m.\u001b[39mshape, title_vect_test\u001b[38;5;241m.\u001b[39mshape\n",
      "File \u001b[1;32mC:\\AI\\pythonProject\\venv\\lib\\site-packages\\sklearn\\feature_extraction\\text.py:1880\u001b[0m, in \u001b[0;36mTfidfVectorizer.transform\u001b[1;34m(self, raw_documents, copy)\u001b[0m\n\u001b[0;32m   1876\u001b[0m     msg \u001b[38;5;241m=\u001b[39m (\u001b[38;5;124m\"\u001b[39m\u001b[38;5;124m'\u001b[39m\u001b[38;5;124mcopy\u001b[39m\u001b[38;5;124m'\u001b[39m\u001b[38;5;124m param is unused and has been deprecated since \u001b[39m\u001b[38;5;124m\"\u001b[39m\n\u001b[0;32m   1877\u001b[0m            \u001b[38;5;124m\"\u001b[39m\u001b[38;5;124mversion 0.22. Backward compatibility for \u001b[39m\u001b[38;5;124m'\u001b[39m\u001b[38;5;124mcopy\u001b[39m\u001b[38;5;124m'\u001b[39m\u001b[38;5;124m will \u001b[39m\u001b[38;5;124m\"\u001b[39m\n\u001b[0;32m   1878\u001b[0m            \u001b[38;5;124m\"\u001b[39m\u001b[38;5;124mbe removed in 0.24.\u001b[39m\u001b[38;5;124m\"\u001b[39m)\n\u001b[0;32m   1879\u001b[0m     warnings\u001b[38;5;241m.\u001b[39mwarn(msg, \u001b[38;5;167;01mFutureWarning\u001b[39;00m)\n\u001b[1;32m-> 1880\u001b[0m X \u001b[38;5;241m=\u001b[39m \u001b[38;5;28;43msuper\u001b[39;49m\u001b[43m(\u001b[49m\u001b[43m)\u001b[49m\u001b[38;5;241;43m.\u001b[39;49m\u001b[43mtransform\u001b[49m\u001b[43m(\u001b[49m\u001b[43mraw_documents\u001b[49m\u001b[43m)\u001b[49m\n\u001b[0;32m   1881\u001b[0m \u001b[38;5;28;01mreturn\u001b[39;00m \u001b[38;5;28mself\u001b[39m\u001b[38;5;241m.\u001b[39m_tfidf\u001b[38;5;241m.\u001b[39mtransform(X, copy\u001b[38;5;241m=\u001b[39m\u001b[38;5;28;01mFalse\u001b[39;00m)\n",
      "File \u001b[1;32mC:\\AI\\pythonProject\\venv\\lib\\site-packages\\sklearn\\feature_extraction\\text.py:1250\u001b[0m, in \u001b[0;36mCountVectorizer.transform\u001b[1;34m(self, raw_documents)\u001b[0m\n\u001b[0;32m   1247\u001b[0m \u001b[38;5;28mself\u001b[39m\u001b[38;5;241m.\u001b[39m_check_vocabulary()\n\u001b[0;32m   1249\u001b[0m \u001b[38;5;66;03m# use the same matrix-building strategy as fit_transform\u001b[39;00m\n\u001b[1;32m-> 1250\u001b[0m _, X \u001b[38;5;241m=\u001b[39m \u001b[38;5;28;43mself\u001b[39;49m\u001b[38;5;241;43m.\u001b[39;49m\u001b[43m_count_vocab\u001b[49m\u001b[43m(\u001b[49m\u001b[43mraw_documents\u001b[49m\u001b[43m,\u001b[49m\u001b[43m \u001b[49m\u001b[43mfixed_vocab\u001b[49m\u001b[38;5;241;43m=\u001b[39;49m\u001b[38;5;28;43;01mTrue\u001b[39;49;00m\u001b[43m)\u001b[49m\n\u001b[0;32m   1251\u001b[0m \u001b[38;5;28;01mif\u001b[39;00m \u001b[38;5;28mself\u001b[39m\u001b[38;5;241m.\u001b[39mbinary:\n\u001b[0;32m   1252\u001b[0m     X\u001b[38;5;241m.\u001b[39mdata\u001b[38;5;241m.\u001b[39mfill(\u001b[38;5;241m1\u001b[39m)\n",
      "File \u001b[1;32mC:\\AI\\pythonProject\\venv\\lib\\site-packages\\sklearn\\feature_extraction\\text.py:1110\u001b[0m, in \u001b[0;36mCountVectorizer._count_vocab\u001b[1;34m(self, raw_documents, fixed_vocab)\u001b[0m\n\u001b[0;32m   1108\u001b[0m \u001b[38;5;28;01mfor\u001b[39;00m doc \u001b[38;5;129;01min\u001b[39;00m raw_documents:\n\u001b[0;32m   1109\u001b[0m     feature_counter \u001b[38;5;241m=\u001b[39m {}\n\u001b[1;32m-> 1110\u001b[0m     \u001b[38;5;28;01mfor\u001b[39;00m feature \u001b[38;5;129;01min\u001b[39;00m \u001b[43manalyze\u001b[49m\u001b[43m(\u001b[49m\u001b[43mdoc\u001b[49m\u001b[43m)\u001b[49m:\n\u001b[0;32m   1111\u001b[0m         \u001b[38;5;28;01mtry\u001b[39;00m:\n\u001b[0;32m   1112\u001b[0m             feature_idx \u001b[38;5;241m=\u001b[39m vocabulary[feature]\n",
      "File \u001b[1;32mC:\\AI\\pythonProject\\venv\\lib\\site-packages\\sklearn\\feature_extraction\\text.py:106\u001b[0m, in \u001b[0;36m_analyze\u001b[1;34m(doc, analyzer, tokenizer, ngrams, preprocessor, decoder, stop_words)\u001b[0m\n\u001b[0;32m    104\u001b[0m     doc \u001b[38;5;241m=\u001b[39m preprocessor(doc)\n\u001b[0;32m    105\u001b[0m \u001b[38;5;28;01mif\u001b[39;00m tokenizer \u001b[38;5;129;01mis\u001b[39;00m \u001b[38;5;129;01mnot\u001b[39;00m \u001b[38;5;28;01mNone\u001b[39;00m:\n\u001b[1;32m--> 106\u001b[0m     doc \u001b[38;5;241m=\u001b[39m \u001b[43mtokenizer\u001b[49m\u001b[43m(\u001b[49m\u001b[43mdoc\u001b[49m\u001b[43m)\u001b[49m\n\u001b[0;32m    107\u001b[0m \u001b[38;5;28;01mif\u001b[39;00m ngrams \u001b[38;5;129;01mis\u001b[39;00m \u001b[38;5;129;01mnot\u001b[39;00m \u001b[38;5;28;01mNone\u001b[39;00m:\n\u001b[0;32m    108\u001b[0m     \u001b[38;5;28;01mif\u001b[39;00m stop_words \u001b[38;5;129;01mis\u001b[39;00m \u001b[38;5;129;01mnot\u001b[39;00m \u001b[38;5;28;01mNone\u001b[39;00m:\n",
      "Cell \u001b[1;32mIn[333], line 20\u001b[0m, in \u001b[0;36mLemNormalize\u001b[1;34m(text)\u001b[0m\n\u001b[0;32m     18\u001b[0m \u001b[38;5;28;01mdef\u001b[39;00m \u001b[38;5;21mLemNormalize\u001b[39m(text):\n\u001b[0;32m     19\u001b[0m     \u001b[38;5;66;03m#구두점 삭제해준 상태로 토큰화\u001b[39;00m\n\u001b[1;32m---> 20\u001b[0m     \u001b[38;5;28;01mreturn\u001b[39;00m \u001b[43mLemTokens\u001b[49m\u001b[43m(\u001b[49m\u001b[43mnltk\u001b[49m\u001b[38;5;241;43m.\u001b[39;49m\u001b[43mword_tokenize\u001b[49m\u001b[43m(\u001b[49m\u001b[43mtext\u001b[49m\u001b[38;5;241;43m.\u001b[39;49m\u001b[43mlower\u001b[49m\u001b[43m(\u001b[49m\u001b[43m)\u001b[49m\u001b[38;5;241;43m.\u001b[39;49m\u001b[43mtranslate\u001b[49m\u001b[43m(\u001b[49m\u001b[43mremove_punct_dict\u001b[49m\u001b[43m)\u001b[49m\u001b[43m)\u001b[49m\u001b[43m)\u001b[49m\n",
      "Cell \u001b[1;32mIn[333], line 17\u001b[0m, in \u001b[0;36mLemTokens\u001b[1;34m(tokens)\u001b[0m\n\u001b[0;32m     16\u001b[0m \u001b[38;5;28;01mdef\u001b[39;00m \u001b[38;5;21mLemTokens\u001b[39m(tokens):\n\u001b[1;32m---> 17\u001b[0m     \u001b[38;5;28;01mreturn\u001b[39;00m [lemmar\u001b[38;5;241m.\u001b[39mlemmatize(token) \u001b[38;5;28;01mfor\u001b[39;00m token \u001b[38;5;129;01min\u001b[39;00m tokens]\n",
      "Cell \u001b[1;32mIn[333], line 17\u001b[0m, in \u001b[0;36m<listcomp>\u001b[1;34m(.0)\u001b[0m\n\u001b[0;32m     16\u001b[0m \u001b[38;5;28;01mdef\u001b[39;00m \u001b[38;5;21mLemTokens\u001b[39m(tokens):\n\u001b[1;32m---> 17\u001b[0m     \u001b[38;5;28;01mreturn\u001b[39;00m [\u001b[43mlemmar\u001b[49m\u001b[38;5;241;43m.\u001b[39;49m\u001b[43mlemmatize\u001b[49m\u001b[43m(\u001b[49m\u001b[43mtoken\u001b[49m\u001b[43m)\u001b[49m \u001b[38;5;28;01mfor\u001b[39;00m token \u001b[38;5;129;01min\u001b[39;00m tokens]\n",
      "File \u001b[1;32mC:\\AI\\pythonProject\\venv\\lib\\site-packages\\nltk\\stem\\wordnet.py:45\u001b[0m, in \u001b[0;36mWordNetLemmatizer.lemmatize\u001b[1;34m(self, word, pos)\u001b[0m\n\u001b[0;32m     33\u001b[0m \u001b[38;5;28;01mdef\u001b[39;00m \u001b[38;5;21mlemmatize\u001b[39m(\u001b[38;5;28mself\u001b[39m, word: \u001b[38;5;28mstr\u001b[39m, pos: \u001b[38;5;28mstr\u001b[39m \u001b[38;5;241m=\u001b[39m \u001b[38;5;124m\"\u001b[39m\u001b[38;5;124mn\u001b[39m\u001b[38;5;124m\"\u001b[39m) \u001b[38;5;241m-\u001b[39m\u001b[38;5;241m>\u001b[39m \u001b[38;5;28mstr\u001b[39m:\n\u001b[0;32m     34\u001b[0m \u001b[38;5;250m    \u001b[39m\u001b[38;5;124;03m\"\"\"Lemmatize `word` using WordNet's built-in morphy function.\u001b[39;00m\n\u001b[0;32m     35\u001b[0m \u001b[38;5;124;03m    Returns the input word unchanged if it cannot be found in WordNet.\u001b[39;00m\n\u001b[0;32m     36\u001b[0m \n\u001b[1;32m   (...)\u001b[0m\n\u001b[0;32m     43\u001b[0m \u001b[38;5;124;03m    :return: The lemma of `word`, for the given `pos`.\u001b[39;00m\n\u001b[0;32m     44\u001b[0m \u001b[38;5;124;03m    \"\"\"\u001b[39;00m\n\u001b[1;32m---> 45\u001b[0m     lemmas \u001b[38;5;241m=\u001b[39m \u001b[43mwn\u001b[49m\u001b[38;5;241;43m.\u001b[39;49m\u001b[43m_morphy\u001b[49m\u001b[43m(\u001b[49m\u001b[43mword\u001b[49m\u001b[43m,\u001b[49m\u001b[43m \u001b[49m\u001b[43mpos\u001b[49m\u001b[43m)\u001b[49m\n\u001b[0;32m     46\u001b[0m     \u001b[38;5;28;01mreturn\u001b[39;00m \u001b[38;5;28mmin\u001b[39m(lemmas, key\u001b[38;5;241m=\u001b[39m\u001b[38;5;28mlen\u001b[39m) \u001b[38;5;28;01mif\u001b[39;00m lemmas \u001b[38;5;28;01melse\u001b[39;00m word\n",
      "File \u001b[1;32mC:\\AI\\pythonProject\\venv\\lib\\site-packages\\nltk\\corpus\\reader\\wordnet.py:2100\u001b[0m, in \u001b[0;36mWordNetCorpusReader._morphy\u001b[1;34m(self, form, pos, check_exceptions)\u001b[0m\n\u001b[0;32m   2097\u001b[0m         \u001b[38;5;28;01mreturn\u001b[39;00m filter_forms([form] \u001b[38;5;241m+\u001b[39m exceptions[form])\n\u001b[0;32m   2099\u001b[0m \u001b[38;5;66;03m# 1. Apply rules once to the input to get y1, y2, y3, etc.\u001b[39;00m\n\u001b[1;32m-> 2100\u001b[0m forms \u001b[38;5;241m=\u001b[39m \u001b[43mapply_rules\u001b[49m\u001b[43m(\u001b[49m\u001b[43m[\u001b[49m\u001b[43mform\u001b[49m\u001b[43m]\u001b[49m\u001b[43m)\u001b[49m\n\u001b[0;32m   2102\u001b[0m \u001b[38;5;66;03m# 2. Return all that are in the database (and check the original too)\u001b[39;00m\n\u001b[0;32m   2103\u001b[0m results \u001b[38;5;241m=\u001b[39m filter_forms([form] \u001b[38;5;241m+\u001b[39m forms)\n",
      "File \u001b[1;32mC:\\AI\\pythonProject\\venv\\lib\\site-packages\\nltk\\corpus\\reader\\wordnet.py:2075\u001b[0m, in \u001b[0;36mWordNetCorpusReader._morphy.<locals>.apply_rules\u001b[1;34m(forms)\u001b[0m\n\u001b[0;32m   2072\u001b[0m exceptions \u001b[38;5;241m=\u001b[39m \u001b[38;5;28mself\u001b[39m\u001b[38;5;241m.\u001b[39m_exception_map[pos]\n\u001b[0;32m   2073\u001b[0m substitutions \u001b[38;5;241m=\u001b[39m \u001b[38;5;28mself\u001b[39m\u001b[38;5;241m.\u001b[39mMORPHOLOGICAL_SUBSTITUTIONS[pos]\n\u001b[1;32m-> 2075\u001b[0m \u001b[38;5;28;01mdef\u001b[39;00m \u001b[38;5;21mapply_rules\u001b[39m(forms):\n\u001b[0;32m   2076\u001b[0m     \u001b[38;5;28;01mreturn\u001b[39;00m [\n\u001b[0;32m   2077\u001b[0m         form[: \u001b[38;5;241m-\u001b[39m\u001b[38;5;28mlen\u001b[39m(old)] \u001b[38;5;241m+\u001b[39m new\n\u001b[0;32m   2078\u001b[0m         \u001b[38;5;28;01mfor\u001b[39;00m form \u001b[38;5;129;01min\u001b[39;00m forms\n\u001b[0;32m   2079\u001b[0m         \u001b[38;5;28;01mfor\u001b[39;00m old, new \u001b[38;5;129;01min\u001b[39;00m substitutions\n\u001b[0;32m   2080\u001b[0m         \u001b[38;5;28;01mif\u001b[39;00m form\u001b[38;5;241m.\u001b[39mendswith(old)\n\u001b[0;32m   2081\u001b[0m     ]\n\u001b[0;32m   2083\u001b[0m \u001b[38;5;28;01mdef\u001b[39;00m \u001b[38;5;21mfilter_forms\u001b[39m(forms):\n",
      "File \u001b[1;32m_pydevd_bundle/pydevd_cython.pyx:1457\u001b[0m, in \u001b[0;36m_pydevd_bundle.pydevd_cython.SafeCallWrapper.__call__\u001b[1;34m()\u001b[0m\n",
      "File \u001b[1;32m_pydevd_bundle/pydevd_cython.pyx:1758\u001b[0m, in \u001b[0;36m_pydevd_bundle.pydevd_cython.ThreadTracer.__call__\u001b[1;34m()\u001b[0m\n",
      "File \u001b[1;32mC:\\AI\\pythonProject\\venv\\lib\\site-packages\\debugpy\\_vendored\\pydevd\\_pydev_bundle\\pydev_is_thread_alive.py:9\u001b[0m, in \u001b[0;36mis_thread_alive\u001b[1;34m(t)\u001b[0m\n\u001b[0;32m      6\u001b[0m _temp \u001b[38;5;241m=\u001b[39m threading\u001b[38;5;241m.\u001b[39mThread()\n\u001b[0;32m      7\u001b[0m \u001b[38;5;28;01mif\u001b[39;00m \u001b[38;5;28mhasattr\u001b[39m(_temp, \u001b[38;5;124m'\u001b[39m\u001b[38;5;124m_is_stopped\u001b[39m\u001b[38;5;124m'\u001b[39m):  \u001b[38;5;66;03m# Python 3.x has this\u001b[39;00m\n\u001b[1;32m----> 9\u001b[0m     \u001b[38;5;28;01mdef\u001b[39;00m \u001b[38;5;21mis_thread_alive\u001b[39m(t):\n\u001b[0;32m     10\u001b[0m         \u001b[38;5;28;01mreturn\u001b[39;00m \u001b[38;5;129;01mnot\u001b[39;00m t\u001b[38;5;241m.\u001b[39m_is_stopped\n\u001b[0;32m     12\u001b[0m \u001b[38;5;28;01melif\u001b[39;00m \u001b[38;5;28mhasattr\u001b[39m(_temp, \u001b[38;5;124m'\u001b[39m\u001b[38;5;124m_Thread__stopped\u001b[39m\u001b[38;5;124m'\u001b[39m):  \u001b[38;5;66;03m# Python 2.x has this\u001b[39;00m\n",
      "\u001b[1;31mKeyboardInterrupt\u001b[0m: "
     ]
    }
   ],
   "source": [
    "tfidf_vect = TfidfVectorizer(tokenizer=LemNormalize,\n",
    "                             stop_words=stop_words_list)   #   min_df=0.05, max_df=0.85  # 빈도수 0.05이하, 0.85이상의 빈도수 단어들 제거\n",
    "\n",
    "tfidf_vect.fit(train['Book-Title2'])\n",
    "title_vect_train = tfidf_vect.transform(train['Book-Title2'])\n",
    "title_vect_test = tfidf_vect.transform(test['Book-Title2'])\n",
    "title_vect_train.shape, title_vect_test.shape"
   ]
  },
  {
   "cell_type": "code",
   "execution_count": 263,
   "id": "ce5ba9ff-e4c2-4900-b15c-b8dd55baff6e",
   "metadata": {
    "tags": []
   },
   "outputs": [
    {
     "data": {
      "text/plain": [
       "[('road', 53289),\n",
       " ('taken', 61957),\n",
       " ('macbeth', 37900),\n",
       " ('new', 43674),\n",
       " ('penguin', 47141),\n",
       " ('shakespeare', 56827),\n",
       " ('waverley', 68430),\n",
       " ('english', 19513),\n",
       " ('library', 36167),\n",
       " ('mother', 42069)]"
      ]
     },
     "execution_count": 263,
     "metadata": {},
     "output_type": "execute_result"
    }
   ],
   "source": [
    "list(tfidf_vect.vocabulary_.items())[:10]"
   ]
  },
  {
   "cell_type": "markdown",
   "id": "c481a499-600e-45c2-8c2c-383717c110bb",
   "metadata": {
    "tags": []
   },
   "source": [
    "### Book-Author\n",
    "* 일반적 이름 순서: (Given Name) (Middle Name) (Family Name)\n",
    "    * Given Name과 Family Name만 활용\n",
    "* 인코딩 (예외처리)\n",
    "    * 대소문자 처리 필요.\n",
    "    * Family Name만 있는 경우\n",
    "        * 예) Shakespeare -> Full Name은 William Shakespeare, But Shakespeare라고만 표기된 경우가 있음.\n",
    "        * Family Name만 사용하기에는 Family Name이 같은 저자가 너무 많음.\n",
    "        * OnehotEncoder말고, CoutVector활용.\n",
    "    * CountVector 활용."
   ]
  },
  {
   "cell_type": "code",
   "execution_count": 289,
   "id": "75d9f50e-e123-432a-b4d4-d3a8b56076ab",
   "metadata": {
    "tags": []
   },
   "outputs": [
    {
     "data": {
      "text/plain": [
       "0             Rona Jaffe\n",
       "1    William Shakespeare\n",
       "2           Walter Scott\n",
       "3           Sue Harrison\n",
       "4       Linda Lay Shuler\n",
       "Name: Book-Author, dtype: object"
      ]
     },
     "execution_count": 289,
     "metadata": {},
     "output_type": "execute_result"
    }
   ],
   "source": [
    "train['Book-Author'].head()"
   ]
  },
  {
   "cell_type": "code",
   "execution_count": 318,
   "id": "1d5332c1-60e2-49d4-94f9-b17e36622ac4",
   "metadata": {
    "tags": []
   },
   "outputs": [
    {
     "data": {
      "text/html": [
       "<div>\n",
       "<style scoped>\n",
       "    .dataframe tbody tr th:only-of-type {\n",
       "        vertical-align: middle;\n",
       "    }\n",
       "\n",
       "    .dataframe tbody tr th {\n",
       "        vertical-align: top;\n",
       "    }\n",
       "\n",
       "    .dataframe thead th {\n",
       "        text-align: right;\n",
       "    }\n",
       "</style>\n",
       "<table border=\"1\" class=\"dataframe\">\n",
       "  <thead>\n",
       "    <tr style=\"text-align: right;\">\n",
       "      <th></th>\n",
       "      <th>ID</th>\n",
       "      <th>User-ID</th>\n",
       "      <th>Book-ID</th>\n",
       "      <th>Book-Rating</th>\n",
       "      <th>Age</th>\n",
       "      <th>Location</th>\n",
       "      <th>Book-Title</th>\n",
       "      <th>Book-Author</th>\n",
       "      <th>Year-Of-Publication</th>\n",
       "      <th>Publisher</th>\n",
       "    </tr>\n",
       "  </thead>\n",
       "  <tbody>\n",
       "    <tr>\n",
       "      <th>1</th>\n",
       "      <td>TRAIN_000001</td>\n",
       "      <td>USER_00000</td>\n",
       "      <td>BOOK_081205</td>\n",
       "      <td>8</td>\n",
       "      <td>23.0</td>\n",
       "      <td>sackville, new brunswick, canada</td>\n",
       "      <td>Macbeth (New Penguin Shakespeare)</td>\n",
       "      <td>William Shakespeare</td>\n",
       "      <td>1981.0</td>\n",
       "      <td>Penguin Books</td>\n",
       "    </tr>\n",
       "    <tr>\n",
       "      <th>367</th>\n",
       "      <td>TRAIN_000367</td>\n",
       "      <td>USER_00077</td>\n",
       "      <td>BOOK_231155</td>\n",
       "      <td>10</td>\n",
       "      <td>43.0</td>\n",
       "      <td>williamsburg, virginia, usa</td>\n",
       "      <td>Hamlet</td>\n",
       "      <td>William Shakespeare</td>\n",
       "      <td>1992.0</td>\n",
       "      <td>Washington Square Press</td>\n",
       "    </tr>\n",
       "    <tr>\n",
       "      <th>454</th>\n",
       "      <td>TRAIN_000454</td>\n",
       "      <td>USER_00101</td>\n",
       "      <td>BOOK_021606</td>\n",
       "      <td>0</td>\n",
       "      <td>30.0</td>\n",
       "      <td>wien, wien, austria</td>\n",
       "      <td>Merchant of Venice</td>\n",
       "      <td>Shakespeare</td>\n",
       "      <td>-1.0</td>\n",
       "      <td>Penguin Putnam~mass</td>\n",
       "    </tr>\n",
       "    <tr>\n",
       "      <th>631</th>\n",
       "      <td>TRAIN_000631</td>\n",
       "      <td>USER_00151</td>\n",
       "      <td>BOOK_024188</td>\n",
       "      <td>9</td>\n",
       "      <td>35.0</td>\n",
       "      <td>san jose, california, usa</td>\n",
       "      <td>Tempest (New Penguin Shakespeare)</td>\n",
       "      <td>William Shakespeare</td>\n",
       "      <td>1981.0</td>\n",
       "      <td>Penguin Books</td>\n",
       "    </tr>\n",
       "    <tr>\n",
       "      <th>1097</th>\n",
       "      <td>TRAIN_001097</td>\n",
       "      <td>USER_00190</td>\n",
       "      <td>BOOK_067250</td>\n",
       "      <td>8</td>\n",
       "      <td>37.0</td>\n",
       "      <td>st. john`s, newfoundland, canada</td>\n",
       "      <td>The Winter's Tale (Signet Classic Shakespeare ...</td>\n",
       "      <td>William Shakespeare</td>\n",
       "      <td>1988.0</td>\n",
       "      <td>Signet Classics</td>\n",
       "    </tr>\n",
       "  </tbody>\n",
       "</table>\n",
       "</div>"
      ],
      "text/plain": [
       "                ID     User-ID      Book-ID  Book-Rating   Age  \\\n",
       "1     TRAIN_000001  USER_00000  BOOK_081205            8  23.0   \n",
       "367   TRAIN_000367  USER_00077  BOOK_231155           10  43.0   \n",
       "454   TRAIN_000454  USER_00101  BOOK_021606            0  30.0   \n",
       "631   TRAIN_000631  USER_00151  BOOK_024188            9  35.0   \n",
       "1097  TRAIN_001097  USER_00190  BOOK_067250            8  37.0   \n",
       "\n",
       "                              Location  \\\n",
       "1     sackville, new brunswick, canada   \n",
       "367        williamsburg, virginia, usa   \n",
       "454                wien, wien, austria   \n",
       "631          san jose, california, usa   \n",
       "1097  st. john`s, newfoundland, canada   \n",
       "\n",
       "                                             Book-Title          Book-Author  \\\n",
       "1                     Macbeth (New Penguin Shakespeare)  William Shakespeare   \n",
       "367                                              Hamlet  William Shakespeare   \n",
       "454                                  Merchant of Venice          Shakespeare   \n",
       "631                   Tempest (New Penguin Shakespeare)  William Shakespeare   \n",
       "1097  The Winter's Tale (Signet Classic Shakespeare ...  William Shakespeare   \n",
       "\n",
       "      Year-Of-Publication                Publisher  \n",
       "1                  1981.0            Penguin Books  \n",
       "367                1992.0  Washington Square Press  \n",
       "454                  -1.0      Penguin Putnam~mass  \n",
       "631                1981.0            Penguin Books  \n",
       "1097               1988.0          Signet Classics  "
      ]
     },
     "execution_count": 318,
     "metadata": {},
     "output_type": "execute_result"
    }
   ],
   "source": [
    "train[train['Book-Author'].str.contains('Shakespeare')].head()"
   ]
  },
  {
   "cell_type": "code",
   "execution_count": 291,
   "id": "e643a2f7-89e5-4fa8-8206-cdc863cca15d",
   "metadata": {
    "tags": []
   },
   "outputs": [],
   "source": [
    "def convert_author(s):\n",
    "    temp = []\n",
    "    temp_split = s.split()\n",
    "    if len(temp_split) > 1:\n",
    "        temp.append(temp_split[0])\n",
    "        temp.append(temp_split[-1])\n",
    "    else:\n",
    "        temp.append(temp_split[0])\n",
    "    # temp.append(temp_split[-1])\n",
    "    return \" \".join(temp)\n",
    "\n",
    "train['Book-Author'] = train['Book-Author'].apply(lambda x:convert_author(x))\n",
    "test['Book-Author'] = test['Book-Author'].apply(lambda x:convert_author(x))\n",
    "\n",
    "train['Book-Author'] = train['Book-Author'].str.lower()\n",
    "test['Book-Author'] = test['Book-Author'].str.lower()"
   ]
  },
  {
   "cell_type": "code",
   "execution_count": 292,
   "id": "48361aed-114d-496d-bdeb-da9cc0305eed",
   "metadata": {
    "tags": []
   },
   "outputs": [
    {
     "data": {
      "text/html": [
       "<div>\n",
       "<style scoped>\n",
       "    .dataframe tbody tr th:only-of-type {\n",
       "        vertical-align: middle;\n",
       "    }\n",
       "\n",
       "    .dataframe tbody tr th {\n",
       "        vertical-align: top;\n",
       "    }\n",
       "\n",
       "    .dataframe thead th {\n",
       "        text-align: right;\n",
       "    }\n",
       "</style>\n",
       "<table border=\"1\" class=\"dataframe\">\n",
       "  <thead>\n",
       "    <tr style=\"text-align: right;\">\n",
       "      <th></th>\n",
       "      <th>Book-Author</th>\n",
       "      <th>author_code</th>\n",
       "    </tr>\n",
       "  </thead>\n",
       "  <tbody>\n",
       "    <tr>\n",
       "      <th>0</th>\n",
       "      <td>rona jaffe</td>\n",
       "      <td>70364</td>\n",
       "    </tr>\n",
       "    <tr>\n",
       "      <th>1</th>\n",
       "      <td>william shakespeare</td>\n",
       "      <td>83260</td>\n",
       "    </tr>\n",
       "    <tr>\n",
       "      <th>2</th>\n",
       "      <td>walter scott</td>\n",
       "      <td>81939</td>\n",
       "    </tr>\n",
       "    <tr>\n",
       "      <th>3</th>\n",
       "      <td>sue harrison</td>\n",
       "      <td>76145</td>\n",
       "    </tr>\n",
       "    <tr>\n",
       "      <th>4</th>\n",
       "      <td>linda shuler</td>\n",
       "      <td>49414</td>\n",
       "    </tr>\n",
       "  </tbody>\n",
       "</table>\n",
       "</div>"
      ],
      "text/plain": [
       "           Book-Author  author_code\n",
       "0           rona jaffe        70364\n",
       "1  william shakespeare        83260\n",
       "2         walter scott        81939\n",
       "3         sue harrison        76145\n",
       "4         linda shuler        49414"
      ]
     },
     "execution_count": 292,
     "metadata": {},
     "output_type": "execute_result"
    }
   ],
   "source": [
    "le = LabelEncoder()\n",
    "le.fit(train['Book-Author'].values.reshape(-1,1))\n",
    "train['author_code'] = le.transform(train['Book-Author'].values.reshape(-1,1))\n",
    "train[['Book-Author', 'author_code']].head()"
   ]
  },
  {
   "cell_type": "code",
   "execution_count": 293,
   "id": "26aac74c-7f10-49b6-9d51-e4e4b4f809cc",
   "metadata": {
    "tags": []
   },
   "outputs": [
    {
     "name": "stdout",
     "output_type": "stream",
     "text": [
      "<class 'pandas.core.frame.DataFrame'>\n",
      "Int64Index: 224260 entries, 0 to 871380\n",
      "Data columns (total 2 columns):\n",
      " #   Column       Non-Null Count   Dtype \n",
      "---  ------       --------------   ----- \n",
      " 0   Book-Title   224260 non-null  object\n",
      " 1   author_code  224260 non-null  int32 \n",
      "dtypes: int32(1), object(1)\n",
      "memory usage: 4.3+ MB\n"
     ]
    }
   ],
   "source": [
    "# temp_train = train[['Book-Title','Publisher','author_code']]\n",
    "temp_train = train[['Book-Title','author_code']]\n",
    "temp_train = temp_train.drop_duplicates()\n",
    "temp_train.info()"
   ]
  },
  {
   "cell_type": "code",
   "execution_count": 294,
   "id": "f7d26206-9f14-4155-96b4-f7265144b93f",
   "metadata": {
    "tags": []
   },
   "outputs": [
    {
     "data": {
      "image/png": "[encoded data removed]",
      "text/plain": [
       "<Figure size 640x480 with 1 Axes>"
      ]
     },
     "metadata": {},
     "output_type": "display_data"
    }
   ],
   "source": [
    "sns.histplot(temp_train['author_code'])\n",
    "plt.show()"
   ]
  },
  {
   "cell_type": "code",
   "execution_count": 298,
   "id": "efda2767-d266-4253-b080-d67a1397fb2e",
   "metadata": {
    "tags": []
   },
   "outputs": [
    {
     "data": {
      "text/plain": [
       "83260    451\n",
       "769      426\n",
       "3793     404\n",
       "25422    371\n",
       "11245    342\n",
       "        ... \n",
       "48880      1\n",
       "62617      1\n",
       "69777      1\n",
       "83962      1\n",
       "75216      1\n",
       "Name: author_code, Length: 84151, dtype: int64"
      ]
     },
     "execution_count": 298,
     "metadata": {},
     "output_type": "execute_result"
    }
   ],
   "source": [
    "cnt_se = temp_train['author_code'].value_counts().sort_values(ascending=False)\n",
    "cnt_se"
   ]
  },
  {
   "cell_type": "code",
   "execution_count": 308,
   "id": "f0ac5b86-ace0-4758-9d2c-7babcda93630",
   "metadata": {
    "tags": []
   },
   "outputs": [
    {
     "data": {
      "text/plain": [
       "(669,)"
      ]
     },
     "execution_count": 308,
     "metadata": {},
     "output_type": "execute_result"
    }
   ],
   "source": [
    "cnt_se[cnt_se>30].shape"
   ]
  },
  {
   "cell_type": "code",
   "execution_count": 310,
   "id": "a1fe348f-dfd1-451d-a621-6045ecfa6966",
   "metadata": {
    "tags": []
   },
   "outputs": [
    {
     "data": {
      "text/plain": [
       "array([83260,   769,  3793, 25422, 11245, 75258,  6043, 33264, 65819,\n",
       "       60749], dtype=int64)"
      ]
     },
     "execution_count": 310,
     "metadata": {},
     "output_type": "execute_result"
    }
   ],
   "source": [
    "autindex_list = cnt_se[:500].index.values\n",
    "autindex_list[:10]"
   ]
  },
  {
   "cell_type": "code",
   "execution_count": 311,
   "id": "38a10550-d12c-44fd-8c20-f230d1838bb1",
   "metadata": {
    "tags": []
   },
   "outputs": [
    {
     "data": {
      "text/html": [
       "<div>\n",
       "<style scoped>\n",
       "    .dataframe tbody tr th:only-of-type {\n",
       "        vertical-align: middle;\n",
       "    }\n",
       "\n",
       "    .dataframe tbody tr th {\n",
       "        vertical-align: top;\n",
       "    }\n",
       "\n",
       "    .dataframe thead th {\n",
       "        text-align: right;\n",
       "    }\n",
       "</style>\n",
       "<table border=\"1\" class=\"dataframe\">\n",
       "  <thead>\n",
       "    <tr style=\"text-align: right;\">\n",
       "      <th></th>\n",
       "      <th>Book-Author</th>\n",
       "      <th>Book-Author2</th>\n",
       "    </tr>\n",
       "  </thead>\n",
       "  <tbody>\n",
       "    <tr>\n",
       "      <th>0</th>\n",
       "      <td>rona jaffe</td>\n",
       "      <td>0</td>\n",
       "    </tr>\n",
       "    <tr>\n",
       "      <th>1</th>\n",
       "      <td>william shakespeare</td>\n",
       "      <td>1</td>\n",
       "    </tr>\n",
       "    <tr>\n",
       "      <th>2</th>\n",
       "      <td>walter scott</td>\n",
       "      <td>0</td>\n",
       "    </tr>\n",
       "    <tr>\n",
       "      <th>3</th>\n",
       "      <td>sue harrison</td>\n",
       "      <td>0</td>\n",
       "    </tr>\n",
       "    <tr>\n",
       "      <th>4</th>\n",
       "      <td>linda shuler</td>\n",
       "      <td>0</td>\n",
       "    </tr>\n",
       "    <tr>\n",
       "      <th>5</th>\n",
       "      <td>william gibson</td>\n",
       "      <td>0</td>\n",
       "    </tr>\n",
       "    <tr>\n",
       "      <th>6</th>\n",
       "      <td>antoine saint-exupã©ry</td>\n",
       "      <td>0</td>\n",
       "    </tr>\n",
       "    <tr>\n",
       "      <th>7</th>\n",
       "      <td>charles lint</td>\n",
       "      <td>329</td>\n",
       "    </tr>\n",
       "    <tr>\n",
       "      <th>8</th>\n",
       "      <td>phillip mcgraw</td>\n",
       "      <td>0</td>\n",
       "    </tr>\n",
       "    <tr>\n",
       "      <th>9</th>\n",
       "      <td>phillip mcgraw</td>\n",
       "      <td>0</td>\n",
       "    </tr>\n",
       "  </tbody>\n",
       "</table>\n",
       "</div>"
      ],
      "text/plain": [
       "              Book-Author  Book-Author2\n",
       "0              rona jaffe             0\n",
       "1     william shakespeare             1\n",
       "2            walter scott             0\n",
       "3            sue harrison             0\n",
       "4            linda shuler             0\n",
       "5          william gibson             0\n",
       "6  antoine saint-exupã©ry             0\n",
       "7            charles lint           329\n",
       "8          phillip mcgraw             0\n",
       "9          phillip mcgraw             0"
      ]
     },
     "execution_count": 311,
     "metadata": {},
     "output_type": "execute_result"
    }
   ],
   "source": [
    "dic = {}\n",
    "\n",
    "for i, pv in enumerate(autindex_list):\n",
    "    k = train[train['author_code'] == pv]['Book-Author'].values[0]\n",
    "    dic[k] = i+1\n",
    "    \n",
    "train['Book-Author2'] = train['Book-Author'].map(dic)\n",
    "test['Book-Author2'] = test['Book-Author'].map(dic)\n",
    "\n",
    "train['Book-Author2'] = train['Book-Author2'].fillna(0)\n",
    "test['Book-Author2'] = test['Book-Author2'].fillna(0)\n",
    "\n",
    "train['Book-Author2'] = train['Book-Author2'].astype(int)\n",
    "test['Book-Author2'] = test['Book-Author2'].astype(int)\n",
    "\n",
    "train[['Book-Author','Book-Author2']].head(10)"
   ]
  },
  {
   "cell_type": "code",
   "execution_count": 313,
   "id": "1402120b-7d85-40ce-81c2-6956232f5f28",
   "metadata": {
    "tags": []
   },
   "outputs": [
    {
     "data": {
      "text/plain": [
       "((871393, 501), (159621, 501))"
      ]
     },
     "execution_count": 313,
     "metadata": {},
     "output_type": "execute_result"
    }
   ],
   "source": [
    "oh = OneHotEncoder(handle_unknown='ignore')\n",
    "oh.fit(train['Book-Author2'].values.reshape(-1,1))\n",
    "train_author_oh = oh.transform(train['Book-Author2'].values.reshape(-1,1))\n",
    "test_author_oh = oh.transform(test['Book-Author2'].values.reshape(-1,1))\n",
    "\n",
    "train_author_oh.shape, test_author_oh.shape"
   ]
  },
  {
   "cell_type": "code",
   "execution_count": 268,
   "id": "3c7f9470-edac-4a8a-93af-da7448dee02b",
   "metadata": {
    "tags": []
   },
   "outputs": [
    {
     "data": {
      "text/plain": [
       "((871393, 84151), (159621, 84151))"
      ]
     },
     "execution_count": 268,
     "metadata": {},
     "output_type": "execute_result"
    }
   ],
   "source": [
    "# oh = OneHotEncoder(handle_unknown='ignore')\n",
    "# oh.fit(train['Book-Author'].values.reshape(-1,1))\n",
    "# train_author_oh = oh.transform(train['Book-Author'].values.reshape(-1,1))\n",
    "# test_author_oh = oh.transform(test['Book-Author'].values.reshape(-1,1))\n",
    "\n",
    "# train_author_oh.shape, test_author_oh.shape"
   ]
  },
  {
   "cell_type": "code",
   "execution_count": 312,
   "id": "d9a9f4c4-729a-46d2-a418-0014d090255a",
   "metadata": {
    "tags": []
   },
   "outputs": [
    {
     "data": {
      "text/plain": [
       "((871393, 43860), (159621, 43860))"
      ]
     },
     "execution_count": 312,
     "metadata": {},
     "output_type": "execute_result"
    }
   ],
   "source": [
    "cnt_vect = CountVectorizer(tokenizer=Normalize) \n",
    "\n",
    "cnt_vect.fit(train['Book-Author'])\n",
    "train_author_vec = cnt_vect.transform(train['Book-Author'])\n",
    "test_author_vec = cnt_vect.transform(test['Book-Author'])\n",
    "# OnehotEncoding과 columns수는 거의 차이가 없는데, 이 경우 성만 표기된 경우 어느정도 유사하게 인식 될 수 있다.\n",
    "# 성이나 이름이 동일한 다른 작가의 경우도 유사하게 인식 될 수 있기는 한데... \n",
    "# 학습을 돌려보고 이에 대해, 예외처리하고 OnehotEncoding 결과와 비교 후, 활용.\n",
    "train_author_vec.shape, test_author_vec.shape  "
   ]
  },
  {
   "cell_type": "markdown",
   "id": "8068bd9b-9d01-482f-863c-52312d7b73ce",
   "metadata": {},
   "source": [
    "### Publisher\n",
    "* 대소문자 처리 필요.\n",
    "* 예외처리 \n",
    "    * () 표시\n",
    "        * 예) Owl Books, Owl Books (NY)\n",
    "    * co, co. company 삭제\n",
    "    * &amp; 처리  \n",
    "        * &nbsp;   - ” ” : 공백(스페이스 한 칸)을 의미\n",
    "        * &lt;     - 부등호(<)\n",
    "        * &gt;     - 부등호(>)\n",
    "        * &amp;    - 앰퍼샌드(&) 기호\n",
    "        * &quot;   - 쌍따옴표(“)\n",
    "        * &#035;   - sharp(#)\n",
    "        * &#039;   - 따옴표(‘)\n",
    "    * / 처리 \n",
    "    \n",
    "* 예외 처리후, 빈도수로 Count하고, 자주 등장하는 출판사로 구분이 되면 대형 출판사와 작은 출판사로 구분해서 encoding 함."
   ]
  },
  {
   "cell_type": "code",
   "execution_count": 181,
   "id": "5851a291-1f8c-4255-93dc-11663cb30576",
   "metadata": {
    "tags": []
   },
   "outputs": [],
   "source": [
    "train['Publisher'] = train['Publisher'].str.lower()\n",
    "test['Publisher'] = test['Publisher'].str.lower()"
   ]
  },
  {
   "cell_type": "code",
   "execution_count": 182,
   "id": "8becd002-361c-4482-86d6-22677d5c9acf",
   "metadata": {
    "tags": []
   },
   "outputs": [],
   "source": [
    "import re \n",
    "\n",
    "def my_reg(text):\n",
    "    remove_list = ['co','company']\n",
    "    # text = re.sub(r'/^\\s+|\\s+$/g', '', text.strip())#앞뒤 공백 제거\n",
    "    text = text.strip()\n",
    "    # text = text.replace(r' /','/')  #앞뒤 공백 제거\n",
    "    # text = text.replace(r'/ ','/')  #앞뒤 공백 제거\n",
    "    \n",
    "    t_list = []\n",
    "    for t in text.split():\n",
    "        t = re.sub(r'\\([^)]*\\)', '', t.strip())   #(s) 제거\n",
    "        t = re.sub(r'[^)]*\\)', ''  , t.strip())     #s) 제거\n",
    "        t = re.sub(r'\\([^)]*', ''  , t.strip())     #(s 제거\n",
    "        t = re.sub(r'[.,]', '', t.strip())\n",
    "        t.strip()\n",
    "        # t = re.sub(' +', ' '       , t.strip())          #공백,탭 제거\n",
    "        \n",
    "        if t not in remove_list:\n",
    "            t_list.append(t)\n",
    "            \n",
    "    if t_list[-1] == '&amp;':\n",
    "        t_list.pop()\n",
    "\n",
    "    return ' '.join(t_list)\n",
    "\n",
    "train['Publisher'] = train['Publisher'].apply(lambda x: my_reg(x))\n",
    "test['Publisher'] = test['Publisher'].apply(lambda x: my_reg(x))"
   ]
  },
  {
   "cell_type": "code",
   "execution_count": 187,
   "id": "c93fcaf5-7fe8-4be8-8403-0c630fa21ca7",
   "metadata": {
    "tags": []
   },
   "outputs": [
    {
     "data": {
      "text/html": [
       "<div>\n",
       "<style scoped>\n",
       "    .dataframe tbody tr th:only-of-type {\n",
       "        vertical-align: middle;\n",
       "    }\n",
       "\n",
       "    .dataframe tbody tr th {\n",
       "        vertical-align: top;\n",
       "    }\n",
       "\n",
       "    .dataframe thead th {\n",
       "        text-align: right;\n",
       "    }\n",
       "</style>\n",
       "<table border=\"1\" class=\"dataframe\">\n",
       "  <thead>\n",
       "    <tr style=\"text-align: right;\">\n",
       "      <th></th>\n",
       "      <th>Publisher</th>\n",
       "      <th>Publisher_code</th>\n",
       "    </tr>\n",
       "  </thead>\n",
       "  <tbody>\n",
       "    <tr>\n",
       "      <th>0</th>\n",
       "      <td>mira</td>\n",
       "      <td>8806</td>\n",
       "    </tr>\n",
       "    <tr>\n",
       "      <th>1</th>\n",
       "      <td>penguin books</td>\n",
       "      <td>10203</td>\n",
       "    </tr>\n",
       "    <tr>\n",
       "      <th>2</th>\n",
       "      <td>penguin books</td>\n",
       "      <td>10203</td>\n",
       "    </tr>\n",
       "    <tr>\n",
       "      <th>3</th>\n",
       "      <td>avon</td>\n",
       "      <td>1146</td>\n",
       "    </tr>\n",
       "    <tr>\n",
       "      <th>4</th>\n",
       "      <td>signet book</td>\n",
       "      <td>12207</td>\n",
       "    </tr>\n",
       "  </tbody>\n",
       "</table>\n",
       "</div>"
      ],
      "text/plain": [
       "       Publisher  Publisher_code\n",
       "0           mira            8806\n",
       "1  penguin books           10203\n",
       "2  penguin books           10203\n",
       "3           avon            1146\n",
       "4    signet book           12207"
      ]
     },
     "execution_count": 187,
     "metadata": {},
     "output_type": "execute_result"
    }
   ],
   "source": [
    "\n",
    "\n",
    "le = LabelEncoder()\n",
    "le.fit(train['Publisher'].values.reshape(-1,1))\n",
    "train['Publisher_code'] = le.transform(train['Publisher'].values.reshape(-1,1))\n",
    "# test['Publisher_code'] = le.transform(test['Publisher'].values.reshape(-1,1))\n",
    "\n",
    "train[['Publisher', 'Publisher_code']].head()\n",
    "# train['Publisher'] = train['Publisher'].astype('category')\n",
    "# train['Publisher_code'] = train['Publisher'].cat.codes"
   ]
  },
  {
   "cell_type": "code",
   "execution_count": 188,
   "id": "5f8c6663-7694-44d5-becb-2347ab825adc",
   "metadata": {
    "tags": []
   },
   "outputs": [
    {
     "name": "stdout",
     "output_type": "stream",
     "text": [
      "<class 'pandas.core.frame.DataFrame'>\n",
      "Int64Index: 238868 entries, 0 to 871392\n",
      "Data columns (total 3 columns):\n",
      " #   Column          Non-Null Count   Dtype \n",
      "---  ------          --------------   ----- \n",
      " 0   Book-Title      238868 non-null  object\n",
      " 1   Book-Author     238868 non-null  object\n",
      " 2   Publisher_code  238868 non-null  int32 \n",
      "dtypes: int32(1), object(2)\n",
      "memory usage: 6.4+ MB\n"
     ]
    }
   ],
   "source": [
    "## Book-Title, Book-Author, Publisher, 'Publisher_code'\n",
    "temp_train = train[['Book-Title','Book-Author','Publisher_code']]\n",
    "temp_train = temp_train.drop_duplicates()\n",
    "temp_train.info()"
   ]
  },
  {
   "cell_type": "code",
   "execution_count": 189,
   "id": "38dd99c5-4662-415f-8ba4-0a036071f700",
   "metadata": {
    "tags": []
   },
   "outputs": [
    {
     "data": {
      "image/png": "[encoded data removed]",
      "text/plain": [
       "<Figure size 640x480 with 1 Axes>"
      ]
     },
     "metadata": {},
     "output_type": "display_data"
    }
   ],
   "source": [
    "sns.histplot(temp_train['Publisher_code'])\n",
    "plt.show()"
   ]
  },
  {
   "cell_type": "code",
   "execution_count": 190,
   "id": "a4053208-b5e6-4d56-a68d-99f40f71119d",
   "metadata": {},
   "outputs": [
    {
     "data": {
      "text/plain": [
       "5900     7035\n",
       "12219    3931\n",
       "10544    3383\n",
       "1246     3275\n",
       "1274     3180\n",
       "         ... \n",
       "6049        1\n",
       "2465        1\n",
       "4408        1\n",
       "3186        1\n",
       "5615        1\n",
       "Name: Publisher_code, Length: 14931, dtype: int64"
      ]
     },
     "execution_count": 190,
     "metadata": {},
     "output_type": "execute_result"
    }
   ],
   "source": [
    "cnt_se = temp_train['Publisher_code'].value_counts()\n",
    "cnt_se"
   ]
  },
  {
   "cell_type": "code",
   "execution_count": 193,
   "id": "e9f568db-743a-487f-93b8-0a520da09008",
   "metadata": {
    "tags": []
   },
   "outputs": [
    {
     "data": {
      "text/plain": [
       "array([ 5900, 12219, 10544,  1246,  1274,  5950, 11845, 12259, 10203,\n",
       "        1554, 10240, 14239,  4793, 11121, 12207, 12606,  3535, 12600,\n",
       "       14869,  1270,  1146,  5968, 13382, 14072,  7155,  5941,   179,\n",
       "        9837,  6420,  1283, 10278,  7903,  3902,  7715,  5445,  3513,\n",
       "       10886,  5420, 11945,   356,  5996, 11871, 13432,  6258, 10916,\n",
       "       10215,  5211,  1147, 14522, 10831, 14182,  7286, 12276, 10445,\n",
       "        5995, 11115,  1551, 10532,  1213, 11101, 14835, 10548,  9244,\n",
       "         407, 10668,  5862,  6208,  6921, 11117, 13506,  8118,  8806,\n",
       "       11607,  9514,  5963, 12643, 10919,   688,  3967,  4874,  3882,\n",
       "        3530,  3452, 12598, 11870,  7283,  7772,  1286, 14046,  6027,\n",
       "       13383,  5992,  9948,  9243,  8492, 14613,  8845,  9701, 14737,\n",
       "        1596], dtype=int64)"
      ]
     },
     "execution_count": 193,
     "metadata": {},
     "output_type": "execute_result"
    }
   ],
   "source": [
    "pubindex_list = cnt_se.sort_values(ascending=False)[:100].index.values\n",
    "pubindex_list"
   ]
  },
  {
   "cell_type": "code",
   "execution_count": 211,
   "id": "788023c2-6f24-45bf-8ad0-5cd862647c68",
   "metadata": {
    "tags": []
   },
   "outputs": [
    {
     "data": {
      "text/html": [
       "<div>\n",
       "<style scoped>\n",
       "    .dataframe tbody tr th:only-of-type {\n",
       "        vertical-align: middle;\n",
       "    }\n",
       "\n",
       "    .dataframe tbody tr th {\n",
       "        vertical-align: top;\n",
       "    }\n",
       "\n",
       "    .dataframe thead th {\n",
       "        text-align: right;\n",
       "    }\n",
       "</style>\n",
       "<table border=\"1\" class=\"dataframe\">\n",
       "  <thead>\n",
       "    <tr style=\"text-align: right;\">\n",
       "      <th></th>\n",
       "      <th>Publisher</th>\n",
       "      <th>Publisher2</th>\n",
       "    </tr>\n",
       "  </thead>\n",
       "  <tbody>\n",
       "    <tr>\n",
       "      <th>0</th>\n",
       "      <td>mira</td>\n",
       "      <td>72</td>\n",
       "    </tr>\n",
       "    <tr>\n",
       "      <th>1</th>\n",
       "      <td>penguin books</td>\n",
       "      <td>9</td>\n",
       "    </tr>\n",
       "    <tr>\n",
       "      <th>2</th>\n",
       "      <td>penguin books</td>\n",
       "      <td>9</td>\n",
       "    </tr>\n",
       "    <tr>\n",
       "      <th>3</th>\n",
       "      <td>avon</td>\n",
       "      <td>21</td>\n",
       "    </tr>\n",
       "    <tr>\n",
       "      <th>4</th>\n",
       "      <td>signet book</td>\n",
       "      <td>15</td>\n",
       "    </tr>\n",
       "    <tr>\n",
       "      <th>5</th>\n",
       "      <td>ace books</td>\n",
       "      <td>27</td>\n",
       "    </tr>\n",
       "    <tr>\n",
       "      <th>6</th>\n",
       "      <td>harvest books</td>\n",
       "      <td>90</td>\n",
       "    </tr>\n",
       "    <tr>\n",
       "      <th>7</th>\n",
       "      <td>tor books</td>\n",
       "      <td>23</td>\n",
       "    </tr>\n",
       "    <tr>\n",
       "      <th>8</th>\n",
       "      <td>free press</td>\n",
       "      <td>0</td>\n",
       "    </tr>\n",
       "    <tr>\n",
       "      <th>9</th>\n",
       "      <td>free press</td>\n",
       "      <td>0</td>\n",
       "    </tr>\n",
       "  </tbody>\n",
       "</table>\n",
       "</div>"
      ],
      "text/plain": [
       "       Publisher  Publisher2\n",
       "0           mira          72\n",
       "1  penguin books           9\n",
       "2  penguin books           9\n",
       "3           avon          21\n",
       "4    signet book          15\n",
       "5      ace books          27\n",
       "6  harvest books          90\n",
       "7      tor books          23\n",
       "8     free press           0\n",
       "9     free press           0"
      ]
     },
     "execution_count": 211,
     "metadata": {},
     "output_type": "execute_result"
    }
   ],
   "source": [
    "dic = {}\n",
    "\n",
    "for i, pv in enumerate(pubindex_list):\n",
    "    k = train[train['Publisher_code'] == pv]['Publisher'].values[0]\n",
    "    dic[k] = i+1\n",
    "    \n",
    "train['Publisher2'] = train['Publisher'].map(dic)\n",
    "test['Publisher2'] = test['Publisher'].map(dic)\n",
    "\n",
    "train['Publisher2'] = train['Publisher2'].fillna(0)\n",
    "test['Publisher2'] = test['Publisher2'].fillna(0)\n",
    "\n",
    "train['Publisher2'] = train['Publisher2'].astype(int)\n",
    "test['Publisher2'] = test['Publisher2'].astype(int)\n",
    "\n",
    "train[['Publisher','Publisher2']].head(10)"
   ]
  },
  {
   "cell_type": "code",
   "execution_count": 173,
   "id": "c3b218b7-156f-4e58-9db5-cd660f0b1b6e",
   "metadata": {},
   "outputs": [
    {
     "data": {
      "text/plain": [
       "((871393, 14931), (159621, 14931))"
      ]
     },
     "execution_count": 173,
     "metadata": {},
     "output_type": "execute_result"
    }
   ],
   "source": [
    "# from sklearn.preprocessing import OneHotEncoder\n",
    "\n",
    "# oh = OneHotEncoder(handle_unknown='ignore')\n",
    "# oh.fit(train['Publisher'].values.reshape(-1,1))\n",
    "# train_publisher_oh = oh.transform(train['Publisher'].values.reshape(-1,1))\n",
    "# test_publisher_oh = oh.transform(test['Publisher'].values.reshape(-1,1))\n",
    "\n",
    "# train_publisher_oh.shape, test_publisher_oh.shape"
   ]
  },
  {
   "cell_type": "markdown",
   "id": "64ff4bda-fcf5-489f-8a06-766e6d7297f1",
   "metadata": {},
   "source": [
    "## 군집화"
   ]
  },
  {
   "cell_type": "code",
   "execution_count": 174,
   "id": "a4ba4b52-f64a-4b9b-b032-243f9e281753",
   "metadata": {
    "tags": []
   },
   "outputs": [
    {
     "data": {
      "text/plain": [
       "((871393, 520881), (871393, 84327), (871393, 14931))"
      ]
     },
     "execution_count": 174,
     "metadata": {},
     "output_type": "execute_result"
    }
   ],
   "source": [
    "title_vect_train.shape, train_author_vec.shape, train_publisher_oh.shape"
   ]
  },
  {
   "cell_type": "code",
   "execution_count": 175,
   "id": "cb6b8283-362e-4a14-b608-b1d750ce78af",
   "metadata": {
    "tags": []
   },
   "outputs": [
    {
     "data": {
      "text/plain": [
       "620139"
      ]
     },
     "execution_count": 175,
     "metadata": {},
     "output_type": "execute_result"
    }
   ],
   "source": [
    "title_vect_train.shape[1]+ train_author_vec.shape[1]+train_publisher_oh.shape[1]\n",
    "\n",
    "# type(train_publisher_oh)"
   ]
  },
  {
   "cell_type": "code",
   "execution_count": 176,
   "id": "e16b9568-3317-419c-b336-3e5fcb4c0b55",
   "metadata": {
    "tags": []
   },
   "outputs": [
    {
     "data": {
      "text/plain": [
       "((871393, 605208), scipy.sparse.coo.coo_matrix)"
      ]
     },
     "execution_count": 176,
     "metadata": {},
     "output_type": "execute_result"
    }
   ],
   "source": [
    "from scipy.sparse import hstack\n",
    "\n",
    "stack_vec = hstack([title_vect_train, train_author_vec])\n",
    "stack_vec.shape, type(stack_vec)"
   ]
  },
  {
   "cell_type": "code",
   "execution_count": 270,
   "id": "2db70d4e-f461-4a32-99b9-f3a124458cd6",
   "metadata": {
    "tags": []
   },
   "outputs": [
    {
     "ename": "KeyboardInterrupt",
     "evalue": "",
     "output_type": "error",
     "traceback": [
      "\u001b[1;31m---------------------------------------------------------------------------\u001b[0m",
      "\u001b[1;31mKeyboardInterrupt\u001b[0m                         Traceback (most recent call last)",
      "Cell \u001b[1;32mIn[270], line 5\u001b[0m\n\u001b[0;32m      2\u001b[0m \u001b[38;5;28;01mfrom\u001b[39;00m \u001b[38;5;21;01msklearn\u001b[39;00m\u001b[38;5;21;01m.\u001b[39;00m\u001b[38;5;21;01mmetrics\u001b[39;00m \u001b[38;5;28;01mimport\u001b[39;00m silhouette_samples\n\u001b[0;32m      4\u001b[0m kmeans \u001b[38;5;241m=\u001b[39m KMeans(n_clusters\u001b[38;5;241m=\u001b[39m\u001b[38;5;241m300\u001b[39m,  random_state\u001b[38;5;241m=\u001b[39m\u001b[38;5;241m11\u001b[39m)  \u001b[38;5;66;03m#max_iter=10000,\u001b[39;00m\n\u001b[1;32m----> 5\u001b[0m \u001b[43mkmeans\u001b[49m\u001b[38;5;241;43m.\u001b[39;49m\u001b[43mfit\u001b[49m\u001b[43m(\u001b[49m\u001b[43mstack_vec\u001b[49m\u001b[38;5;241;43m.\u001b[39;49m\u001b[43mtocsr\u001b[49m\u001b[43m(\u001b[49m\u001b[43m)\u001b[49m\u001b[43m)\u001b[49m\n\u001b[0;32m      7\u001b[0m cluster_label \u001b[38;5;241m=\u001b[39m kmeans\u001b[38;5;241m.\u001b[39mpredict(stack_vec\u001b[38;5;241m.\u001b[39mtocsr())\n\u001b[0;32m      8\u001b[0m sil_sample \u001b[38;5;241m=\u001b[39m silhouette_samples(stack_vec\u001b[38;5;241m.\u001b[39mtocsr(), kmeans\u001b[38;5;241m.\u001b[39mlabels_)\n",
      "File \u001b[1;32mC:\\AI\\pythonProject\\venv\\lib\\site-packages\\sklearn\\cluster\\_kmeans.py:1068\u001b[0m, in \u001b[0;36mKMeans.fit\u001b[1;34m(self, X, y, sample_weight)\u001b[0m\n\u001b[0;32m   1064\u001b[0m seeds \u001b[38;5;241m=\u001b[39m random_state\u001b[38;5;241m.\u001b[39mrandint(np\u001b[38;5;241m.\u001b[39miinfo(np\u001b[38;5;241m.\u001b[39mint32)\u001b[38;5;241m.\u001b[39mmax, size\u001b[38;5;241m=\u001b[39m\u001b[38;5;28mself\u001b[39m\u001b[38;5;241m.\u001b[39m_n_init)\n\u001b[0;32m   1066\u001b[0m \u001b[38;5;28;01mfor\u001b[39;00m seed \u001b[38;5;129;01min\u001b[39;00m seeds:\n\u001b[0;32m   1067\u001b[0m     \u001b[38;5;66;03m# run a k-means once\u001b[39;00m\n\u001b[1;32m-> 1068\u001b[0m     labels, inertia, centers, n_iter_ \u001b[38;5;241m=\u001b[39m \u001b[43mkmeans_single\u001b[49m\u001b[43m(\u001b[49m\n\u001b[0;32m   1069\u001b[0m \u001b[43m        \u001b[49m\u001b[43mX\u001b[49m\u001b[43m,\u001b[49m\u001b[43m \u001b[49m\u001b[43msample_weight\u001b[49m\u001b[43m,\u001b[49m\u001b[43m \u001b[49m\u001b[38;5;28;43mself\u001b[39;49m\u001b[38;5;241;43m.\u001b[39;49m\u001b[43mn_clusters\u001b[49m\u001b[43m,\u001b[49m\u001b[43m \u001b[49m\u001b[43mmax_iter\u001b[49m\u001b[38;5;241;43m=\u001b[39;49m\u001b[38;5;28;43mself\u001b[39;49m\u001b[38;5;241;43m.\u001b[39;49m\u001b[43mmax_iter\u001b[49m\u001b[43m,\u001b[49m\n\u001b[0;32m   1070\u001b[0m \u001b[43m        \u001b[49m\u001b[43minit\u001b[49m\u001b[38;5;241;43m=\u001b[39;49m\u001b[43minit\u001b[49m\u001b[43m,\u001b[49m\u001b[43m \u001b[49m\u001b[43mverbose\u001b[49m\u001b[38;5;241;43m=\u001b[39;49m\u001b[38;5;28;43mself\u001b[39;49m\u001b[38;5;241;43m.\u001b[39;49m\u001b[43mverbose\u001b[49m\u001b[43m,\u001b[49m\u001b[43m \u001b[49m\u001b[43mtol\u001b[49m\u001b[38;5;241;43m=\u001b[39;49m\u001b[38;5;28;43mself\u001b[39;49m\u001b[38;5;241;43m.\u001b[39;49m\u001b[43m_tol\u001b[49m\u001b[43m,\u001b[49m\n\u001b[0;32m   1071\u001b[0m \u001b[43m        \u001b[49m\u001b[43mx_squared_norms\u001b[49m\u001b[38;5;241;43m=\u001b[39;49m\u001b[43mx_squared_norms\u001b[49m\u001b[43m,\u001b[49m\u001b[43m \u001b[49m\u001b[43mrandom_state\u001b[49m\u001b[38;5;241;43m=\u001b[39;49m\u001b[43mseed\u001b[49m\u001b[43m,\u001b[49m\n\u001b[0;32m   1072\u001b[0m \u001b[43m        \u001b[49m\u001b[43mn_threads\u001b[49m\u001b[38;5;241;43m=\u001b[39;49m\u001b[38;5;28;43mself\u001b[39;49m\u001b[38;5;241;43m.\u001b[39;49m\u001b[43m_n_threads\u001b[49m\u001b[43m)\u001b[49m\n\u001b[0;32m   1073\u001b[0m     \u001b[38;5;66;03m# determine if these results are the best so far\u001b[39;00m\n\u001b[0;32m   1074\u001b[0m     \u001b[38;5;28;01mif\u001b[39;00m best_inertia \u001b[38;5;129;01mis\u001b[39;00m \u001b[38;5;28;01mNone\u001b[39;00m \u001b[38;5;129;01mor\u001b[39;00m inertia \u001b[38;5;241m<\u001b[39m best_inertia:\n",
      "File \u001b[1;32mC:\\AI\\pythonProject\\venv\\lib\\site-packages\\sklearn\\cluster\\_kmeans.py:399\u001b[0m, in \u001b[0;36m_kmeans_single_elkan\u001b[1;34m(X, sample_weight, n_clusters, max_iter, init, verbose, x_squared_norms, random_state, tol, n_threads)\u001b[0m\n\u001b[0;32m    397\u001b[0m labels \u001b[38;5;241m=\u001b[39m np\u001b[38;5;241m.\u001b[39mfull(n_samples, \u001b[38;5;241m-\u001b[39m\u001b[38;5;241m1\u001b[39m, dtype\u001b[38;5;241m=\u001b[39mnp\u001b[38;5;241m.\u001b[39mint32)\n\u001b[0;32m    398\u001b[0m labels_old \u001b[38;5;241m=\u001b[39m labels\u001b[38;5;241m.\u001b[39mcopy()\n\u001b[1;32m--> 399\u001b[0m center_half_distances \u001b[38;5;241m=\u001b[39m \u001b[43meuclidean_distances\u001b[49m\u001b[43m(\u001b[49m\u001b[43mcenters\u001b[49m\u001b[43m)\u001b[49m \u001b[38;5;241m/\u001b[39m \u001b[38;5;241m2\u001b[39m\n\u001b[0;32m    400\u001b[0m distance_next_center \u001b[38;5;241m=\u001b[39m np\u001b[38;5;241m.\u001b[39mpartition(np\u001b[38;5;241m.\u001b[39masarray(center_half_distances),\n\u001b[0;32m    401\u001b[0m                                     kth\u001b[38;5;241m=\u001b[39m\u001b[38;5;241m1\u001b[39m, axis\u001b[38;5;241m=\u001b[39m\u001b[38;5;241m0\u001b[39m)[\u001b[38;5;241m1\u001b[39m]\n\u001b[0;32m    402\u001b[0m upper_bounds \u001b[38;5;241m=\u001b[39m np\u001b[38;5;241m.\u001b[39mzeros(n_samples, dtype\u001b[38;5;241m=\u001b[39mX\u001b[38;5;241m.\u001b[39mdtype)\n",
      "File \u001b[1;32mC:\\AI\\pythonProject\\venv\\lib\\site-packages\\sklearn\\utils\\validation.py:72\u001b[0m, in \u001b[0;36m_deprecate_positional_args.<locals>.inner_f\u001b[1;34m(*args, **kwargs)\u001b[0m\n\u001b[0;32m     67\u001b[0m     warnings\u001b[38;5;241m.\u001b[39mwarn(\u001b[38;5;124m\"\u001b[39m\u001b[38;5;124mPass \u001b[39m\u001b[38;5;132;01m{}\u001b[39;00m\u001b[38;5;124m as keyword args. From version 0.25 \u001b[39m\u001b[38;5;124m\"\u001b[39m\n\u001b[0;32m     68\u001b[0m                   \u001b[38;5;124m\"\u001b[39m\u001b[38;5;124mpassing these as positional arguments will \u001b[39m\u001b[38;5;124m\"\u001b[39m\n\u001b[0;32m     69\u001b[0m                   \u001b[38;5;124m\"\u001b[39m\u001b[38;5;124mresult in an error\u001b[39m\u001b[38;5;124m\"\u001b[39m\u001b[38;5;241m.\u001b[39mformat(\u001b[38;5;124m\"\u001b[39m\u001b[38;5;124m, \u001b[39m\u001b[38;5;124m\"\u001b[39m\u001b[38;5;241m.\u001b[39mjoin(args_msg)),\n\u001b[0;32m     70\u001b[0m                   \u001b[38;5;167;01mFutureWarning\u001b[39;00m)\n\u001b[0;32m     71\u001b[0m kwargs\u001b[38;5;241m.\u001b[39mupdate({k: arg \u001b[38;5;28;01mfor\u001b[39;00m k, arg \u001b[38;5;129;01min\u001b[39;00m \u001b[38;5;28mzip\u001b[39m(sig\u001b[38;5;241m.\u001b[39mparameters, args)})\n\u001b[1;32m---> 72\u001b[0m \u001b[38;5;28;01mreturn\u001b[39;00m \u001b[43mf\u001b[49m\u001b[43m(\u001b[49m\u001b[38;5;241;43m*\u001b[39;49m\u001b[38;5;241;43m*\u001b[39;49m\u001b[43mkwargs\u001b[49m\u001b[43m)\u001b[49m\n",
      "File \u001b[1;32mC:\\AI\\pythonProject\\venv\\lib\\site-packages\\sklearn\\metrics\\pairwise.py:310\u001b[0m, in \u001b[0;36meuclidean_distances\u001b[1;34m(X, Y, Y_norm_squared, squared, X_norm_squared)\u001b[0m\n\u001b[0;32m    307\u001b[0m     distances \u001b[38;5;241m=\u001b[39m _euclidean_distances_upcast(X, XX, Y, YY)\n\u001b[0;32m    308\u001b[0m \u001b[38;5;28;01melse\u001b[39;00m:\n\u001b[0;32m    309\u001b[0m     \u001b[38;5;66;03m# if dtype is already float64, no need to chunk and upcast\u001b[39;00m\n\u001b[1;32m--> 310\u001b[0m     distances \u001b[38;5;241m=\u001b[39m \u001b[38;5;241m-\u001b[39m \u001b[38;5;241m2\u001b[39m \u001b[38;5;241m*\u001b[39m \u001b[43msafe_sparse_dot\u001b[49m\u001b[43m(\u001b[49m\u001b[43mX\u001b[49m\u001b[43m,\u001b[49m\u001b[43m \u001b[49m\u001b[43mY\u001b[49m\u001b[38;5;241;43m.\u001b[39;49m\u001b[43mT\u001b[49m\u001b[43m,\u001b[49m\u001b[43m \u001b[49m\u001b[43mdense_output\u001b[49m\u001b[38;5;241;43m=\u001b[39;49m\u001b[38;5;28;43;01mTrue\u001b[39;49;00m\u001b[43m)\u001b[49m\n\u001b[0;32m    311\u001b[0m     distances \u001b[38;5;241m+\u001b[39m\u001b[38;5;241m=\u001b[39m XX\n\u001b[0;32m    312\u001b[0m     distances \u001b[38;5;241m+\u001b[39m\u001b[38;5;241m=\u001b[39m YY\n",
      "File \u001b[1;32mC:\\AI\\pythonProject\\venv\\lib\\site-packages\\sklearn\\utils\\validation.py:72\u001b[0m, in \u001b[0;36m_deprecate_positional_args.<locals>.inner_f\u001b[1;34m(*args, **kwargs)\u001b[0m\n\u001b[0;32m     67\u001b[0m     warnings\u001b[38;5;241m.\u001b[39mwarn(\u001b[38;5;124m\"\u001b[39m\u001b[38;5;124mPass \u001b[39m\u001b[38;5;132;01m{}\u001b[39;00m\u001b[38;5;124m as keyword args. From version 0.25 \u001b[39m\u001b[38;5;124m\"\u001b[39m\n\u001b[0;32m     68\u001b[0m                   \u001b[38;5;124m\"\u001b[39m\u001b[38;5;124mpassing these as positional arguments will \u001b[39m\u001b[38;5;124m\"\u001b[39m\n\u001b[0;32m     69\u001b[0m                   \u001b[38;5;124m\"\u001b[39m\u001b[38;5;124mresult in an error\u001b[39m\u001b[38;5;124m\"\u001b[39m\u001b[38;5;241m.\u001b[39mformat(\u001b[38;5;124m\"\u001b[39m\u001b[38;5;124m, \u001b[39m\u001b[38;5;124m\"\u001b[39m\u001b[38;5;241m.\u001b[39mjoin(args_msg)),\n\u001b[0;32m     70\u001b[0m                   \u001b[38;5;167;01mFutureWarning\u001b[39;00m)\n\u001b[0;32m     71\u001b[0m kwargs\u001b[38;5;241m.\u001b[39mupdate({k: arg \u001b[38;5;28;01mfor\u001b[39;00m k, arg \u001b[38;5;129;01min\u001b[39;00m \u001b[38;5;28mzip\u001b[39m(sig\u001b[38;5;241m.\u001b[39mparameters, args)})\n\u001b[1;32m---> 72\u001b[0m \u001b[38;5;28;01mreturn\u001b[39;00m \u001b[43mf\u001b[49m\u001b[43m(\u001b[49m\u001b[38;5;241;43m*\u001b[39;49m\u001b[38;5;241;43m*\u001b[39;49m\u001b[43mkwargs\u001b[49m\u001b[43m)\u001b[49m\n",
      "File \u001b[1;32mC:\\AI\\pythonProject\\venv\\lib\\site-packages\\sklearn\\utils\\extmath.py:153\u001b[0m, in \u001b[0;36msafe_sparse_dot\u001b[1;34m(a, b, dense_output)\u001b[0m\n\u001b[0;32m    151\u001b[0m         ret \u001b[38;5;241m=\u001b[39m np\u001b[38;5;241m.\u001b[39mdot(a, b)\n\u001b[0;32m    152\u001b[0m \u001b[38;5;28;01melse\u001b[39;00m:\n\u001b[1;32m--> 153\u001b[0m     ret \u001b[38;5;241m=\u001b[39m \u001b[43ma\u001b[49m\u001b[43m \u001b[49m\u001b[38;5;241;43m@\u001b[39;49m\u001b[43m \u001b[49m\u001b[43mb\u001b[49m\n\u001b[0;32m    155\u001b[0m \u001b[38;5;28;01mif\u001b[39;00m (sparse\u001b[38;5;241m.\u001b[39missparse(a) \u001b[38;5;129;01mand\u001b[39;00m sparse\u001b[38;5;241m.\u001b[39missparse(b)\n\u001b[0;32m    156\u001b[0m         \u001b[38;5;129;01mand\u001b[39;00m dense_output \u001b[38;5;129;01mand\u001b[39;00m \u001b[38;5;28mhasattr\u001b[39m(ret, \u001b[38;5;124m\"\u001b[39m\u001b[38;5;124mtoarray\u001b[39m\u001b[38;5;124m\"\u001b[39m)):\n\u001b[0;32m    157\u001b[0m     \u001b[38;5;28;01mreturn\u001b[39;00m ret\u001b[38;5;241m.\u001b[39mtoarray()\n",
      "\u001b[1;31mKeyboardInterrupt\u001b[0m: "
     ]
    }
   ],
   "source": [
    "from sklearn.cluster import KMeans\n",
    "from sklearn.metrics import silhouette_samples\n",
    "\n",
    "kmeans = KMeans(n_clusters=300,  random_state=11)  #max_iter=10000,\n",
    "kmeans.fit(stack_vec.tocsr())\n",
    "\n",
    "cluster_label = kmeans.predict(stack_vec.tocsr())\n",
    "sil_sample = silhouette_samples(stack_vec.tocsr(), kmeans.labels_)\n",
    "                                   \n",
    "kmeans.inertia_, sil_sample                                   "
   ]
  },
  {
   "cell_type": "code",
   "execution_count": 314,
   "id": "962456bf-0e43-4657-85ff-de67455477d2",
   "metadata": {
    "tags": []
   },
   "outputs": [
    {
     "name": "stderr",
     "output_type": "stream",
     "text": [
      "\n",
      "KeyboardInterrupt\n",
      "\n"
     ]
    }
   ],
   "source": [
    "kmeans = KMeans(n_clusters=100,  random_state=11)  #max_iter=10000,\n",
    "kmeans.fit(title_vect_train.tocsr())\n",
    "\n",
    "cluster_label = kmeans.predict(title_vect_train.tocsr())\n",
    "sil_sample = silhouette_samples(title_vect_train.tocsr(), kmeans.labels_)\n",
    "                                   \n",
    "kmeans.inertia_, sil_sample    "
   ]
  },
  {
   "cell_type": "markdown",
   "id": "ca908ef3-1dc8-4d7e-9d93-50213a68f95d",
   "metadata": {},
   "source": [
    "## Year-Of-Publication\n",
    "* Null 처리 필요"
   ]
  },
  {
   "cell_type": "code",
   "execution_count": null,
   "id": "fc66b3f0-969b-4ca0-b153-f38e02ae52cf",
   "metadata": {},
   "outputs": [],
   "source": []
  },
  {
   "cell_type": "code",
   "execution_count": null,
   "id": "4e5b3477-d5cd-4c3a-b0cb-22f47a5998ac",
   "metadata": {},
   "outputs": [],
   "source": []
  },
  {
   "cell_type": "code",
   "execution_count": null,
   "id": "6ac25909-17ce-4731-a3ce-1a1ff14abc08",
   "metadata": {},
   "outputs": [],
   "source": []
  }
 ],
 "metadata": {
  "kernelspec": {
   "display_name": "Python 3 (ipykernel)",
   "language": "python",
   "name": "python3"
  },
  "language_info": {
   "codemirror_mode": {
    "name": "ipython",
    "version": 3
   },
   "file_extension": ".py",
   "mimetype": "text/x-python",
   "name": "python",
   "nbconvert_exporter": "python",
   "pygments_lexer": "ipython3",
   "version": "3.8.8"
  }
 },
 "nbformat": 4,
 "nbformat_minor": 5
}
