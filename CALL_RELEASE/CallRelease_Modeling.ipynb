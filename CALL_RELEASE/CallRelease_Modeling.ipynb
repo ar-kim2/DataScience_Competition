{
 "cells": [
  {
   "cell_type": "markdown",
   "id": "803fe865-6141-43d8-9f9f-656f77bb40a0",
   "metadata": {},
   "source": [
    "<font size=6><b> Setp02. Modeling"
   ]
  },
  {
   "cell_type": "code",
   "execution_count": 1,
   "id": "38b3c9af-28b7-46be-bcb4-3a74042cab23",
   "metadata": {
    "tags": []
   },
   "outputs": [
    {
     "data": {
      "text/html": [
       "<style>.container{width:100% !important;}</style>"
      ],
      "text/plain": [
       "<IPython.core.display.HTML object>"
      ]
     },
     "metadata": {},
     "output_type": "display_data"
    }
   ],
   "source": [
    "import numpy as np\n",
    "import pandas as pd\n",
    "\n",
    "import matplotlib.pyplot as plt\n",
    "import seaborn as sns\n",
    "\n",
    "sns.set()\n",
    "\n",
    "#-------------------- 차트 관련 속성 (한글처리, 그리드) -----------\n",
    "plt.rcParams['font.family']= 'Malgun Gothic'\n",
    "plt.rcParams['axes.unicode_minus'] = False\n",
    "\n",
    "#-------------------- 주피터 , 출력결과 넓이 늘리기 ---------------\n",
    "# from IPython.core.display import display, HTML\n",
    "from IPython.display import display, HTML\n",
    "\n",
    "display(HTML(\"<style>.container{width:100% !important;}</style>\"))\n",
    "pd.set_option('display.max_rows', 100)\n",
    "pd.set_option('display.max_columns', 100)\n",
    "pd.set_option('max_colwidth', None)\n",
    "\n",
    "import warnings\n",
    "warnings.filterwarnings(action='ignore')"
   ]
  },
  {
   "cell_type": "code",
   "execution_count": 2,
   "id": "3b407129-4099-4a59-b5ac-9c9cdcf7c0c8",
   "metadata": {
    "tags": []
   },
   "outputs": [],
   "source": [
    "from pandas.plotting import scatter_matrix\n",
    "\n",
    "# ----------------- 학습 ----------------------\n",
    "from sklearn.model_selection import train_test_split\n",
    "from sklearn.tree import DecisionTreeClassifier\n",
    "from sklearn.linear_model import LogisticRegression\n",
    "\n",
    "\n",
    "# ----------------- 평가 ----------------------\n",
    "from sklearn.metrics import confusion_matrix\n",
    "\n",
    "from sklearn.metrics import classification_report\n",
    "from sklearn.metrics import accuracy_score\n",
    "from sklearn.metrics import f1_score, precision_score, recall_score\n",
    "from sklearn.metrics import precision_recall_curve, plot_precision_recall_curve\n",
    "\n",
    "from sklearn.metrics import roc_auc_score, roc_curve, plot_roc_curve\n",
    "\n",
    "from sklearn.decomposition import PCA\n",
    "from sklearn.cluster import KMeans \n",
    "\n",
    "from sklearn.preprocessing import Binarizer\n",
    "from sklearn.neighbors import KNeighborsClassifier\n",
    "from sklearn.ensemble import RandomForestClassifier, ExtraTreesClassifier\n",
    "from xgboost import XGBClassifier\n",
    "from lightgbm import LGBMClassifier\n",
    "\n",
    "from sklearn.model_selection import KFold, StratifiedKFold\n",
    "from sklearn.model_selection import cross_val_score, cross_validate, GridSearchCV\n",
    "\n",
    "from sklearn.ensemble     import VotingClassifier"
   ]
  },
  {
   "cell_type": "markdown",
   "id": "725e864f-177d-426a-b9b7-48619d095b30",
   "metadata": {
    "tags": []
   },
   "source": [
    "# Data Load"
   ]
  },
  {
   "cell_type": "code",
   "execution_count": 28,
   "id": "09846abe-ec42-4773-b988-b27771cb41e4",
   "metadata": {
    "tags": []
   },
   "outputs": [],
   "source": [
    "train = pd.read_csv(\"./datasets/train.csv\")\n",
    "test  = pd.read_csv(\"./datasets/test.csv\")\n",
    "submit = pd.read_csv(\"./datasets/sample_submission.csv\")\n",
    "\n",
    "train = train.drop('ID', axis=1)\n",
    "test  = test.drop('ID', axis=1)\n",
    "\n",
    "# train['가입일지수'] = train['가입일'].apply(lambda d :  (d / (2213 -d )) * 100 )\n",
    "train['가입기간년'] = train['가입일'] // 365\n",
    "train['가입기간월'] = np.floor(train['가입일'] // 12)\n",
    "# train['가입기간주'] = np.floor(train['가입일'] // 52)\n",
    "train['가입월']     = np.floor(train['가입일'] / 30) - (  ( np.floor(train['가입일'] / 30) / 12).astype(int) * 12  )  \n",
    "\n",
    "test['가입기간년']  = test['가입일'] // 365\n",
    "test['가입기간월']  = np.floor(test['가입일'] // 12)\n",
    "# test['가입기간주']  = np.floor(test['가입일'] // 52)\n",
    "test['가입월']      = np.floor(test['가입일'] / 30) - (  ( np.floor(train['가입일'] / 30) / 12).astype(int) * 12  )  \n",
    "\n",
    "drop_index = train[(train['가입기간년']==5)&(train['전화해지여부']==1)].index.values\n",
    "train.drop(drop_index, axis=0)\n",
    "\n",
    "train['총통화시간']   = train['주간통화시간'] + train['저녁통화시간'] + train['밤통화시간']\n",
    "train['총통화횟수']   = train['주간통화횟수'] + train['저녁통화횟수'] + train['밤통화횟수']\n",
    "train['총통화요금']   = train['주간통화요금'] + train['저녁통화요금'] + train['밤통화요금']\n",
    "\n",
    "train['주간시간당요금']   = train['주간통화요금']   / train['주간통화시간']\n",
    "train['저녁시간당요금']   = train['저녁통화요금']   / train['저녁통화시간']\n",
    "train['밤시간당요금']   = train['밤통화요금']   / train['밤통화시간']\n",
    "\n",
    "train.loc[train[train['주간통화시간']==0].index.values, '주간시간당요금'] = 0\n",
    "\n",
    "# train['시간당요금']   = train['총통화요금']   / train['총통화시간']\n",
    "# train['횟수당시간']   = train['총통화시간']   / train['총통화횟수']\n",
    "\n",
    "train['월별총요금'] = train['총통화요금']/train['가입기간월']\n",
    "train.loc[train[train['가입기간월']==0].index.values, '월별총요금'] = 0\n",
    "train['월별총횟수'] = train['총통화횟수']/train['가입기간월']\n",
    "train.loc[train[train['가입기간월']==0].index.values, '월별총횟수'] = 0\n",
    "train['월별총시간'] = train['총통화시간']/train['가입기간월']\n",
    "train.loc[train[train['가입기간월']==0].index.values, '월별총시간'] = 0\n",
    "\n",
    "train['총시간당요금'] = train['총통화요금']/train['총통화시간']\n",
    "train['총시간당요금'] = pd.cut(train['총시간당요금'], [0, 0.12, 0.3]).astype('category').cat.codes\n",
    "# train['총시간당요금'] = pd.cut(train['총시간당요금'], [0, 0.11, 0.3]).astype('category').cat.codes\n",
    "\n",
    "test['총통화시간']   = test['주간통화시간'] + test['저녁통화시간'] + test['밤통화시간']\n",
    "test['총통화횟수']   = test['주간통화횟수'] + test['저녁통화횟수'] + test['밤통화횟수']\n",
    "test['총통화요금']   = test['주간통화요금'] + test['저녁통화요금'] + test['밤통화요금']\n",
    "\n",
    "test['주간시간당요금']   = test['주간통화요금']   / test['주간통화시간']\n",
    "test['저녁시간당요금']   = test['저녁통화요금']   / test['저녁통화시간']\n",
    "test['밤시간당요금']   = test['밤통화요금']   / test['밤통화시간']\n",
    "\n",
    "# test['시간당요금']   = test['총통화요금']   / test['총통화시간']\n",
    "# test['횟수당시간']   = test['총통화시간']   / test['총통화횟수']\n",
    "\n",
    "test['월별총요금'] = test['총통화요금']/test['가입기간월']\n",
    "test.loc[test[test['가입기간월']==0].index.values, '월별총요금'] = 0\n",
    "test['월별총횟수'] = test['총통화횟수']/test['가입기간월']\n",
    "test.loc[test[test['가입기간월']==0].index.values, '월별총횟수'] = 0\n",
    "test['월별총시간'] = test['총통화시간']/test['가입기간월']\n",
    "test.loc[test[test['가입기간월']==0].index.values, '월별총시간'] = 0\n",
    "\n",
    "test['총시간당요금'] = test['총통화요금']/test['총통화시간']\n",
    "test['총시간당요금'] = pd.cut(test['총시간당요금'], [0, 0.12, 0.3]).astype('category').cat.codes\n",
    "# test['총시간당요금'] = pd.cut(test['총시간당요금'], [0, 0.11, 0.3]).astype('category').cat.codes\n",
    "\n",
    "# train.loc[5512, '주간시간당요금'] = 0\n",
    "\n",
    "# 음성사서함 Fillna\n",
    "fill_idx = train[(train['전화해지여부']==0)&(train['음성사서함이용']>200)].index.values\n",
    "train.loc[fill_idx, '음성사서함이용']=200"
   ]
  },
  {
   "cell_type": "markdown",
   "id": "e25ee382-97a0-4f8e-9c9d-43b0335a7b7d",
   "metadata": {},
   "source": [
    "# Over Sampling\n",
    "* 전화해지 데이터를 미해지 데이터 개수와 동일하게 샘플링할 경우\n",
    "    * 해지 데이터 내의 Outlier같은 일부 데이터가 확장되어 오히려 성능이 떨어짐.\n",
    "    * 데이터 수가 너무 많아져서 Overfitting 발생\n",
    "* RandomOverSampler --> 제출시 가장 점수가 높음\n",
    "* SMOTE\n",
    "* ADASYN\n",
    "* SMOTETomek"
   ]
  },
  {
   "cell_type": "code",
   "execution_count": 29,
   "id": "c14d267f-d5cc-4826-bee0-37c097c2fa73",
   "metadata": {
    "tags": []
   },
   "outputs": [
    {
     "data": {
      "text/plain": [
       "(45699, 26)"
      ]
     },
     "execution_count": 29,
     "metadata": {},
     "output_type": "execute_result"
    }
   ],
   "source": [
    "from imblearn.over_sampling import SMOTE, ADASYN, RandomOverSampler\n",
    "from imblearn.combine import SMOTETomek\n",
    "\n",
    "train, _ = RandomOverSampler(sampling_strategy =0.7, random_state=11).fit_resample(train, train['전화해지여부'])\n",
    "# train, _ = SMOTE(sampling_strategy =0.5, k_neighbors=3, random_state=11).fit_resample(train, train['전화해지여부'])\n",
    "# train, _ = SMOTETomek(sampling_strategy =0.5, random_state=11).fit_resample(train, train['전화해지여부'])\n",
    "# train, _ = ADASYN(sampling_strategy =0.5, random_state=11).fit_resample(train, train['전화해지여부'])\n",
    "\n",
    "train.shape"
   ]
  },
  {
   "cell_type": "markdown",
   "id": "f6cfcdc4-9b13-4984-9428-46217af5593f",
   "metadata": {},
   "source": [
    "# Cluster 변수"
   ]
  },
  {
   "cell_type": "code",
   "execution_count": 5,
   "id": "aa3b1aed-c19d-47d8-b982-09a58895b123",
   "metadata": {
    "tags": []
   },
   "outputs": [
    {
     "data": {
      "image/png": "[encoded data removed]",
      "text/plain": [
       "<Figure size 640x480 with 2 Axes>"
      ]
     },
     "metadata": {},
     "output_type": "display_data"
    }
   ],
   "source": [
    "test_temp = test[['주간통화시간', '주간통화횟수', '주간통화요금', '저녁통화시간', '저녁통화횟수',\n",
    "       '저녁통화요금', '밤통화시간', '밤통화횟수', '밤통화요금']]\n",
    "train_temp = train[['주간통화시간', '주간통화횟수', '주간통화요금', '저녁통화시간', '저녁통화횟수',\n",
    "       '저녁통화요금', '밤통화시간', '밤통화횟수', '밤통화요금']]\n",
    "pca_train0 = train[train['전화해지여부']==0][['주간통화시간', '주간통화횟수', '주간통화요금', '저녁통화시간', '저녁통화횟수',\n",
    "       '저녁통화요금', '밤통화시간', '밤통화횟수', '밤통화요금']]\n",
    "pca0 = PCA(n_components=2)\n",
    "pca0.fit(pca_train0.values)\n",
    "temp00 = pca0.transform(pca_train0.values)\n",
    "temp0 = pca0.transform(train_temp)\n",
    "ttemp0 = pca0.transform(test_temp)\n",
    "\n",
    "km0 = KMeans(n_clusters=5, random_state=11).fit(temp00)\n",
    "clu0 = km0.predict(temp0)\n",
    "cclu0 = km0.predict(ttemp0)\n",
    "\n",
    "pca_train1 = train[train['전화해지여부']==1][['주간통화시간', '주간통화횟수', '주간통화요금', '저녁통화시간', '저녁통화횟수',\n",
    "       '저녁통화요금', '밤통화시간', '밤통화횟수', '밤통화요금']]\n",
    "pca1 = PCA(n_components=2)\n",
    "pca1.fit(pca_train1.values)\n",
    "temp11 = pca1.transform(pca_train1.values)\n",
    "temp1 = pca1.transform(train_temp)\n",
    "ttemp1 = pca1.transform(test_temp)\n",
    "km1 = KMeans(n_clusters=5, random_state=11).fit(temp11)\n",
    "clu1 = km1.predict(temp1)\n",
    "cclu1 = km1.predict(ttemp1)\n",
    "\n",
    "train['clu0'] = clu0\n",
    "train['clu1'] = clu1\n",
    "test['clu0'] = cclu0\n",
    "test['clu1'] = cclu1\n",
    "\n",
    "df0 = pd.DataFrame(clu0, columns=['label'])\n",
    "df1 = pd.DataFrame(clu1, columns=['label'])\n",
    "\n",
    "plt.subplot(2,1,1)\n",
    "sns.histplot(data=df0, x='label', kde=True)\n",
    "plt.subplot(2,1,2)\n",
    "sns.histplot(data=df1, x='label', kde=True)\n",
    "plt.show()"
   ]
  },
  {
   "cell_type": "markdown",
   "id": "7427d10a-fc50-4636-9446-ff03146343ac",
   "metadata": {},
   "source": [
    "# model selection"
   ]
  },
  {
   "cell_type": "code",
   "execution_count": null,
   "id": "547efb81-f42f-4335-a62f-33436963ccce",
   "metadata": {
    "tags": []
   },
   "outputs": [],
   "source": [
    "# col_list = ['음성사서함이용', '상담전화건수', '가입기간년', '가입기간월', '가입월', '주간시간당요금', '저녁시간당요금',\n",
    "#        '밤시간당요금', '월별총요금', '월별총횟수', '월별총시간', 'clu0', 'clu1']\n",
    "\n",
    "col_list = ['가입일', '음성사서함이용', '주간통화시간', '주간통화횟수', '주간통화요금', '저녁통화시간', '저녁통화횟수',\n",
    "       '저녁통화요금', '밤통화시간', '밤통화횟수', '밤통화요금', '상담전화건수', '월별총요금']\n",
    "\n",
    "trainX = train[col_list]\n",
    "trainy= train['전화해지여부']\n",
    "testX = test[col_list]"
   ]
  },
  {
   "cell_type": "code",
   "execution_count": null,
   "id": "92b8cd48-a298-486b-b4e3-e6c3fef91525",
   "metadata": {
    "tags": []
   },
   "outputs": [],
   "source": [
    "model_list = [  #(\"RF\"     , RandomForestClassifier(random_state=11)),\n",
    "                #(\"KNN\", KNeighborsClassifier()),\n",
    "                (\"EXC\"     , ExtraTreesClassifier(max_depth=30, random_state=11)),  # ExtraTreesClassifier\n",
    "                # (\"XGB8\" , XGBClassifier(n_estimators= 200, max_depth=8, random_state=11)),\n",
    "                (\"XGB201\" , XGBClassifier(max_depth=10, n_estimators= 500, random_state=11)),\n",
    "                # (\"VT\" , VotingClassifier([ (\"EXC\"     , ExtraTreesClassifier(max_depth=30, random_state=11)),\n",
    "                #                           (\"XGB201\" , XGBClassifier(max_depth=20, n_estimators= 500, random_state=11))])),\n",
    "             ]\n",
    "\n",
    "for tpl in model_list :\n",
    "    model = tpl[1] \n",
    "\n",
    "    X_train, X_test, y_train, y_test = train_test_split(trainX, trainy, random_state=11, test_size=0.2, stratify=trainy)\n",
    "    model.fit(X_train, y_train)\n",
    "    y_pred = model.predict(X_test)\n",
    "    # y_prob = model.predict_proba(X_test)\n",
    "\n",
    "    # br = Binarizer(threshold=0.25)\n",
    "    # y_pred = br.fit_transform(y_prob[:, 1].reshape(-1, 1))\n",
    "\n",
    "    f1_s = f1_score(y_test, y_pred)\n",
    "    rec_s = recall_score(y_test, y_pred)\n",
    "    \n",
    "    print(tpl[0])\n",
    "    print(f1_s, rec_s)\n",
    "    print(confusion_matrix(y_test, y_pred))\n",
    "    print(\"--\"*30)"
   ]
  },
  {
   "cell_type": "code",
   "execution_count": null,
   "id": "edd5de99-0471-4a90-ba57-fa9331a141ab",
   "metadata": {
    "tags": []
   },
   "outputs": [],
   "source": [
    "# Feature importance 확인\n",
    "# for i in range(len(col_list)):\n",
    "#     print(f\"{col_list[i]} \\t{model.feature_importances_[i]}\")\n",
    "# model.feature_importances_"
   ]
  },
  {
   "cell_type": "markdown",
   "id": "104f9d7e-f95f-478a-80eb-ea75c32a3880",
   "metadata": {},
   "source": [
    "# Parameter Tuning"
   ]
  },
  {
   "cell_type": "code",
   "execution_count": null,
   "id": "2670b365-eb57-45a3-add5-88c57336a303",
   "metadata": {},
   "outputs": [],
   "source": [
    "import optuna\n",
    "\n",
    "col_list = ['가입일', '음성사서함이용', '주간통화시간', '주간통화횟수', '주간통화요금', '저녁통화시간', '저녁통화횟수',\n",
    "       '저녁통화요금', '밤통화시간', '밤통화횟수', '밤통화요금', '상담전화건수', '월별총요금', '총시간당요금']\n",
    "\n",
    "trainX = train[col_list]\n",
    "trainy= train['전화해지여부']\n",
    "testX = test[col_list]\n",
    "test_ref = pd.read_csv('./ref_file/submit123456.csv')\n",
    "\n",
    "def objective_XGB(trial, trainX=trainX, trainy=trainy, testX=testX, test_ref=test_ref):\n",
    "    param = {\n",
    "        'random_state': 111,\n",
    "        'n_estimators':  trial.suggest_int('n_estimators', 80, 500), #100,\n",
    "        # 'reg_alpha': trial.suggest_loguniform('reg_alpha', 1e-3, 10.0),\n",
    "        # 'reg_lambda': trial.suggest_loguniform('reg_lambda', 1e-3, 10.0),\n",
    "        # 'colsample_bytree': trial.suggest_categorical('colsample_bytree', [0.3,0.4,0.5,0.6,0.7,0.8,0.9, 1.0]),\n",
    "        # 'subsample': trial.suggest_categorical('subsample', [0.4,0.5,0.6,0.7,0.8,1.0]),\n",
    "        'learning_rate': trial.suggest_loguniform('learning_rate', 1e-3, 0.5), # 'learning_rate': 0.1\n",
    "        'max_depth': trial.suggest_int('max_depth', 8, 50),\n",
    "        # 'num_leaves' : trial.suggest_int('num_leaves', 1, 50),\n",
    "        # 'min_child_samples': trial.suggest_int('min_child_samples', 1, 300),\n",
    "        # 'cat_smooth' : trial.suggest_int('min_data_per_groups', 1, 100)\n",
    "    }\n",
    "    model = XGBClassifier(**param)  \n",
    "    \n",
    "    model.fit(trainX, trainy)\n",
    "    y_pred = model.predict(testX)\n",
    "    \n",
    "    f1_s = f1_score(test_ref['전화해지여부'], y_pred)\n",
    "    acc_s = accuracy_score(test_ref['전화해지여부'], y_pred)\n",
    "    \n",
    "    return acc_s"
   ]
  },
  {
   "cell_type": "code",
   "execution_count": null,
   "id": "fbebf436-3bfd-4099-b574-a553f82b4a9c",
   "metadata": {},
   "outputs": [],
   "source": [
    "study = optuna.create_study(direction='maximize')\n",
    "\n",
    "study.optimize(objective_XGB, n_trials=50)\n",
    "print('Number of finished trials:', len(study.trials))\n",
    "print('Best trial:', study.best_trial.params)\n",
    "print('Best param:', study.best_params)\n",
    "print('Best Score:', study.best_trial.value)"
   ]
  },
  {
   "cell_type": "markdown",
   "id": "0bdeb169-f071-4806-a5a6-37555b3bf2f8",
   "metadata": {},
   "source": [
    "# 최종 학습 및 제출"
   ]
  },
  {
   "cell_type": "code",
   "execution_count": null,
   "id": "dc7360d7-8f18-44a0-97c6-abf4840ba3da",
   "metadata": {
    "tags": []
   },
   "outputs": [],
   "source": [
    "# 0.7645479655\n",
    "col_list = ['음성사서함이용', '상담전화건수', '가입기간년', '가입기간월', '가입월', '주간시간당요금', '저녁시간당요금',\n",
    "       '밤시간당요금', '월별총요금', '월별총횟수', '월별총시간', 'clu0', 'clu1']\n",
    "\n",
    "trainX = train[col_list]\n",
    "trainy= train['전화해지여부']\n",
    "testX = test[col_list]\n",
    "\n",
    "model= ExtraTreesClassifier(random_state=11)   # max_depth=8, \n",
    "\n",
    "model.fit(trainX, trainy)\n",
    "y_pred = model.predict(testX)\n",
    "\n",
    "# result = pd.read_csv('./datasets/sample_submission.csv')\n",
    "# result['전화해지여부'] = y_pred\n",
    "# result.to_csv('./submit_v3.csv', index=False)"
   ]
  },
  {
   "cell_type": "code",
   "execution_count": null,
   "id": "fa29794d-b0d6-409b-9669-e3ffc8d2278e",
   "metadata": {},
   "outputs": [],
   "source": [
    "# 0.800573548\n",
    "col_list = ['가입일', '음성사서함이용', '주간통화시간', '주간통화횟수', '주간통화요금', '저녁통화시간', '저녁통화횟수',\n",
    "       '저녁통화요금', '밤통화시간', '밤통화횟수', '밤통화요금', '상담전화건수']\n",
    "\n",
    "trainX = train[col_list]\n",
    "trainy= train['전화해지여부']\n",
    "testX = test[col_list]\n",
    "\n",
    "model= XGBClassifier(max_depth=30, n_estimators= 500, random_state=11)\n",
    "\n",
    "model.fit(trainX, trainy)\n",
    "y_pred = model.predict(testX)\n",
    "\n",
    "# result = pd.read_csv('./datasets/sample_submission.csv')\n",
    "# result['전화해지여부'] = y_pred\n",
    "# result.to_csv('./submit_v4.csv', index=False)"
   ]
  },
  {
   "cell_type": "code",
   "execution_count": null,
   "id": "a02db254-71ea-4570-aedb-fb8e00d9dc20",
   "metadata": {
    "tags": []
   },
   "outputs": [],
   "source": [
    "# 0.7970649856\n",
    "col_list = ['가입일', '음성사서함이용', '주간통화시간', '주간통화횟수', '주간통화요금', '저녁통화시간', '저녁통화횟수',\n",
    "       '저녁통화요금', '밤통화시간', '밤통화횟수', '밤통화요금', '상담전화건수', '월별총요금']\n",
    "\n",
    "trainX = train[col_list]\n",
    "trainy= train['전화해지여부']\n",
    "testX = test[col_list]\n",
    "\n",
    "model= XGBClassifier(max_depth=30, n_estimators= 500, random_state=11)\n",
    "\n",
    "model.fit(trainX, trainy)\n",
    "y_pred = model.predict(testX)\n",
    "\n",
    "# result = pd.read_csv('./datasets/sample_submission.csv')\n",
    "# result['전화해지여부'] = y_pred\n",
    "# result.to_csv('./submit_v6.csv', index=False)"
   ]
  },
  {
   "cell_type": "code",
   "execution_count": null,
   "id": "43debeab-f391-4b84-ab85-b9b6346ef188",
   "metadata": {
    "tags": []
   },
   "outputs": [],
   "source": [
    "# 0.8105938651\n",
    "col_list = ['가입일', '음성사서함이용', '주간통화시간', '주간통화횟수', '주간통화요금', '저녁통화시간', '저녁통화횟수',\n",
    "       '저녁통화요금', '밤통화시간', '밤통화횟수', '밤통화요금', '상담전화건수', '월별총요금']\n",
    "\n",
    "trainX = train[col_list]\n",
    "trainy= train['전화해지여부']\n",
    "testX = test[col_list]\n",
    "\n",
    "model= XGBClassifier(max_depth=10, n_estimators= 500, random_state=11)\n",
    "\n",
    "model.fit(trainX, trainy)\n",
    "y_pred = model.predict(testX)\n",
    "\n",
    "# result = pd.read_csv('./datasets/sample_submission.csv')\n",
    "# result['전화해지여부'] = y_pred\n",
    "# result.to_csv('./submit_v5.csv', index=False)"
   ]
  },
  {
   "cell_type": "code",
   "execution_count": null,
   "id": "3fc208e7-8815-4e42-b051-b98b420aa097",
   "metadata": {
    "tags": []
   },
   "outputs": [],
   "source": [
    "# SMOTETomek 0.503948187\n",
    "col_list = ['가입일', '음성사서함이용', '주간통화시간', '주간통화횟수', '주간통화요금', '저녁통화시간', '저녁통화횟수',\n",
    "       '저녁통화요금', '밤통화시간', '밤통화횟수', '밤통화요금', '상담전화건수', '월별총요금']\n",
    "\n",
    "trainX = train[col_list]\n",
    "trainy= train['전화해지여부']\n",
    "testX = test[col_list]\n",
    "\n",
    "model= ExtraTreesClassifier(max_depth=10, random_state=11)\n",
    "model.fit(trainX, trainy)\n",
    "y_pred = model.predict(testX)\n",
    "\n",
    "# result = pd.read_csv('./datasets/sample_submission.csv')\n",
    "# result['전화해지여부'] = y_pred\n",
    "# result.to_csv('./submit_v7.csv', index=False)"
   ]
  },
  {
   "cell_type": "code",
   "execution_count": null,
   "id": "32de7292-5fa6-40dd-acf1-86c5b4cca381",
   "metadata": {
    "tags": []
   },
   "outputs": [],
   "source": [
    "# SMOTETomek, 0.3, 0.806284928 \n",
    "\n",
    "col_list = ['가입일', '음성사서함이용', '주간통화시간', '주간통화횟수', '주간통화요금', '저녁통화시간', '저녁통화횟수',\n",
    "       '저녁통화요금', '밤통화시간', '밤통화횟수', '밤통화요금', '상담전화건수']\n",
    "\n",
    "trainX = train[col_list]\n",
    "trainy= train['전화해지여부']\n",
    "testX = test[col_list]\n",
    "\n",
    "model= XGBClassifier(max_depth=10, n_estimators= 500, random_state=11)\n",
    "\n",
    "model.fit(trainX, trainy)\n",
    "y_pred = model.predict(testX)\n",
    "\n",
    "# result = pd.read_csv('./datasets/sample_submission.csv')\n",
    "# result['전화해지여부'] = y_pred\n",
    "# result.to_csv('./submit_v8.csv', index=False)"
   ]
  },
  {
   "cell_type": "code",
   "execution_count": null,
   "id": "06df3565-397c-4a67-acab-00684f5e87c7",
   "metadata": {},
   "outputs": [],
   "source": [
    "# 0.80707148 -> 0.8258859784283513 (0.5) -> 0.840469874952 (0.7)\n",
    "# 0.8163424124 (0.3)\n",
    "# RandomOverSampling, 0.7\n",
    "\n",
    "col_list = ['가입일', '음성사서함이용', '주간통화시간', '주간통화횟수', '주간통화요금', '저녁통화시간', '저녁통화횟수',\n",
    "       '저녁통화요금', '밤통화시간', '밤통화횟수', '밤통화요금', '상담전화건수', '월별총요금']\n",
    "\n",
    "trainX = train[col_list]\n",
    "trainy= train['전화해지여부']\n",
    "testX = test[col_list]\n",
    "\n",
    "model= XGBClassifier(max_depth=10, n_estimators= 100, learning_rate=0.15,  random_state=11)\n",
    "\n",
    "model.fit(trainX, trainy)\n",
    "y_pred = model.predict(testX)\n",
    "\n",
    "test_ref = pd.read_csv('./ref_file/submit123456.csv')\n",
    "f1_s = f1_score(test_ref['전화해지여부'], y_pred)\n",
    "acc_s = accuracy_score(test_ref['전화해지여부'], y_pred)\n",
    "print(f1_s, acc_s)\n",
    "\n",
    "# result = pd.read_csv('./datasets/sample_submission.csv')\n",
    "# result['전화해지여부'] = y_pred\n",
    "# result.to_csv('./submit_v10.csv', index=False)\n"
   ]
  },
  {
   "cell_type": "code",
   "execution_count": null,
   "id": "c8733cc7-812f-4c71-8dfd-e96b59966c3a",
   "metadata": {},
   "outputs": [],
   "source": [
    "from sklearn.ensemble import StackingClassifier\n",
    "from sklearn.linear_model import LogisticRegression\n",
    "\n",
    "col_list = ['가입일', '음성사서함이용', '주간통화시간', '주간통화횟수', '주간통화요금', '저녁통화시간', '저녁통화횟수',\n",
    "       '저녁통화요금', '밤통화시간', '밤통화횟수', '밤통화요금', '상담전화건수', '월별총요금']\n",
    "\n",
    "trainX = train[col_list]\n",
    "trainy= train['전화해지여부']\n",
    "testX = test[col_list]\n",
    "\n",
    "estimators = [\n",
    "          ('xgb', XGBClassifier(max_depth=10, n_estimators= 100, learning_rate=0.15,  random_state=11)),\n",
    "          ('et', ExtraTreesClassifier(max_depth=30, max_leaf_nodes=4000, n_estimators= 100, bootstrap=True, random_state=11))\n",
    " ]\n",
    "\n",
    "clf = StackingClassifier(\n",
    "    estimators=estimators, final_estimator=LogisticRegression()\n",
    " )\n",
    "\n",
    "# model= ExtraTreesClassifier(max_depth=30, max_leaf_nodes=4000, n_estimators= 100, bootstrap=True, random_state=11)\n",
    "\n",
    "clf.fit(trainX, trainy)\n",
    "y_pred = clf.predict(testX)\n",
    "\n",
    "test_ref = pd.read_csv('./ref_file/submit123456.csv')\n",
    "f1_s = f1_score(test_ref['전화해지여부'], y_pred)\n",
    "acc_s = accuracy_score(test_ref['전화해지여부'], y_pred)\n",
    "print(f1_s, acc_s)\n",
    "\n",
    "# result = pd.read_csv('./datasets/sample_submission.csv')\n",
    "# result['전화해지여부'] = y_pred\n",
    "# result.to_csv('./submit_v10.csv', index=False)"
   ]
  },
  {
   "cell_type": "code",
   "execution_count": 7,
   "id": "404fc9d5-ec9e-4a12-8c3c-34db71dc0f49",
   "metadata": {
    "tags": []
   },
   "outputs": [
    {
     "name": "stdout",
     "output_type": "stream",
     "text": [
      "0.8773686092241688 0.9734991887506761\n"
     ]
    }
   ],
   "source": [
    "col_list = ['가입일', '음성사서함이용', '주간통화시간', '주간통화횟수', '주간통화요금', '저녁통화시간', '저녁통화횟수',\n",
    "       '저녁통화요금', '밤통화시간', '밤통화횟수', '밤통화요금', '상담전화건수', '월별총요금', '총시간당요금']\n",
    "\n",
    "trainX = train[col_list]\n",
    "trainy= train['전화해지여부']\n",
    "testX = test[col_list]\n",
    "\n",
    "model= XGBClassifier(max_depth=10, n_estimators= 100, learning_rate=0.15,  random_state=11)\n",
    "\n",
    "model.fit(trainX, trainy)\n",
    "y_pred = model.predict(testX)\n",
    "\n",
    "test_ref = pd.read_csv('./ref_file/submit123456.csv')\n",
    "f1_s = f1_score(test_ref['전화해지여부'], y_pred)\n",
    "acc_s = accuracy_score(test_ref['전화해지여부'], y_pred)\n",
    "print(f1_s, acc_s)\n",
    "\n",
    "# result = pd.read_csv('./datasets/sample_submission.csv')\n",
    "# result['전화해지여부'] = y_pred\n",
    "# result.to_csv('./submit_v11.csv', index=False)"
   ]
  }
 ],
 "metadata": {
  "kernelspec": {
   "display_name": "Python 3 (ipykernel)",
   "language": "python",
   "name": "python3"
  },
  "language_info": {
   "codemirror_mode": {
    "name": "ipython",
    "version": 3
   },
   "file_extension": ".py",
   "mimetype": "text/x-python",
   "name": "python",
   "nbconvert_exporter": "python",
   "pygments_lexer": "ipython3",
   "version": "3.8.8"
  }
 },
 "nbformat": 4,
 "nbformat_minor": 5
}
