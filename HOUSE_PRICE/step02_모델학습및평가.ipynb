{
 "cells": [
  {
   "cell_type": "markdown",
   "id": "bf79aeb2-c3c5-4d1a-b771-6523653340e3",
   "metadata": {},
   "source": [
    "<font size=6><b> House Prices - Advanced Regression Techniques\n",
    "* ref: https://www.kaggle.com/competitions/house-prices-advanced-regression-techniques/leaderboard"
   ]
  },
  {
   "cell_type": "code",
   "execution_count": 64,
   "id": "01c7092b-6f36-4598-9692-700617d965a6",
   "metadata": {
    "tags": []
   },
   "outputs": [],
   "source": [
    "import pandas as pd\n",
    "import numpy as np\n",
    "\n",
    "import matplotlib.pyplot as plt\n",
    "import seaborn as sns\n",
    "\n",
    "import warnings\n",
    "warnings.filterwarnings(action='ignore')\n",
    "\n",
    "sns.set() \n",
    "#-------------------- 차트 관련 속성 (한글처리, 그리드) -----------\n",
    "plt.rcParams['font.family']= 'Malgun Gothic'  # 한글 처리\n",
    "plt.rcParams['axes.unicode_minus'] = False  # -, $ 등등에 표현 특수기호로 버리지 말고 다 써줘라."
   ]
  },
  {
   "cell_type": "code",
   "execution_count": 65,
   "id": "e14fafb2-82e7-4912-b316-7f31da38974e",
   "metadata": {},
   "outputs": [],
   "source": [
    "from sklearn.preprocessing import StandardScaler, MinMaxScaler\n",
    "from sklearn.preprocessing import OneHotEncoder\n",
    "\n",
    "from sklearn.model_selection import train_test_split\n",
    "from sklearn.metrics import mean_squared_error\n",
    "\n",
    "from sklearn.linear_model import HuberRegressor, BayesianRidge\n",
    "from sklearn.ensemble import ExtraTreesRegressor\n",
    "from xgboost import XGBRegressor\n",
    "from lightgbm import LGBMRegressor\n",
    "from sklearn.ensemble import StackingRegressor\n",
    "from sklearn.svm import NuSVR"
   ]
  },
  {
   "cell_type": "markdown",
   "id": "d167dc7a-3ca8-4d6b-be56-0a0404356c77",
   "metadata": {},
   "source": [
    "# Data Load"
   ]
  },
  {
   "cell_type": "code",
   "execution_count": 66,
   "id": "8287f082-0f8f-4917-bbb3-410154bc6d1d",
   "metadata": {
    "tags": []
   },
   "outputs": [
    {
     "data": {
      "text/html": [
       "<div>\n",
       "<style scoped>\n",
       "    .dataframe tbody tr th:only-of-type {\n",
       "        vertical-align: middle;\n",
       "    }\n",
       "\n",
       "    .dataframe tbody tr th {\n",
       "        vertical-align: top;\n",
       "    }\n",
       "\n",
       "    .dataframe thead th {\n",
       "        text-align: right;\n",
       "    }\n",
       "</style>\n",
       "<table border=\"1\" class=\"dataframe\">\n",
       "  <thead>\n",
       "    <tr style=\"text-align: right;\">\n",
       "      <th></th>\n",
       "      <th>Id</th>\n",
       "      <th>MSSubClass</th>\n",
       "      <th>MSZoning</th>\n",
       "      <th>LotFrontage</th>\n",
       "      <th>LotArea</th>\n",
       "      <th>Street</th>\n",
       "      <th>Alley</th>\n",
       "      <th>LotShape</th>\n",
       "      <th>LandContour</th>\n",
       "      <th>Utilities</th>\n",
       "      <th>...</th>\n",
       "      <th>PoolArea</th>\n",
       "      <th>PoolQC</th>\n",
       "      <th>Fence</th>\n",
       "      <th>MiscFeature</th>\n",
       "      <th>MiscVal</th>\n",
       "      <th>MoSold</th>\n",
       "      <th>YrSold</th>\n",
       "      <th>SaleType</th>\n",
       "      <th>SaleCondition</th>\n",
       "      <th>SalePrice</th>\n",
       "    </tr>\n",
       "  </thead>\n",
       "  <tbody>\n",
       "    <tr>\n",
       "      <th>0</th>\n",
       "      <td>1</td>\n",
       "      <td>60</td>\n",
       "      <td>RL</td>\n",
       "      <td>65.0</td>\n",
       "      <td>8450</td>\n",
       "      <td>Pave</td>\n",
       "      <td>NaN</td>\n",
       "      <td>Reg</td>\n",
       "      <td>Lvl</td>\n",
       "      <td>AllPub</td>\n",
       "      <td>...</td>\n",
       "      <td>0</td>\n",
       "      <td>NaN</td>\n",
       "      <td>NaN</td>\n",
       "      <td>NaN</td>\n",
       "      <td>0</td>\n",
       "      <td>2</td>\n",
       "      <td>2008</td>\n",
       "      <td>WD</td>\n",
       "      <td>Normal</td>\n",
       "      <td>208500</td>\n",
       "    </tr>\n",
       "    <tr>\n",
       "      <th>1</th>\n",
       "      <td>2</td>\n",
       "      <td>20</td>\n",
       "      <td>RL</td>\n",
       "      <td>80.0</td>\n",
       "      <td>9600</td>\n",
       "      <td>Pave</td>\n",
       "      <td>NaN</td>\n",
       "      <td>Reg</td>\n",
       "      <td>Lvl</td>\n",
       "      <td>AllPub</td>\n",
       "      <td>...</td>\n",
       "      <td>0</td>\n",
       "      <td>NaN</td>\n",
       "      <td>NaN</td>\n",
       "      <td>NaN</td>\n",
       "      <td>0</td>\n",
       "      <td>5</td>\n",
       "      <td>2007</td>\n",
       "      <td>WD</td>\n",
       "      <td>Normal</td>\n",
       "      <td>181500</td>\n",
       "    </tr>\n",
       "    <tr>\n",
       "      <th>2</th>\n",
       "      <td>3</td>\n",
       "      <td>60</td>\n",
       "      <td>RL</td>\n",
       "      <td>68.0</td>\n",
       "      <td>11250</td>\n",
       "      <td>Pave</td>\n",
       "      <td>NaN</td>\n",
       "      <td>IR1</td>\n",
       "      <td>Lvl</td>\n",
       "      <td>AllPub</td>\n",
       "      <td>...</td>\n",
       "      <td>0</td>\n",
       "      <td>NaN</td>\n",
       "      <td>NaN</td>\n",
       "      <td>NaN</td>\n",
       "      <td>0</td>\n",
       "      <td>9</td>\n",
       "      <td>2008</td>\n",
       "      <td>WD</td>\n",
       "      <td>Normal</td>\n",
       "      <td>223500</td>\n",
       "    </tr>\n",
       "    <tr>\n",
       "      <th>3</th>\n",
       "      <td>4</td>\n",
       "      <td>70</td>\n",
       "      <td>RL</td>\n",
       "      <td>60.0</td>\n",
       "      <td>9550</td>\n",
       "      <td>Pave</td>\n",
       "      <td>NaN</td>\n",
       "      <td>IR1</td>\n",
       "      <td>Lvl</td>\n",
       "      <td>AllPub</td>\n",
       "      <td>...</td>\n",
       "      <td>0</td>\n",
       "      <td>NaN</td>\n",
       "      <td>NaN</td>\n",
       "      <td>NaN</td>\n",
       "      <td>0</td>\n",
       "      <td>2</td>\n",
       "      <td>2006</td>\n",
       "      <td>WD</td>\n",
       "      <td>Abnorml</td>\n",
       "      <td>140000</td>\n",
       "    </tr>\n",
       "    <tr>\n",
       "      <th>4</th>\n",
       "      <td>5</td>\n",
       "      <td>60</td>\n",
       "      <td>RL</td>\n",
       "      <td>84.0</td>\n",
       "      <td>14260</td>\n",
       "      <td>Pave</td>\n",
       "      <td>NaN</td>\n",
       "      <td>IR1</td>\n",
       "      <td>Lvl</td>\n",
       "      <td>AllPub</td>\n",
       "      <td>...</td>\n",
       "      <td>0</td>\n",
       "      <td>NaN</td>\n",
       "      <td>NaN</td>\n",
       "      <td>NaN</td>\n",
       "      <td>0</td>\n",
       "      <td>12</td>\n",
       "      <td>2008</td>\n",
       "      <td>WD</td>\n",
       "      <td>Normal</td>\n",
       "      <td>250000</td>\n",
       "    </tr>\n",
       "  </tbody>\n",
       "</table>\n",
       "<p>5 rows × 81 columns</p>\n",
       "</div>"
      ],
      "text/plain": [
       "   Id  MSSubClass MSZoning  LotFrontage  LotArea Street Alley LotShape  \\\n",
       "0   1          60       RL         65.0     8450   Pave   NaN      Reg   \n",
       "1   2          20       RL         80.0     9600   Pave   NaN      Reg   \n",
       "2   3          60       RL         68.0    11250   Pave   NaN      IR1   \n",
       "3   4          70       RL         60.0     9550   Pave   NaN      IR1   \n",
       "4   5          60       RL         84.0    14260   Pave   NaN      IR1   \n",
       "\n",
       "  LandContour Utilities  ... PoolArea PoolQC Fence MiscFeature MiscVal MoSold  \\\n",
       "0         Lvl    AllPub  ...        0    NaN   NaN         NaN       0      2   \n",
       "1         Lvl    AllPub  ...        0    NaN   NaN         NaN       0      5   \n",
       "2         Lvl    AllPub  ...        0    NaN   NaN         NaN       0      9   \n",
       "3         Lvl    AllPub  ...        0    NaN   NaN         NaN       0      2   \n",
       "4         Lvl    AllPub  ...        0    NaN   NaN         NaN       0     12   \n",
       "\n",
       "  YrSold  SaleType  SaleCondition  SalePrice  \n",
       "0   2008        WD         Normal     208500  \n",
       "1   2007        WD         Normal     181500  \n",
       "2   2008        WD         Normal     223500  \n",
       "3   2006        WD        Abnorml     140000  \n",
       "4   2008        WD         Normal     250000  \n",
       "\n",
       "[5 rows x 81 columns]"
      ]
     },
     "execution_count": 66,
     "metadata": {},
     "output_type": "execute_result"
    }
   ],
   "source": [
    "train = pd.read_csv('./datasets/train.csv')\n",
    "test = pd.read_csv('./datasets/test.csv')\n",
    "train.head()"
   ]
  },
  {
   "cell_type": "markdown",
   "id": "fe369a1c-e1b7-40ff-99af-10ea6a1638a5",
   "metadata": {},
   "source": [
    "# Drop ID"
   ]
  },
  {
   "cell_type": "code",
   "execution_count": 67,
   "id": "999e95d9-2c18-4120-8747-d76c1b1c57ff",
   "metadata": {
    "tags": []
   },
   "outputs": [],
   "source": [
    "train = train.drop('Id', axis=1)\n",
    "test = test.drop('Id', axis=1)"
   ]
  },
  {
   "cell_type": "markdown",
   "id": "f6288650-727f-4f0c-8715-ca5665d256c4",
   "metadata": {
    "tags": []
   },
   "source": [
    "# 결측처리"
   ]
  },
  {
   "cell_type": "code",
   "execution_count": 68,
   "id": "6c20b61a-ed00-4dd9-8f62-b25a560e382d",
   "metadata": {
    "tags": []
   },
   "outputs": [
    {
     "data": {
      "image/png": "[encoded data removed]",
      "text/plain": [
       "<Figure size 2000x1000 with 1 Axes>"
      ]
     },
     "metadata": {},
     "output_type": "display_data"
    }
   ],
   "source": [
    "# 컬럼별, 결측 값 개수 확인\n",
    "col_list = train.columns\n",
    "na_list = []\n",
    "for col in col_list:\n",
    "    na_list.append([col, train[train[col].isna()].shape[0]])\n",
    "    \n",
    "nadf = pd.DataFrame(na_list, columns=['col','num']).sort_values(by='num', ascending=False)\n",
    "nadf = nadf[nadf['num']!=0]\n",
    "plt.figure(figsize=(20, 10))\n",
    "sns.barplot(nadf, y='col', x='num')\n",
    "plt.show()"
   ]
  },
  {
   "cell_type": "code",
   "execution_count": 69,
   "id": "e4301e7f-55a2-49f7-9f68-114ed5ec2651",
   "metadata": {
    "tags": []
   },
   "outputs": [],
   "source": [
    "# 이상치가 많은 4개 Feature : PoolQC, MiscFeature, Alley, Fence\n",
    "\n",
    "# PoolQC, imbalance Data\n",
    "train['isPool'] = 0\n",
    "train['isPool'] = np.where(train['PoolArea']!=0, 1, 0)\n",
    "test['isPool'] = 0\n",
    "test['isPool'] = np.where(test['PoolArea']!=0, 1, 0)\n",
    "\n",
    "# MiscFeature, imbalance Data\n",
    "train['isShed'] = 0\n",
    "train['isShed'] = np.where(train['MiscFeature']=='Shed', 1, 0)\n",
    "test['isShed'] = 0\n",
    "test['isShed'] = np.where(test['MiscFeature']=='Shed', 1, 0)\n",
    "\n",
    "# Fence, imbalance Data\n",
    "train['isFence'] = 0\n",
    "train['isFence'] = np.where(train['Fence'].isna(), 0, 1)\n",
    "test['isFence'] = 0\n",
    "test['isFence'] = np.where(test['Fence'].isna(), 0, 1)\n",
    "\n",
    "# Alley, 결측이 많고 다른 Feature들과 다중공선, 컬럼 삭제\n",
    "train = train.drop(['PoolArea','PoolQC', 'MiscFeature', 'Fence', 'Alley'], axis=1)\n",
    "test = test.drop(['PoolArea','PoolQC', 'MiscFeature', 'Fence', 'Alley'], axis=1)"
   ]
  },
  {
   "cell_type": "code",
   "execution_count": 70,
   "id": "d67e666e-e58c-46c5-888a-f5332537ff86",
   "metadata": {
    "tags": []
   },
   "outputs": [],
   "source": [
    "# None 및 최빈값 처리\n",
    "col_list = [('GarageQual', 'GarageType'), ('GarageCond', 'GarageType'),\n",
    "            ('GarageFinish', 'GarageType'), ('MasVnrType', 'MasVnrArea')]\n",
    "\n",
    "for col1, col2 in col_list:\n",
    "    nan_idx = train[(train[col1].isna())&(train[col2].notna())].index.values\n",
    "    mode_v = train[col1].mode().values[0]\n",
    "    train.loc[nan_idx, col1] = mode_v\n",
    "    train[col1] = train[col1].fillna('None')\n",
    "    \n",
    "    nan_idx =test[(test[col1].isna())&(test[col2].notna())].index.values\n",
    "    mode_v = test[col1].mode().values[0]\n",
    "    test.loc[nan_idx, col1] = mode_v\n",
    "    test[col1] = test[col1].fillna('None')\n",
    "    \n",
    "# None 처리\n",
    "col_list = ['FireplaceQu', 'BsmtQual', 'BsmtExposure',  'MasVnrType', 'GarageType']\n",
    "for col in col_list:\n",
    "    train[col] = train[col].fillna('None')\n",
    "    test[col] = test[col].fillna('None')\n",
    "\n",
    "# 0 처리\n",
    "col_list = ['LotFrontage', 'MasVnrArea']\n",
    "for col in col_list: \n",
    "    train[col] = train[col].fillna(0)\n",
    "    test[col] = test[col].fillna(0)\n",
    "\n",
    "# 최빈값 처리, 'Electrical'\n",
    "train['Electrical'] = train['Electrical'].fillna(train['Electrical'].mode().values[0])\n",
    "test['Electrical'] = test['Electrical'].fillna(test['Electrical'].mode().values[0])\n",
    "\n",
    "# BsmtCond,  TotalBsmtSF\n",
    "train['BsmtCond'] = train['BsmtCond'].fillna('None')\n",
    "\n",
    "test['TotalBsmtSF'] = test['TotalBsmtSF'].fillna(0)\n",
    "nan_idx = test[(test['BsmtCond'].isna())&(test['TotalBsmtSF']!=0)].index.values\n",
    "mode_v = test['BsmtCond'].mode()\n",
    "test.loc[nan_idx, 'BsmtCond'] = mode_v.values[0]\n",
    "test['BsmtCond'] = test['BsmtCond'].fillna('None')\n",
    "\n",
    "# GarageYrBlt: YearBuilt로 결측처리\n",
    "garageNa_idx = train[train['GarageYrBlt'].isna()].index.values\n",
    "train.loc[garageNa_idx, 'GarageYrBlt'] = train.loc[garageNa_idx, 'YearBuilt']\n",
    "\n",
    "garageNa_idx = test[test['GarageYrBlt'].isna()].index.values\n",
    "test.loc[garageNa_idx, 'GarageYrBlt'] = test.loc[garageNa_idx, 'YearBuilt']\n",
    "\n",
    "# train['GarageYrBlt'] = train['GarageYrBlt'].fillna(0)\n",
    "# test['GarageYrBlt'] = test['GarageYrBlt'].fillna(0)"
   ]
  },
  {
   "cell_type": "code",
   "execution_count": 71,
   "id": "12fcc61f-6854-4e7f-abd4-b6e6f1334e9e",
   "metadata": {
    "tags": []
   },
   "outputs": [],
   "source": [
    "# 두개 합쳐서 Onehot encoding 'BsmtFinType1',  'BsmtFinType2'\n",
    "dum1 = pd.get_dummies(train['BsmtFinType1'])\n",
    "dum2 = pd.get_dummies(train['BsmtFinType2'])\n",
    "dum = dum1|dum2\n",
    "dum = dum.rename(columns = {'ALQ':'BsmtALQ','BLQ':'BsmtBLQ',\n",
    "                            'BLQ':'BsmtBLQ', 'LwQ':'BsmtLwQ', \n",
    "                            'Rec':'BsmtRec', 'Unf':'BsmtUnf'})\n",
    "train = pd.concat([train, dum], axis=1)\n",
    "train = train.drop(['BsmtFinType1','BsmtFinType2'], axis=1)\n",
    "\n",
    "dum1 = pd.get_dummies(test['BsmtFinType1'])\n",
    "dum2 = pd.get_dummies(test['BsmtFinType2'])\n",
    "dum = dum1|dum2\n",
    "dum = dum.rename(columns = {'ALQ':'BsmtALQ','BLQ':'BsmtBLQ',\n",
    "                            'BLQ':'BsmtBLQ', 'LwQ':'BsmtLwQ', \n",
    "                            'Rec':'BsmtRec', 'Unf':'BsmtUnf'})\n",
    "test = pd.concat([test, dum], axis=1)\n",
    "test = test.drop(['BsmtFinType1','BsmtFinType2'], axis=1)"
   ]
  },
  {
   "cell_type": "code",
   "execution_count": 72,
   "id": "e46b8c48-e1e3-4a99-a7cb-83aae6642d8e",
   "metadata": {
    "tags": []
   },
   "outputs": [],
   "source": [
    "# 추가 결측 처리\n",
    "\n",
    "# 수치형 데이터, 평균값 처리\n",
    "col_list = ['BsmtFullBath', 'BsmtHalfBath','BsmtUnfSF','BsmtFinSF2','BsmtFinSF1', \n",
    "            'GarageCars', 'GarageArea', 'TotalBsmtSF']\n",
    "for col in col_list:\n",
    "    train[col] = train[col].fillna(train[col].mean())\n",
    "    test[col] = test[col].fillna(test[col].mean())\n",
    "    \n",
    "# 이산형 데이터, mode값 처리\n",
    "col_list = ['MSZoning', 'Functional', 'Utilities','SaleType', 'KitchenQual', 'Exterior1st', 'Exterior2nd', 'BedroomAbvGr']\n",
    "for col in col_list:\n",
    "    train[col] = train[col].fillna(train[col].mode().values[0])\n",
    "    test[col] = test[col].fillna(test[col].mode().values[0])"
   ]
  },
  {
   "cell_type": "markdown",
   "id": "b99d9e06-c09e-4247-b85d-fd2d56e7295b",
   "metadata": {
    "tags": []
   },
   "source": [
    "# Object 처리"
   ]
  },
  {
   "cell_type": "code",
   "execution_count": 73,
   "id": "2ec43cc2-1ea6-4907-a9de-db8b29627a80",
   "metadata": {
    "tags": []
   },
   "outputs": [],
   "source": [
    "## Qual, Con Label처리 (12개 컬럼)\n",
    "col_list = ['KitchenQual','HeatingQC','FireplaceQu', 'ExterQual', \n",
    "            'ExterCond', 'BsmtQual', 'BsmtCond', 'GarageQual', 'GarageCond',\n",
    "           'HeatingQC', 'ExterQual', 'ExterCond']\n",
    "\n",
    "for col in col_list:\n",
    "    train[col] = train[col].replace(['Ex','Gd','TA','Fa','Po','None'],\n",
    "                                    [5, 4, 3, 2, 1, 0])\n",
    "    test[col] = test[col].replace(['Ex','Gd','TA','Fa','Po','None'],\n",
    "                                    [5, 4, 3, 2, 1, 0])\n",
    "\n",
    "train['LandSlope'] = train['LandSlope'].replace(['Gtl','Mod','Sev'],[1, 2, 3])\n",
    "test['LandSlope'] = test['LandSlope'].replace(['Gtl','Mod','Sev'],[1, 2, 3])\n",
    "\n",
    "train['BsmtExposure'] = train['BsmtExposure'].replace(['Gd','Av','Mn','No','None'],\n",
    "                                                      [4, 3, 2, 1, 0])\n",
    "test['BsmtExposure'] = test['BsmtExposure'].replace(['Gd','Av','Mn','No','None'],\n",
    "                                                      [4, 3, 2, 1, 0])\n",
    "\n",
    "train['PavedDrive'] = train['PavedDrive'].replace(['Y','P','N', 'None'],[3, 2, 1, 0])\n",
    "test['PavedDrive'] = test['PavedDrive'].replace(['Y','P','N', 'None'],[3, 2, 1, 0])\n",
    "\n",
    "train['LotShape'] = train['LotShape'].replace(['Reg','IR1','IR2','IR3'], [0, 1, 2, 3])\n",
    "test['LotShape'] = test['LotShape'].replace(['Reg','IR1','IR2','IR3'], [0, 1, 2, 3])\n",
    "\n",
    "\n",
    "train['Functional'] = train['Functional'].replace(['Min1','Min2','Mod','Maj1', 'Maj2', 'Sev','Sal'], \n",
    "                                                [7, 6, 5, 4, 3, 2, 1])\n",
    "test['Functional'] = test['Functional'].replace(['Min1','Min2','Mod','Maj1', 'Maj2', 'Sev','Sal'], \n",
    "                                                [7, 6, 5, 4, 3, 2, 1])"
   ]
  },
  {
   "cell_type": "code",
   "execution_count": 74,
   "id": "bd6c1b3f-d104-445c-9d6c-aee092a50474",
   "metadata": {
    "tags": []
   },
   "outputs": [],
   "source": [
    "# Condition1,  Condition1\n",
    "oh = OneHotEncoder(sparse=False)\n",
    "oh.fit(train['Condition1'].values.reshape(-1, 1))\n",
    "\n",
    "dum1 = oh.transform(train['Condition1'].values.reshape(-1, 1))\n",
    "dum2 = oh.transform(train['Condition2'].values.reshape(-1, 1))\n",
    "\n",
    "dum1 = dum1.astype(int)\n",
    "dum2 = dum2.astype(int)\n",
    "\n",
    "dum = dum1|dum2\n",
    "\n",
    "dumdf = pd.DataFrame(dum, columns= ['ConNorm', 'ConFeedr', 'ConPosN', 'ConArtery', \n",
    "                            'ConRRAe', 'ConRRNn', 'ConRRAn', 'ConPosA','ConRRNe'])\n",
    "\n",
    "train = pd.concat([train, dumdf], axis=1)\n",
    "train = train.drop(['Condition1','Condition2'], axis=1)\n",
    "\n",
    "dum1 = oh.transform(test['Condition1'].values.reshape(-1, 1))\n",
    "dum2 = oh.transform(test['Condition2'].values.reshape(-1, 1))\n",
    "\n",
    "dum1 = dum1.astype(int)\n",
    "dum2 = dum2.astype(int)\n",
    "\n",
    "dum = dum1|dum2\n",
    "\n",
    "dumdf = pd.DataFrame(dum, columns= ['ConNorm', 'ConFeedr', 'ConPosN', 'ConArtery', \n",
    "                            'ConRRAe', 'ConRRNn', 'ConRRAn', 'ConPosA','ConRRNe'])\n",
    "\n",
    "test = pd.concat([test, dumdf], axis=1)\n",
    "test = test.drop(['Condition1','Condition2'], axis=1)\n"
   ]
  },
  {
   "cell_type": "code",
   "execution_count": 75,
   "id": "007bdf4e-b9ff-473a-817e-6ecb0cd7659b",
   "metadata": {
    "tags": []
   },
   "outputs": [],
   "source": [
    "# Exterior1st, Exterior2nd\n",
    "# 주요 카테고리 \n",
    "# 'VinylSd', 'MetalSd' ('Wd Sdng', 'WdShing'), 'HdBoard', 'Plywood' and 'Other'\n",
    "train['Exterior1st'] = train['Exterior1st'].replace('Wd Sdng', 'WdShing')\n",
    "cidx = train[(train['Exterior1st']!= 'VinylSd')&(train['Exterior1st']!= 'MetalSd')&\n",
    "        (train['Exterior1st']!= 'WdShing')&(train['Exterior1st']!= 'HdBoard')&\n",
    "        (train['Exterior1st']!= 'Plywood')].index.values\n",
    "train.loc[cidx, 'Exterior1st'] = 'Other'\n",
    "\n",
    "test['Exterior1st'] = test['Exterior1st'].replace('Wd Sdng', 'WdShing')\n",
    "cidx = test[(test['Exterior1st']!= 'VinylSd')&(test['Exterior1st']!= 'MetalSd')&\n",
    "        (test['Exterior1st']!= 'WdShing')&(test['Exterior1st']!= 'HdBoard')&\n",
    "        (test['Exterior1st']!= 'Plywood')].index.values\n",
    "test.loc[cidx, 'Exterior1st'] = 'Other'\n",
    "\n",
    "train['Exterior2nd'] = train['Exterior2nd'].replace('Wd Sdng', 'WdShing')\n",
    "cidx = train[(train['Exterior2nd']!= 'VinylSd')&(train['Exterior2nd']!= 'MetalSd')&\n",
    "        (train['Exterior2nd']!= 'WdShing')&(train['Exterior2nd']!= 'HdBoard')&\n",
    "        (train['Exterior2nd']!= 'Plywood')].index.values\n",
    "train.loc[cidx, 'Exterior2nd'] = 'Other'\n",
    "\n",
    "test['Exterior2nd'] = test['Exterior2nd'].replace('Wd Sdng', 'WdShing')\n",
    "cidx = test[(test['Exterior2nd']!= 'VinylSd')&(test['Exterior2nd']!= 'MetalSd')&\n",
    "        (test['Exterior2nd']!= 'WdShing')&(test['Exterior2nd']!= 'HdBoard')&\n",
    "        (test['Exterior2nd']!= 'Plywood')].index.values\n",
    "test.loc[cidx, 'Exterior2nd'] = 'Other'\n",
    "\n",
    "\n",
    "dum1 = pd.get_dummies(train['Exterior1st'])\n",
    "dum2 = pd.get_dummies(train['Exterior2nd'])\n",
    "dum = dum1|dum2\n",
    "dum = dum.rename(columns = {'VinylSd':'ExtVinylSd','MetalSd':'ExtMetalSd',\n",
    "                            'HdBoard':'ExtHdBoard', 'Plywood':'ExtPlywood', \n",
    "                            'WdShing':'ExtWdShing', 'Other':'ExtOther'})\n",
    "train = pd.concat([train, dum], axis=1)\n",
    "train = train.drop(['Exterior1st','Exterior2nd'], axis=1)\n",
    "\n",
    "dum1 = pd.get_dummies(test['Exterior1st'])\n",
    "dum2 = pd.get_dummies(test['Exterior2nd'])\n",
    "dum = dum1|dum2\n",
    "dum = dum.rename(columns = {'VinylSd':'ExtVinylSd','MetalSd':'ExtMetalSd',\n",
    "                            'HdBoard':'ExtHdBoard', 'Plywood':'ExtPlywood', \n",
    "                            'WdShing':'ExtWdShing', 'Other':'ExtOther'})\n",
    "test = pd.concat([test, dum], axis=1)\n",
    "test = test.drop(['Exterior1st','Exterior2nd'], axis=1)"
   ]
  },
  {
   "cell_type": "code",
   "execution_count": 76,
   "id": "ec63d1a2-4cd1-4c0c-9cb1-3f2938e38688",
   "metadata": {},
   "outputs": [],
   "source": [
    "# MSZoning\n",
    "train['wPark'] = 0\n",
    "pidx = train[train['MSZoning']=='RP'].index.values\n",
    "train.loc[pidx, 'wPark'] = 1\n",
    "train.loc[pidx, 'MSZoning'] = 'RL'\n",
    "\n",
    "test['wPark'] = 0\n",
    "pidx = test[test['MSZoning']=='RP'].index.values\n",
    "test.loc[pidx, 'wPark'] = 1\n",
    "test.loc[pidx, 'MSZoning'] = 'RL'"
   ]
  },
  {
   "cell_type": "code",
   "execution_count": 77,
   "id": "33b5d030-2002-4e2f-9744-1d012bbd4e63",
   "metadata": {
    "tags": []
   },
   "outputs": [],
   "source": [
    "# Utilities\n",
    "# AllPub와 NoSeWa(1건)으로 구성됨.\n",
    "# But test data에는 AllPub 밖에 없음.\n",
    "# Train에서 NoSeWa(1건) drop하고 컬럼 삭제\n",
    "didx = train[train['Utilities']=='NoSeWa'].index.values\n",
    "train = train.drop(didx, axis=0)\n",
    "\n",
    "train = train.drop('Utilities', axis=1)\n",
    "test = test.drop('Utilities', axis=1)"
   ]
  },
  {
   "cell_type": "code",
   "execution_count": 78,
   "id": "11923bae-dada-4001-821f-92524643b5b1",
   "metadata": {
    "tags": []
   },
   "outputs": [],
   "source": [
    "# 'Electrical'\n",
    "# SBrkr, FuseABC, Mix(1건)인데, test에는 Mix가 없음\n",
    "# Mix(1건) drop\n",
    "didx = train[train['Electrical']=='Mix'].index.values\n",
    "train = train.drop(didx, axis=0)"
   ]
  },
  {
   "cell_type": "code",
   "execution_count": 79,
   "id": "f24be41b-2603-437e-9979-2eb2b2ff4243",
   "metadata": {},
   "outputs": [],
   "source": [
    "train['CentralAir'] = train['CentralAir'].replace(['Y', 'N'], [1, 0])\n",
    "test['CentralAir'] = test['CentralAir'].replace(['Y', 'N'], [1, 0])"
   ]
  },
  {
   "cell_type": "code",
   "execution_count": 80,
   "id": "bacf16eb-20e7-4cc8-95f1-3bb10619f671",
   "metadata": {
    "tags": []
   },
   "outputs": [],
   "source": [
    "# 카테고리별 불균형한 데이터들, Others로 묶었으나, 정보의 손실이 발생해서 오히려 성능이 떨어짐\n",
    "# Street Imbalance  \n",
    "# train['Street'] = train['Street'].replace(['Pave', 'Grvl'], [1, 0])\n",
    "# test['Street'] = test['Street'].replace(['Pave', 'Grvl'], [1, 0])\n",
    "\n",
    "# # RoofMatl Imbalance\n",
    "# cidx = train[(train['RoofMatl']=='CompShg')].index.values\n",
    "# train.loc[cidx, 'RoofMatl'] = 1\n",
    "# cidx = train[(train['RoofMatl']!=1)].index.values\n",
    "# train.loc[cidx, 'RoofMatl'] = 0\n",
    "# train['RoofMatl'] = train['RoofMatl'].astype('int')\n",
    "\n",
    "# cidx = test[(test['RoofMatl']=='CompShg')].index.values\n",
    "# test.loc[cidx, 'RoofMatl'] = 1\n",
    "# cidx = test[(test['RoofMatl']!=1)].index.values\n",
    "# test.loc[cidx, 'RoofMatl'] = 0\n",
    "# test['RoofMatl'] = test['RoofMatl'].astype('int')\n",
    "\n",
    "# # Heating Imbalance\n",
    "# cidx = train[(train['Heating']=='GasA')].index.values\n",
    "# train.loc[cidx, 'Heating'] = 1\n",
    "# cidx = train[(train['Heating']!=1)].index.values\n",
    "# train.loc[cidx, 'Heating'] = 0\n",
    "# train['Heating'] = train['Heating'].astype('int')\n",
    "\n",
    "# cidx = test[(test['Heating']=='GasA')].index.values\n",
    "# test.loc[cidx, 'Heating'] = 1\n",
    "# cidx = test[(test['Heating']!=1)].index.values\n",
    "# test.loc[cidx, 'Heating'] = 0\n",
    "# test['Heating'] = test['Heating'].astype('int')"
   ]
  },
  {
   "cell_type": "code",
   "execution_count": 81,
   "id": "997a40c8-eaf5-47c0-b03e-572aef0b5990",
   "metadata": {
    "tags": []
   },
   "outputs": [],
   "source": [
    "# Imbalance Data 처리\n",
    "# cidx = train[(train['RoofStyle']!='Gable')&(train['RoofStyle']!='Hip')].index.values\n",
    "# train.loc[cidx, 'RoofStyle'] = 'RoofOther'\n",
    "# cidx = test[(test['RoofStyle']!='Gable')&(test['RoofStyle']!='Hip')].index.values\n",
    "# test.loc[cidx, 'RoofStyle'] = 'RoofOther'\n",
    "\n",
    "# cidx = train[(train['Foundation']=='Slab')|(train['Foundation']=='Stone')|(train['Foundation']=='Wood')].index.values\n",
    "# train.loc[cidx, 'Foundation'] = 'FoundOther'\n",
    "# cidx = test[(test['Foundation']=='Slab')|(test['Foundation']=='Stone')|(test['Foundation']=='Wood')].index.values\n",
    "# test.loc[cidx, 'Foundation'] = 'FoundOther'\n",
    "\n",
    "# cidx = train[(train['Foundation']=='Slab')|(train['Foundation']=='Stone')|(train['Foundation']=='Wood')].index.values\n",
    "# train.loc[cidx, 'Foundation'] = 'FoundOther'\n",
    "# cidx = test[(test['Foundation']=='Slab')|(test['Foundation']=='Stone')|(test['Foundation']=='Wood')].index.values\n",
    "# test.loc[cidx, 'Foundation'] = 'FoundOther'\n",
    "\n",
    "# cidx = train[(train['GarageType']!='Attchd')&(train['GarageType']!='Detchd')\n",
    "#              &(train['GarageType']!='BuiltIn')&(train['GarageType']!='None')].index.values\n",
    "# train.loc[cidx, 'GarageType'] = 'GarageOther'\n",
    "\n",
    "# cidx = test[(test['GarageType']!='Attchd')&(test['GarageType']!='Detchd')\n",
    "#              &(test['GarageType']!='BuiltIn')&(test['GarageType']!='None')].index.values\n",
    "# test.loc[cidx, 'GarageType'] = 'GarageOther'"
   ]
  },
  {
   "cell_type": "code",
   "execution_count": 82,
   "id": "27fb3449-9a74-4afd-854b-f7d9471c778f",
   "metadata": {
    "tags": []
   },
   "outputs": [],
   "source": [
    "# get_dummies 처리\n",
    "lentrain = train.shape[0]\n",
    "col_list = ['MSZoning', 'LandContour', 'LotConfig', 'RoofStyle', 'MasVnrType', \n",
    "            'Foundation', 'GarageType', 'GarageFinish', 'SaleType', 'SaleCondition', 'BldgType', 'HouseStyle',\n",
    "           'MoSold', 'YrSold']\n",
    "totdf = pd.concat([train, test], axis=0)\n",
    "# totdf = pd.get_dummies(totdf, columns=col_list)\n",
    "totdf = pd.get_dummies(totdf)\n",
    "train = totdf[:lentrain]\n",
    "test = totdf[lentrain:]"
   ]
  },
  {
   "cell_type": "markdown",
   "id": "3aa1ffaa-d7c8-47cb-84fe-a5642ea0455e",
   "metadata": {},
   "source": [
    "# Featue Engineering"
   ]
  },
  {
   "cell_type": "markdown",
   "id": "e5935e47-a88b-4e25-85aa-f6f1fa17b16b",
   "metadata": {
    "tags": []
   },
   "source": [
    "## 유사 컬럼 확인"
   ]
  },
  {
   "cell_type": "code",
   "execution_count": 83,
   "id": "ce9c69b5-5b79-48ed-8222-b76ba5d99b95",
   "metadata": {
    "tags": []
   },
   "outputs": [
    {
     "name": "stdout",
     "output_type": "stream",
     "text": [
      "['BsmtFullBath' 'BsmtHalfBath' 'FullBath' 'HalfBath']\n",
      "['BsmtQual' 'BsmtCond' 'BsmtExposure' 'BsmtFinSF1' 'BsmtFinSF2'\n",
      " 'BsmtUnfSF' 'TotalBsmtSF' 'BsmtFullBath' 'BsmtHalfBath' 'BsmtALQ'\n",
      " 'BsmtBLQ' 'BsmtLwQ' 'BsmtRec' 'BsmtUnf']\n",
      "['GarageYrBlt' 'GarageCars' 'GarageArea' 'GarageQual' 'GarageCond'\n",
      " 'GarageType_2Types' 'GarageType_Attchd' 'GarageType_Basment'\n",
      " 'GarageType_BuiltIn' 'GarageType_CarPort' 'GarageType_Detchd'\n",
      " 'GarageType_None' 'GarageFinish_Fin' 'GarageFinish_None'\n",
      " 'GarageFinish_RFn' 'GarageFinish_Unf']\n"
     ]
    }
   ],
   "source": [
    "print(train.columns[train.columns.str.contains(\"Bath\", case=False)].values) # case는 대소문자 구분안하고 찾아주겠다.\n",
    "print(train.columns[train.columns.str.contains(\"Bsmt\", case=False)].values)\n",
    "print(train.columns[train.columns.str.contains(\"Garage\", case=False)].values) "
   ]
  },
  {
   "cell_type": "markdown",
   "id": "7ffc7e46-6810-400a-b9b3-ebd3cb855188",
   "metadata": {
    "tags": []
   },
   "source": [
    "## 부지 정보\n",
    "* 'Street','LotShape', 'LandSlope' : 영향도 적음. 삭제\n",
    "* YearBuilt, YearRemodAdd : 주요 Feauture 파생변수 생성 필요\n",
    "* OverallQual : 주요 Feature\n",
    "* OverallCond: OverallQual와 음의 상관관계"
   ]
  },
  {
   "cell_type": "code",
   "execution_count": 84,
   "id": "431b229c-afc4-49e4-b027-7a55ce4c53cc",
   "metadata": {},
   "outputs": [],
   "source": [
    "# 영향이 적은 Feature 삭제\n",
    "\n",
    "# col_list = ['Street','LotShape', 'LandSlope']\n",
    "# train = train.drop(col_list, axis=1)\n",
    "# test = test.drop(col_list, axis=1)"
   ]
  },
  {
   "cell_type": "code",
   "execution_count": 85,
   "id": "1ae24839-280b-46a6-8691-70d3b2cbea7a",
   "metadata": {},
   "outputs": [],
   "source": [
    "# cidx = train[train['MSZoning_RL'] ==1 ].index.values\n",
    "# train.loc[cidx, 'MSZoning_RM'] = 1\n",
    "\n",
    "# cidx = test[test['MSZoning_RL'] ==1].index.values\n",
    "# test.loc[cidx, 'MSZoning_RM'] = 1\n",
    "\n",
    "# droplist = ['MSZoning_RH', 'MSZoning_RL', \n",
    "# 'LandContour_Bnk','LandContour_Low','LandContour_Lvl','LotConfig_Corner','LotConfig_CulDSac','LotConfig_FR2','LotConfig_FR3','LotConfig_Inside',\n",
    "# 'SaleCondition_AdjLand','SaleCondition_Alloca','SaleCondition_Family',\n",
    "# 'BldgType_2fmCon','BldgType_Duplex','BldgType_TwnhsE',\n",
    "# 'HouseStyle_1.5Unf','HouseStyle_1Story','HouseStyle_2.5Fin','HouseStyle_2.5Unf','HouseStyle_SFoyer','HouseStyle_SLvl']\n",
    "\n",
    "# train = train.drop(droplist, axis=1)\n",
    "# test = test.drop(droplist, axis=1)"
   ]
  },
  {
   "cell_type": "markdown",
   "id": "26b2d4ac-897f-44e5-babc-17557c182887",
   "metadata": {},
   "source": [
    "## 주거지 구성 (재료)\n",
    "* FireplaceQu: Target 과 연관성 있음.\n",
    "* ExterCond+ ExterQual --> 파생 피쳐 생성\n",
    "* OpenPorchSF, 3SsnPorch, ScreenPorch --> TotPorch 파생피쳐 생성\n",
    "* EnclosedPorch \n",
    "* MiscVal, isShed, RoofMatl : 연관성 없음.\n",
    "* Foundation_PConc: Target과 연관성 있음.\n",
    "* MasVnrType_BrkFace(삭제) / MasVnrType_None -> 다중공선\n",
    "* Foundation_CBlock(삭제)/ Foundation_PConc -> 다중공선\n",
    "* RoofStyle_RoofOther, MasVnrType_BrkCmn, ExtPlywood, RoofStyle_Gable, RoofStyle_Hip"
   ]
  },
  {
   "cell_type": "code",
   "execution_count": 86,
   "id": "32ec1a46-8cc2-4445-abdb-6e785a5f331f",
   "metadata": {
    "tags": []
   },
   "outputs": [],
   "source": [
    "col_list = ['RoofStyle_Gable','RoofStyle_Hip','RoofStyle_RoofOther',\n",
    "            'MasVnrType_BrkCmn','MasVnrType_BrkFace','MasVnrType_None','MasVnrType_Stone',\n",
    "            'Foundation_BrkTil','Foundation_CBlock','Foundation_FoundOther','Foundation_PConc',\n",
    "            'ExtHdBoard','ExtMetalSd','ExtOther','ExtPlywood','ExtVinylSd','ExtWdShing', 'SalePrice']\n",
    "# report = pandas_profiling.ProfileReport(train[col_list])\n",
    "# report.to_file('./report_add_주거지구성2.html')"
   ]
  },
  {
   "cell_type": "code",
   "execution_count": 87,
   "id": "fc2ab6e7-875c-4ac7-85eb-aa4c6ba72ced",
   "metadata": {
    "tags": []
   },
   "outputs": [],
   "source": [
    "#  ExterCond+ ExterQual\n",
    "train['ExterConQual'] = train['ExterCond']+train['ExterQual']\n",
    "test['ExterConQual'] = test['ExterCond']+test['ExterQual']\n",
    "\n",
    "# col_list = ['ExterCond','ExterQual']\n",
    "# train = train.drop(col_list, axis=1)\n",
    "# test = test.drop(col_list, axis=1)"
   ]
  },
  {
   "cell_type": "code",
   "execution_count": 88,
   "id": "0675f56f-41fa-45d5-9bdb-e290714e257b",
   "metadata": {
    "tags": []
   },
   "outputs": [],
   "source": [
    "# Porch 개수\n",
    "train['TotPorch'] = train['OpenPorchSF']+train['EnclosedPorch']+train['3SsnPorch']+train['ScreenPorch']\n",
    "test['TotPorch'] = test['OpenPorchSF']+test['EnclosedPorch']+test['3SsnPorch']+test['ScreenPorch']\n",
    "\n",
    "# col_list = ['OpenPorchSF','3SsnPorch','ScreenPorch']\n",
    "# train = train.drop(col_list, axis=1)\n",
    "# test = test.drop(col_list, axis=1)"
   ]
  },
  {
   "cell_type": "code",
   "execution_count": 89,
   "id": "e151a975-1872-4182-9519-858271c14ee4",
   "metadata": {
    "tags": []
   },
   "outputs": [],
   "source": [
    "# 다중공선\n",
    "# col_list = ['Foundation_CBlock','MasVnrType_BrkFace']\n",
    "# train = train.drop(col_list, axis=1)\n",
    "# test = test.drop(col_list, axis=1)"
   ]
  },
  {
   "cell_type": "code",
   "execution_count": 90,
   "id": "43f0e7cd-7bf6-48dd-81ef-5adbd44cadea",
   "metadata": {
    "tags": []
   },
   "outputs": [],
   "source": [
    "# 영향도가 없는 Feature\n",
    "# col_list = ['MiscVal','isShed','RoofMatl', \n",
    "#             'RoofStyle_RoofOther', 'MasVnrType_BrkCmn', 'ExtPlywood', \n",
    "#             'RoofStyle_Gable', 'RoofStyle_Hip']\n",
    "# train = train.drop(col_list, axis=1)\n",
    "# test = test.drop(col_list, axis=1)"
   ]
  },
  {
   "cell_type": "markdown",
   "id": "c697045b-4546-4de8-a924-91222da96330",
   "metadata": {},
   "source": [
    "## 크기\n",
    "* TotRmsAbvGrd: 주요피쳐\n",
    "    * BedroomAbvGr 다중공선 -- > 삭제\n",
    "    * KitchenAbvGr : 연관성 없음 --> 삭제"
   ]
  },
  {
   "cell_type": "code",
   "execution_count": 91,
   "id": "1251db3b-92de-4ddc-8d44-6209ec230b72",
   "metadata": {
    "tags": []
   },
   "outputs": [],
   "source": [
    "train['TotSF'] = train['1stFlrSF']+train['2ndFlrSF']+train['LowQualFinSF']\n",
    "test['TotSF'] = test['1stFlrSF']+test['2ndFlrSF']+test['LowQualFinSF']\n",
    "\n",
    "# col_list = ['1stFlrSF','2ndFlrSF','LowQualFinSF']\n",
    "# train = train.drop(col_list, axis=1)\n",
    "# test = test.drop(col_list, axis=1)"
   ]
  },
  {
   "cell_type": "code",
   "execution_count": 92,
   "id": "83c030da-02be-4269-a6d8-e766bf7524ed",
   "metadata": {
    "tags": []
   },
   "outputs": [],
   "source": [
    "# col_list = ['BedroomAbvGr','KitchenAbvGr']\n",
    "# train = train.drop(col_list, axis=1)\n",
    "# test = test.drop(col_list, axis=1)"
   ]
  },
  {
   "cell_type": "markdown",
   "id": "b8b4b59d-2e8c-41df-a7a9-5277dc5961a5",
   "metadata": {},
   "source": [
    "## 차고지\n",
    "* 'GarageYrBlt': 준공년도와 다중공선, 제거\n",
    "* 'GarageArea': 주요 Feature\n",
    "    * 'GarageCars' : GarageArea와 다중공선, 제거\n",
    "* GarageQual/ GarageCond: 다중공선, 합쳐서 파생피쳐 생성 후 제거\n",
    "* 'GarageType_GarageOther': 연관성 없음. 제거\n",
    "* 'GarageType_None'/ 'GarageFinish_None' : GarageArea, GarageCond과 다중공선 제거."
   ]
  },
  {
   "cell_type": "code",
   "execution_count": 93,
   "id": "dd87afef-fcad-4bf9-a91b-74bba261d1a3",
   "metadata": {
    "tags": []
   },
   "outputs": [],
   "source": [
    "train['GarageQualCon'] = train['GarageQual']+train['GarageCond']\n",
    "test['GarageQualCon'] = test['GarageQual']+test['GarageCond']\n",
    "\n",
    "# train = train.drop(['GarageQual', 'GarageCond'], axis=1)\n",
    "# test = test.drop(['GarageQual', 'GarageCond'], axis=1)"
   ]
  },
  {
   "cell_type": "code",
   "execution_count": 94,
   "id": "fe40ce3c-1e36-44d8-bebe-b2b9c52ed8b4",
   "metadata": {},
   "outputs": [],
   "source": [
    "# 차고지 여부\n",
    "train['isGarage'] = np.where(train['GarageArea']!=0, 1, 0)\n",
    "test['isGarage'] = np.where(test['GarageArea']!=0, 1, 0)"
   ]
  },
  {
   "cell_type": "markdown",
   "id": "3b004c94-adf5-483e-8072-6df6dbf47325",
   "metadata": {
    "tags": []
   },
   "source": [
    "## 지하실\n",
    "* TotalBsmtSF: 주요 피쳐\n",
    "    * BsmtFinSF1, BsmtFinSF2, BsmtUnfSF -> 연관성도 없고, 다중공선 삭제\n",
    "* BsmtQual + BsmtCond --> 파생피쳐 생성\n",
    "* 'BsmtExposure', 'BsmtALQ','BsmtBLQ','BsmtLwQ','BsmtRec','BsmtUnf' -> 모두 연관성 없음. 삭제"
   ]
  },
  {
   "cell_type": "code",
   "execution_count": 95,
   "id": "4be92060-e4b0-4ada-965e-f2fc00f53413",
   "metadata": {
    "tags": []
   },
   "outputs": [],
   "source": [
    "train['BsmtQualCon'] = train['BsmtQual']+ train['BsmtCond']\n",
    "test['BsmtQualCon'] = test['BsmtQual']+ test['BsmtCond']\n",
    "\n",
    "# drop_list = ['BsmtQual', 'BsmtCond']\n",
    "# train = train.drop(drop_list, axis=1)\n",
    "# test = test.drop(drop_list, axis=1)"
   ]
  },
  {
   "cell_type": "code",
   "execution_count": 96,
   "id": "5561ab0c-2609-47d5-8489-66e75e179b2f",
   "metadata": {
    "tags": []
   },
   "outputs": [],
   "source": [
    "# drop_list = ['BsmtFinSF1', 'BsmtFinSF2', 'BsmtUnfSF', 'BsmtExposure','BsmtALQ',\n",
    "#             'BsmtBLQ','BsmtLwQ','BsmtRec','BsmtUnf']\n",
    "# train = train.drop(drop_list, axis=1)\n",
    "# test = test.drop(drop_list, axis=1)"
   ]
  },
  {
   "cell_type": "markdown",
   "id": "881b7c74-1774-496a-901e-bfaed83b8d88",
   "metadata": {},
   "source": [
    "## 욕실"
   ]
  },
  {
   "cell_type": "code",
   "execution_count": 97,
   "id": "aeefe44f-77cf-40b7-a669-9fa503127ba1",
   "metadata": {
    "tags": []
   },
   "outputs": [],
   "source": [
    "# 토탈 bath\n",
    "train['totbath'] = train['BsmtFullBath']+train['FullBath']+(train['BsmtHalfBath']/2)+(train['HalfBath']/2)\n",
    "test['totbath'] = test['BsmtFullBath']+test['FullBath']+(test['BsmtHalfBath']/2)+(test['HalfBath']/2)\n",
    "\n",
    "# drop_list = ['BsmtFullBath', 'FullBath', 'BsmtHalfBath', 'HalfBath']\n",
    "# train = train.drop(drop_list, axis=1)\n",
    "# test = test.drop(drop_list, axis=1)\n",
    "\n",
    "# train['BsmtTotbath'] = train['BsmtFullBath']+(train['BsmtHalfBath']/2)\n",
    "# train['UpperTotBath'] = train['FullBath']+(train['HalfBath']/2)\n",
    "\n",
    "# test['BsmtTotbath'] = test['BsmtFullBath']+(test['BsmtHalfBath']/2)\n",
    "# test['UpperTotBath'] = test['FullBath']+(test['HalfBath']/2)"
   ]
  },
  {
   "cell_type": "markdown",
   "id": "072cba73-7df9-41ec-be83-2959298bcd75",
   "metadata": {
    "tags": []
   },
   "source": [
    "## 파생변수 생성"
   ]
  },
  {
   "cell_type": "code",
   "execution_count": 98,
   "id": "fd1679da-57f6-41f2-9459-f63e642f3981",
   "metadata": {
    "tags": []
   },
   "outputs": [],
   "source": [
    "# 전용면적\n",
    "train['AreaPerRoom'] = train['GrLivArea']/(train['BedroomAbvGr']+train['KitchenAbvGr']+train['TotRmsAbvGrd']+train['totbath'])\n",
    "test['AreaPerRoom'] = test['GrLivArea']/(test['BedroomAbvGr']+test['KitchenAbvGr']+test['TotRmsAbvGrd']+test['totbath'])"
   ]
  },
  {
   "cell_type": "markdown",
   "id": "8548090f-049d-4a4b-948b-b50d91833e1e",
   "metadata": {
    "tags": []
   },
   "source": [
    "# Scaling\n",
    "* Feature Scaling을 했을 때, 오히려 성능이 안 좋아짐"
   ]
  },
  {
   "cell_type": "code",
   "execution_count": 99,
   "id": "5946d19d-1571-48f2-b3bd-23895287cc94",
   "metadata": {
    "tags": []
   },
   "outputs": [],
   "source": [
    "mxdf = train.max()\n",
    "num_collist = mxdf[mxdf>10].index.values\n",
    "num_collist = np.delete(num_collist, np.where(num_collist=='SalePrice')[0][0])\n",
    "\n",
    "lentrain = train.shape[0]\n",
    "totdf = pd.concat([train, test], axis=0)\n",
    "\n",
    "# ss = StandardScaler()\n",
    "# totdf[num_collist] = ss.fit_transform(totdf[num_collist])\n",
    "totdf[num_collist] = np.log1p(totdf[num_collist] )\n",
    "\n",
    "train = totdf[:lentrain]\n",
    "test = totdf[lentrain:]"
   ]
  },
  {
   "cell_type": "markdown",
   "id": "1621df1f-1746-4e4f-b66b-f5e81304cbe6",
   "metadata": {
    "tags": []
   },
   "source": [
    "# Outlier 확인"
   ]
  },
  {
   "cell_type": "code",
   "execution_count": 100,
   "id": "863fe028-ddb8-4983-8648-83613e66880b",
   "metadata": {
    "tags": []
   },
   "outputs": [
    {
     "name": "stdout",
     "output_type": "stream",
     "text": [
      "iqr 5.1298987149230735\n",
      "Outliers: 0\n"
     ]
    },
    {
     "data": {
      "text/plain": [
       "array([], dtype=int64)"
      ]
     },
     "execution_count": 100,
     "metadata": {},
     "output_type": "execute_result"
    }
   ],
   "source": [
    "# num_collist = [ 'LotFrontage', 'LotArea', 'OverallQual',\n",
    "#        'OverallCond', 'MasVnrArea', 'TotalBsmtSF',\n",
    "#         'GrLivArea', 'Fireplaces','GarageArea', 'WoodDeckSF',\n",
    "#        'EnclosedPorch', 'totbath', 'TotPorch', 'TotYear', 'TotSF', 'TotRmsAbvGrd'] \n",
    "\n",
    "def iqr_outliers(df):\n",
    "    q1 = df.quantile(0.25)\n",
    "    q3 = df.quantile(0.75)\n",
    "    iqr = q3-q1\n",
    "    print(f\"iqr {iqr}\")\n",
    "    Lower_tail = q1 - 8 * iqr\n",
    "    Upper_tail = q3 + 8 * iqr\n",
    "    \n",
    "    outl = df[(df>Upper_tail)|(df<Lower_tail)].index.values\n",
    "\n",
    "    print(\"Outliers:\", len(outl))\n",
    "    return outl\n",
    "\n",
    "iqr_outliers(train['WoodDeckSF'])"
   ]
  },
  {
   "cell_type": "code",
   "execution_count": 101,
   "id": "51764da5-ddbc-4809-b790-4a924a0ce10c",
   "metadata": {
    "tags": []
   },
   "outputs": [],
   "source": [
    "outlist = [ 934, 1298, 335, 375, 53,  384,  451,  457,  661,  706,  769,  848, 1298, 1396, 297]\n",
    "train = train.drop(outlist, axis=0)"
   ]
  },
  {
   "cell_type": "code",
   "execution_count": 102,
   "id": "7483973e-7bf7-4da2-bbde-ef8f93574e97",
   "metadata": {
    "tags": []
   },
   "outputs": [],
   "source": [
    "train = train.drop('EnclosedPorch', axis=1)\n",
    "test = test.drop('EnclosedPorch', axis=1)"
   ]
  },
  {
   "cell_type": "markdown",
   "id": "48e0fb09-c624-4dbd-9810-a487c6269227",
   "metadata": {},
   "source": [
    "# Top Corrlation Feaute 분리"
   ]
  },
  {
   "cell_type": "code",
   "execution_count": 103,
   "id": "18529384-1f45-4dcb-bd5a-50958f48ecfe",
   "metadata": {
    "tags": []
   },
   "outputs": [],
   "source": [
    "# temp = train.corr()['SalePrice']\n",
    "# Corr_col = pd.DataFrame(temp.abs()).sort_values(by='SalePrice', ascending=False).index.values\n",
    "# Top_col = Corr_col[:100]\n",
    "# train = train[Top_col]\n",
    "# Top_col = Corr_col[1:100]\n",
    "# test = test[Top_col]"
   ]
  },
  {
   "cell_type": "markdown",
   "id": "350b7912-abb6-404b-b5cf-c724bd3880f0",
   "metadata": {
    "tags": []
   },
   "source": [
    "# Model Selection"
   ]
  },
  {
   "cell_type": "code",
   "execution_count": 114,
   "id": "36d27617-1150-4335-928c-a82121d9e742",
   "metadata": {},
   "outputs": [
    {
     "name": "stdout",
     "output_type": "stream",
     "text": [
      "Baye : 0.1156  24840.6242\n",
      "SVR : 0.1277  27401.6145\n",
      "ETR : 0.1323  30160.9334\n",
      "LGBM : 0.1286  27551.3549\n",
      "XGB : 0.1311  27936.8642\n"
     ]
    }
   ],
   "source": [
    "trainy = train['SalePrice']\n",
    "trainy_log = np.log1p(trainy)\n",
    "trainX = train.drop('SalePrice', axis=1)\n",
    "\n",
    "model_list = [  (\"Baye\"  , BayesianRidge()),\n",
    "                (\"SVR\"  , NuSVR()),\n",
    "                (\"ETR\"   , ExtraTreesRegressor(random_state=11)),\n",
    "                (\"LGBM\"   , LGBMRegressor(random_state=11)),\n",
    "                (\"XGB\"   , XGBRegressor(random_state=11))\n",
    "             ]\n",
    "\n",
    "for tpl in model_list :\n",
    "    model = tpl[1] \n",
    "\n",
    "    X_train, X_test, y_train, y_test = train_test_split(trainX, trainy_log, random_state=11, test_size=0.2)\n",
    "    model.fit(X_train, y_train)\n",
    "    y_pred = model.predict(X_test)\n",
    "    \n",
    "    mse1 = mean_squared_error(y_test, y_pred)\n",
    "\n",
    "    y_test = np.expm1(y_test)\n",
    "    y_pred = np.expm1(y_pred)\n",
    "    \n",
    "    mse2 = mean_squared_error(y_test, y_pred)\n",
    "\n",
    "    print(f\"{tpl[0]} : {mse1**(1/2):.4f}  {mse2**(1/2):.4f}\")"
   ]
  },
  {
   "cell_type": "code",
   "execution_count": 115,
   "id": "30f04541-259e-462b-a027-f278ec582c9d",
   "metadata": {},
   "outputs": [
    {
     "name": "stdout",
     "output_type": "stream",
     "text": [
      "0.1137  24810.2558\n"
     ]
    }
   ],
   "source": [
    "trainy = train['SalePrice']\n",
    "trainy_log = np.log1p(trainy)\n",
    "trainX = train.drop('SalePrice', axis=1)\n",
    "\n",
    "estimators = [  (\"Baye\"  , BayesianRidge()),\n",
    "                (\"ETR\"   , ExtraTreesRegressor(random_state=11)),\n",
    "                (\"LGBM\"   , LGBMRegressor(random_state=11))\n",
    "             ]\n",
    "\n",
    "reg = StackingRegressor(\n",
    "    estimators=estimators,\n",
    "     final_estimator=HuberRegressor())\n",
    "\n",
    "X_train, X_test, y_train, y_test = train_test_split(trainX, trainy_log, random_state=11, test_size=0.2)\n",
    "\n",
    "reg.fit(X_train, y_train)\n",
    "y_pred = reg.predict(X_test)\n",
    "\n",
    "mse1 = mean_squared_error(y_test, y_pred)\n",
    "\n",
    "y_test = np.expm1(y_test)\n",
    "y_pred = np.expm1(y_pred)\n",
    "\n",
    "mse2 = mean_squared_error(y_test, y_pred)\n",
    "\n",
    "print(f\"{mse1**(1/2):.4f}  {mse2**(1/2):.4f}\")"
   ]
  },
  {
   "cell_type": "markdown",
   "id": "4266fd97-a998-4e0a-b721-4f30b3d10ee9",
   "metadata": {},
   "source": [
    "# Model Tuning "
   ]
  },
  {
   "cell_type": "code",
   "execution_count": 106,
   "id": "96c7dcc3-8ae2-497b-a218-3f4df3e6a4f2",
   "metadata": {
    "tags": []
   },
   "outputs": [],
   "source": [
    "import optuna"
   ]
  },
  {
   "cell_type": "code",
   "execution_count": 107,
   "id": "8bb30f9b-10c9-4611-8052-03f2a2ed928c",
   "metadata": {
    "tags": []
   },
   "outputs": [],
   "source": [
    "trainy = train['SalePrice']\n",
    "trainy_log = np.log1p(trainy)\n",
    "trainX = train.drop('SalePrice', axis=1)\n",
    "\n",
    "X_train, X_test, y_train, y_test = train_test_split(trainX, trainy_log, random_state=11, test_size=0.2)\n",
    "\n",
    "def objective_LGB(trial, X_train=X_train, X_test=X_test, y_train=y_train, y_test=y_test):\n",
    "    param = {\n",
    "        'random_state': 11,\n",
    "        'n_estimators':  trial.suggest_int('n_estimators', 80, 500), #100,\n",
    "        # 'reg_alpha': trial.suggest_loguniform('reg_alpha', 1e-3, 10.0),\n",
    "        # 'reg_lambda': trial.suggest_loguniform('reg_lambda', 1e-3, 10.0),\n",
    "        # 'colsample_bytree': trial.suggest_categorical('colsample_bytree', [0.3,0.4,0.5,0.6,0.7,0.8,0.9, 1.0]),\n",
    "        # 'subsample': trial.suggest_categorical('subsample', [0.4,0.5,0.6,0.7,0.8,1.0]),\n",
    "        'learning_rate': trial.suggest_loguniform('learning_rate', 1e-3, 0.5), # 'learning_rate': 0.1\n",
    "        'max_depth': trial.suggest_int('max_depth', 8, 50),\n",
    "         'num_leaves' : trial.suggest_int('num_leaves', 2, 50),\n",
    "        # 'min_child_samples': trial.suggest_int('min_child_samples', 1, 300),\n",
    "        # 'cat_smooth' : trial.suggest_int('min_data_per_groups', 1, 100)\n",
    "    }\n",
    "    model = LGBMRegressor(**param)  \n",
    "    \n",
    "    model.fit(X_train, y_train)\n",
    "    y_pred = model.predict(X_test)\n",
    "    \n",
    "    mse1 = mean_squared_error(y_test, y_pred)\n",
    "    \n",
    "    return mse1"
   ]
  },
  {
   "cell_type": "code",
   "execution_count": 108,
   "id": "63bdda0c-0300-4e4f-bcd6-cb2e4d82c8c1",
   "metadata": {},
   "outputs": [],
   "source": [
    "# study = optuna.create_study(direction='minimize')\n",
    "\n",
    "# study.optimize(objective_LGB, n_trials=50)\n",
    "# print('Number of finished trials:', len(study.trials))\n",
    "# print('Best trial:', study.best_trial.params)\n",
    "# print('Best param:', study.best_params)\n",
    "# print('Best Score:', study.best_trial.value)"
   ]
  },
  {
   "cell_type": "code",
   "execution_count": 109,
   "id": "150223dc-7821-40cd-a4d0-8c96a7cb4cc0",
   "metadata": {
    "tags": []
   },
   "outputs": [],
   "source": [
    "trainy = train['SalePrice']\n",
    "trainy_log = np.log1p(trainy)\n",
    "trainX = train.drop('SalePrice', axis=1)\n",
    "\n",
    "X_train, X_test, y_train, y_test = train_test_split(trainX, trainy_log, random_state=11, test_size=0.2)\n",
    "\n",
    "def objective_Bayes(trial, X_train=X_train, X_test=X_test, y_train=y_train, y_test=y_test):\n",
    "    param = {\n",
    "        'n_iter':  trial.suggest_int('n_iter', 200, 700), #100,\n",
    "        'alpha_1': trial.suggest_float('alpha_1', 1e-7, 1e-4),\n",
    "        'alpha_2': trial.suggest_float('alpha_2', 1e-7, 1e-4),\n",
    "        'lambda_1': trial.suggest_float('lambda_1', 1e-7, 1e-4),\n",
    "        'lambda_2': trial.suggest_float('lambda_2', 1e-7, 1e-4),\n",
    "    }\n",
    "    model = BayesianRidge(**param)  \n",
    "    \n",
    "    model.fit(X_train, y_train)\n",
    "    y_pred = model.predict(X_test)\n",
    "    \n",
    "    mse1 = mean_squared_error(y_test, y_pred)\n",
    "    \n",
    "    return mse1"
   ]
  },
  {
   "cell_type": "code",
   "execution_count": 110,
   "id": "9bf89eb5-e1b1-4275-85c5-0fd474220bd8",
   "metadata": {
    "tags": []
   },
   "outputs": [],
   "source": [
    "# study = optuna.create_study(direction='minimize')\n",
    "\n",
    "# study.optimize(objective_Bayes, n_trials=50)\n",
    "# print('Number of finished trials:', len(study.trials))\n",
    "# print('Best trial:', study.best_trial.params)\n",
    "# print('Best param:', study.best_params)\n",
    "# print('Best Score:', study.best_trial.value)"
   ]
  },
  {
   "cell_type": "code",
   "execution_count": 111,
   "id": "1d7675eb-4628-43b8-bda5-8e33d065878c",
   "metadata": {
    "tags": []
   },
   "outputs": [],
   "source": [
    "trainy = train['SalePrice']\n",
    "trainy_log = np.log1p(trainy)\n",
    "trainX = train.drop('SalePrice', axis=1)\n",
    "\n",
    "X_train, X_test, y_train, y_test = train_test_split(trainX, trainy_log, random_state=11, test_size=0.2)\n",
    "\n",
    "def objective_EXTR(trial, X_train=X_train, X_test=X_test, y_train=y_train, y_test=y_test):\n",
    "    param = {\n",
    "        'random_state': 11,\n",
    "        'n_estimators':  trial.suggest_int('n_estimators', 80, 500), #100,\n",
    "        'max_depth': trial.suggest_int('max_depth', 8, 50),\n",
    "         'max_leaf_nodes' : trial.suggest_int('num_leaves', 2, 50),\n",
    "    }\n",
    "    model = ExtraTreesRegressor(**param)  \n",
    "    \n",
    "    model.fit(X_train, y_train)\n",
    "    y_pred = model.predict(X_test)\n",
    "    \n",
    "    mse1 = mean_squared_error(y_test, y_pred)\n",
    "    \n",
    "    return mse1"
   ]
  },
  {
   "cell_type": "code",
   "execution_count": 112,
   "id": "fab7b9fb-26e9-499a-a998-0459099eac92",
   "metadata": {
    "tags": []
   },
   "outputs": [],
   "source": [
    "# study = optuna.create_study(direction='minimize')\n",
    "\n",
    "# study.optimize(objective_EXTR, n_trials=30)\n",
    "# print('Number of finished trials:', len(study.trials))\n",
    "# print('Best trial:', study.best_trial.params)\n",
    "# print('Best param:', study.best_params)\n",
    "# print('Best Score:', study.best_trial.value)"
   ]
  },
  {
   "cell_type": "markdown",
   "id": "86aee248-f3fb-4dfb-91ad-bff90febefe6",
   "metadata": {},
   "source": [
    "# 최종 학습 및 평가"
   ]
  },
  {
   "cell_type": "code",
   "execution_count": 113,
   "id": "da69e72b-7ae2-4106-a8c2-52ae12b4c2e0",
   "metadata": {
    "tags": []
   },
   "outputs": [],
   "source": [
    "trainy = train['SalePrice']\n",
    "trainy_log = np.log1p(trainy)\n",
    "trainX = train.drop('SalePrice', axis=1)\n",
    "test = test.drop('SalePrice', axis=1)\n",
    "\n",
    "estimators = [  (\"Baye\"  , BayesianRidge(n_iter= 663, alpha_1= 3.519076933239126e-05, alpha_2= 8.199870768948816e-05, lambda_1= 9.402838063784392e-05, lambda_2= 1.1032284861890882e-07)),\n",
    "                (\"ETR\"   , ExtraTreesRegressor(n_estimators= 172, max_depth= 25, random_state=11)),\n",
    "                (\"LGBM\"   , LGBMRegressor(n_estimators= 181, learning_rate= 0.04801700658735743, max_depth= 46, num_leaves= 26, random_state=11))\n",
    "             ]\n",
    "\n",
    "reg = StackingRegressor(\n",
    "    estimators=estimators,\n",
    "     final_estimator=HuberRegressor())\n",
    "\n",
    "reg.fit(trainX, trainy_log)\n",
    "y_pred = reg.predict(test)\n",
    "\n",
    "y_pred = np.expm1(y_pred)\n",
    "\n",
    "result = pd.read_csv('./datasets/sample_submission.csv')\n",
    "result['SalePrice'] = y_pred\n",
    "# result.to_csv('./submit.csv', index=False)"
   ]
  }
 ],
 "metadata": {
  "kernelspec": {
   "display_name": "Python 3 (ipykernel)",
   "language": "python",
   "name": "python3"
  },
  "language_info": {
   "codemirror_mode": {
    "name": "ipython",
    "version": 3
   },
   "file_extension": ".py",
   "mimetype": "text/x-python",
   "name": "python",
   "nbconvert_exporter": "python",
   "pygments_lexer": "ipython3",
   "version": "3.8.8"
  }
 },
 "nbformat": 4,
 "nbformat_minor": 5
}
